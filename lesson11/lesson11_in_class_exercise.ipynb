{
 "cells": [
  {
   "cell_type": "code",
   "execution_count": 1,
   "metadata": {
    "run_control": {
     "marked": true
    }
   },
   "outputs": [
    {
     "data": {
      "text/html": [
       "<html><script type=\"math/tex; mode=display\">\\newcommand{\\Bold}[1]{\\mathbf{#1}}\\verb|A|\\phantom{\\verb!x!}\\verb|=| \\left(\\begin{array}{rr}\n",
       "3 & -2 \\\\\n",
       "-3 & 1 \\\\\n",
       "-1 & 4\n",
       "\\end{array}\\right)</script></html>"
      ],
      "text/plain": [
       "'A = ' [ 3 -2]\n",
       "[-3  1]\n",
       "[-1  4]"
      ]
     },
     "metadata": {},
     "output_type": "display_data"
    },
    {
     "data": {
      "text/html": [
       "<html><script type=\"math/tex; mode=display\">\\newcommand{\\Bold}[1]{\\mathbf{#1}}\\verb|b|\\phantom{\\verb!x!}\\verb|=| \\left(\\begin{array}{r}\n",
       "6 \\\\\n",
       "1 \\\\\n",
       "9\n",
       "\\end{array}\\right)</script></html>"
      ],
      "text/plain": [
       "'b = ' [6]\n",
       "[1]\n",
       "[9]"
      ]
     },
     "metadata": {},
     "output_type": "display_data"
    }
   ],
   "source": [
    "%display latex\n",
    "A = Matrix([[3,-2], [-3, 1], [-1,4]]); show('A = ', A)\n",
    "b = vector([6,1,9]); show('b = ', b.column())"
   ]
  },
  {
   "cell_type": "code",
   "execution_count": 2,
   "metadata": {},
   "outputs": [
    {
     "data": {
      "text/html": [
       "<html><script type=\"math/tex; mode=display\">\\newcommand{\\Bold}[1]{\\mathbf{#1}}\\verb|Pseudo|\\phantom{\\verb!x!}\\verb|inverse|\\phantom{\\verb!x!}\\verb|matrix:| \\left(\\begin{array}{rrr}\n",
       "\\frac{37}{230} & -\\frac{5}{23} & \\frac{31}{230} \\\\\n",
       "\\frac{1}{230} & -\\frac{2}{23} & \\frac{63}{230}\n",
       "\\end{array}\\right)</script></html>"
      ],
      "text/plain": [
       "'Pseudo inverse matrix: ' [37/230  -5/23 31/230]\n",
       "[ 1/230  -2/23 63/230]"
      ]
     },
     "metadata": {},
     "output_type": "display_data"
    },
    {
     "data": {
      "text/html": [
       "<html><script type=\"math/tex; mode=display\">\\newcommand{\\Bold}[1]{\\mathbf{#1}}\\verb|x|\\phantom{\\verb!x!}\\verb|=| \\left(\\frac{451}{230},\\,\\frac{553}{230}\\right) \\phantom{\\verb!x!}\\verb|=| \\left(1.96,\\,2.40\\right)</script></html>"
      ],
      "text/plain": [
       "'x = ' (451/230, 553/230) ' = ' (1.96, 2.40)"
      ]
     },
     "metadata": {},
     "output_type": "display_data"
    }
   ],
   "source": [
    "AT = A.transpose()\n",
    "pseudo_inverse = (AT * A).inverse()*AT\n",
    "show('Pseudo inverse matrix: ', pseudo_inverse)\n",
    "x = pseudo_inverse*b\n",
    "show('x = ', x, ' = ', n(x, digits=3))"
   ]
  },
  {
   "cell_type": "code",
   "execution_count": 3,
   "metadata": {},
   "outputs": [
    {
     "data": {
      "text/html": [
       "<html><script type=\"math/tex; mode=display\">\\newcommand{\\Bold}[1]{\\mathbf{#1}}46.1</script></html>"
      ],
      "text/plain": [
       "46.1"
      ]
     },
     "execution_count": 3,
     "metadata": {},
     "output_type": "execute_result"
    }
   ],
   "source": [
    "n((A*x - b).norm()^2, digits=3)"
   ]
  },
  {
   "cell_type": "code",
   "execution_count": 4,
   "metadata": {},
   "outputs": [
    {
     "data": {
      "text/html": [
       "<html><script type=\"math/tex; mode=display\">\\newcommand{\\Bold}[1]{\\mathbf{#1}}\\left(0.286,\\,0.357\\right)</script></html>"
      ],
      "text/plain": [
       "(0.286, 0.357)"
      ]
     },
     "execution_count": 4,
     "metadata": {},
     "output_type": "execute_result"
    }
   ],
   "source": [
    "X = Matrix([[1, 2],\n",
    "            [1, 5],\n",
    "            [1, 7],\n",
    "            [1, 8]])\n",
    "y = vector([1, 2, 3, 3])\n",
    "beta = (X.transpose()*X).inverse()*X.transpose() * y\n",
    "n(beta, digits=3)"
   ]
  },
  {
   "cell_type": "code",
   "execution_count": 5,
   "metadata": {},
   "outputs": [
    {
     "data": {
      "text/html": [
       "<html><script type=\"math/tex; mode=display\">\\newcommand{\\Bold}[1]{\\mathbf{#1}}\\left(\\begin{array}{r}\n",
       "1 \\\\\n",
       "1 \\\\\n",
       "1 \\\\\n",
       "1 \\\\\n",
       "1 \\\\\n",
       "1\n",
       "\\end{array}\\right)</script></html>"
      ],
      "text/plain": [
       "[1]\n",
       "[1]\n",
       "[1]\n",
       "[1]\n",
       "[1]\n",
       "[1]"
      ]
     },
     "metadata": {},
     "output_type": "display_data"
    },
    {
     "data": {
      "text/html": [
       "<html><script type=\"math/tex; mode=display\">\\newcommand{\\Bold}[1]{\\mathbf{#1}}\\left(\\begin{array}{rrrrrr}\n",
       "1 & 1 & 1 & 1 & 1 & 1\n",
       "\\end{array}\\right)</script></html>"
      ],
      "text/plain": [
       "[1 1 1 1 1 1]"
      ]
     },
     "metadata": {},
     "output_type": "display_data"
    },
    {
     "data": {
      "text/html": [
       "<html><script type=\"math/tex; mode=display\">\\newcommand{\\Bold}[1]{\\mathbf{#1}}\\left(\\begin{array}{r}\n",
       "6\n",
       "\\end{array}\\right)</script></html>"
      ],
      "text/plain": [
       "[6]"
      ]
     },
     "metadata": {},
     "output_type": "display_data"
    },
    {
     "data": {
      "text/html": [
       "<html><script type=\"math/tex; mode=display\">\\newcommand{\\Bold}[1]{\\mathbf{#1}}6</script></html>"
      ],
      "text/plain": [
       "6"
      ]
     },
     "metadata": {},
     "output_type": "display_data"
    },
    {
     "name": "stdout",
     "output_type": "stream",
     "text": [
      "0 order fitting resulted in the following coefficients((5.17)) with a residual of 6.39\n"
     ]
    },
    {
     "data": {
      "text/html": [
       "<html><script type=\"math/tex; mode=display\">\\newcommand{\\Bold}[1]{\\mathbf{#1}}\\left(\\begin{array}{rr}\n",
       "1 & 0 \\\\\n",
       "1 & 1 \\\\\n",
       "1 & 2 \\\\\n",
       "1 & 3 \\\\\n",
       "1 & 4 \\\\\n",
       "1 & 5\n",
       "\\end{array}\\right)</script></html>"
      ],
      "text/plain": [
       "[1 0]\n",
       "[1 1]\n",
       "[1 2]\n",
       "[1 3]\n",
       "[1 4]\n",
       "[1 5]"
      ]
     },
     "metadata": {},
     "output_type": "display_data"
    },
    {
     "data": {
      "text/html": [
       "<html><script type=\"math/tex; mode=display\">\\newcommand{\\Bold}[1]{\\mathbf{#1}}\\left(\\begin{array}{rrrrrr}\n",
       "1 & 1 & 1 & 1 & 1 & 1 \\\\\n",
       "0 & 1 & 2 & 3 & 4 & 5\n",
       "\\end{array}\\right)</script></html>"
      ],
      "text/plain": [
       "[1 1 1 1 1 1]\n",
       "[0 1 2 3 4 5]"
      ]
     },
     "metadata": {},
     "output_type": "display_data"
    },
    {
     "data": {
      "text/html": [
       "<html><script type=\"math/tex; mode=display\">\\newcommand{\\Bold}[1]{\\mathbf{#1}}\\left(\\begin{array}{rr}\n",
       "6 & 15 \\\\\n",
       "15 & 55\n",
       "\\end{array}\\right)</script></html>"
      ],
      "text/plain": [
       "[ 6 15]\n",
       "[15 55]"
      ]
     },
     "metadata": {},
     "output_type": "display_data"
    },
    {
     "data": {
      "text/html": [
       "<html><script type=\"math/tex; mode=display\">\\newcommand{\\Bold}[1]{\\mathbf{#1}}105</script></html>"
      ],
      "text/plain": [
       "105"
      ]
     },
     "metadata": {},
     "output_type": "display_data"
    },
    {
     "name": "stdout",
     "output_type": "stream",
     "text": [
      "1 order fitting resulted in the following coefficients((2.81, 0.943)) with a residual of 5.03\n"
     ]
    },
    {
     "data": {
      "text/html": [
       "<html><script type=\"math/tex; mode=display\">\\newcommand{\\Bold}[1]{\\mathbf{#1}}\\left(\\begin{array}{rrr}\n",
       "1 & 0 & 0 \\\\\n",
       "1 & 1 & 1 \\\\\n",
       "1 & 2 & 4 \\\\\n",
       "1 & 3 & 9 \\\\\n",
       "1 & 4 & 16 \\\\\n",
       "1 & 5 & 25\n",
       "\\end{array}\\right)</script></html>"
      ],
      "text/plain": [
       "[ 1  0  0]\n",
       "[ 1  1  1]\n",
       "[ 1  2  4]\n",
       "[ 1  3  9]\n",
       "[ 1  4 16]\n",
       "[ 1  5 25]"
      ]
     },
     "metadata": {},
     "output_type": "display_data"
    },
    {
     "data": {
      "text/html": [
       "<html><script type=\"math/tex; mode=display\">\\newcommand{\\Bold}[1]{\\mathbf{#1}}\\left(\\begin{array}{rrrrrr}\n",
       "1 & 1 & 1 & 1 & 1 & 1 \\\\\n",
       "0 & 1 & 2 & 3 & 4 & 5 \\\\\n",
       "0 & 1 & 4 & 9 & 16 & 25\n",
       "\\end{array}\\right)</script></html>"
      ],
      "text/plain": [
       "[ 1  1  1  1  1  1]\n",
       "[ 0  1  2  3  4  5]\n",
       "[ 0  1  4  9 16 25]"
      ]
     },
     "metadata": {},
     "output_type": "display_data"
    },
    {
     "data": {
      "text/html": [
       "<html><script type=\"math/tex; mode=display\">\\newcommand{\\Bold}[1]{\\mathbf{#1}}\\left(\\begin{array}{rrr}\n",
       "6 & 15 & 55 \\\\\n",
       "15 & 55 & 225 \\\\\n",
       "55 & 225 & 979\n",
       "\\end{array}\\right)</script></html>"
      ],
      "text/plain": [
       "[  6  15  55]\n",
       "[ 15  55 225]\n",
       "[ 55 225 979]"
      ]
     },
     "metadata": {},
     "output_type": "display_data"
    },
    {
     "data": {
      "text/html": [
       "<html><script type=\"math/tex; mode=display\">\\newcommand{\\Bold}[1]{\\mathbf{#1}}3920</script></html>"
      ],
      "text/plain": [
       "3920"
      ]
     },
     "metadata": {},
     "output_type": "display_data"
    },
    {
     "name": "stdout",
     "output_type": "stream",
     "text": [
      "2 order fitting resulted in the following coefficients((2.75, 1.03, -0.0179)) with a residual of 5.03\n"
     ]
    },
    {
     "data": {
      "text/html": [
       "<html><script type=\"math/tex; mode=display\">\\newcommand{\\Bold}[1]{\\mathbf{#1}}\\left(\\begin{array}{rrrr}\n",
       "1 & 0 & 0 & 0 \\\\\n",
       "1 & 1 & 1 & 1 \\\\\n",
       "1 & 2 & 4 & 8 \\\\\n",
       "1 & 3 & 9 & 27 \\\\\n",
       "1 & 4 & 16 & 64 \\\\\n",
       "1 & 5 & 25 & 125\n",
       "\\end{array}\\right)</script></html>"
      ],
      "text/plain": [
       "[  1   0   0   0]\n",
       "[  1   1   1   1]\n",
       "[  1   2   4   8]\n",
       "[  1   3   9  27]\n",
       "[  1   4  16  64]\n",
       "[  1   5  25 125]"
      ]
     },
     "metadata": {},
     "output_type": "display_data"
    },
    {
     "data": {
      "text/html": [
       "<html><script type=\"math/tex; mode=display\">\\newcommand{\\Bold}[1]{\\mathbf{#1}}\\left(\\begin{array}{rrrrrr}\n",
       "1 & 1 & 1 & 1 & 1 & 1 \\\\\n",
       "0 & 1 & 2 & 3 & 4 & 5 \\\\\n",
       "0 & 1 & 4 & 9 & 16 & 25 \\\\\n",
       "0 & 1 & 8 & 27 & 64 & 125\n",
       "\\end{array}\\right)</script></html>"
      ],
      "text/plain": [
       "[  1   1   1   1   1   1]\n",
       "[  0   1   2   3   4   5]\n",
       "[  0   1   4   9  16  25]\n",
       "[  0   1   8  27  64 125]"
      ]
     },
     "metadata": {},
     "output_type": "display_data"
    },
    {
     "data": {
      "text/html": [
       "<html><script type=\"math/tex; mode=display\">\\newcommand{\\Bold}[1]{\\mathbf{#1}}\\left(\\begin{array}{rrrr}\n",
       "6 & 15 & 55 & 225 \\\\\n",
       "15 & 55 & 225 & 979 \\\\\n",
       "55 & 225 & 979 & 4425 \\\\\n",
       "225 & 979 & 4425 & 20515\n",
       "\\end{array}\\right)</script></html>"
      ],
      "text/plain": [
       "[    6    15    55   225]\n",
       "[   15    55   225   979]\n",
       "[   55   225   979  4425]\n",
       "[  225   979  4425 20515]"
      ]
     },
     "metadata": {},
     "output_type": "display_data"
    },
    {
     "data": {
      "text/html": [
       "<html><script type=\"math/tex; mode=display\">\\newcommand{\\Bold}[1]{\\mathbf{#1}}254016</script></html>"
      ],
      "text/plain": [
       "254016"
      ]
     },
     "metadata": {},
     "output_type": "display_data"
    },
    {
     "name": "stdout",
     "output_type": "stream",
     "text": [
      "3 order fitting resulted in the following coefficients((1.00, 9.02, -4.39, 0.583)) with a residual of 1.79\n"
     ]
    },
    {
     "data": {
      "text/html": [
       "<html><script type=\"math/tex; mode=display\">\\newcommand{\\Bold}[1]{\\mathbf{#1}}\\left(\\begin{array}{rrrrr}\n",
       "1 & 0 & 0 & 0 & 0 \\\\\n",
       "1 & 1 & 1 & 1 & 1 \\\\\n",
       "1 & 2 & 4 & 8 & 16 \\\\\n",
       "1 & 3 & 9 & 27 & 81 \\\\\n",
       "1 & 4 & 16 & 64 & 256 \\\\\n",
       "1 & 5 & 25 & 125 & 625\n",
       "\\end{array}\\right)</script></html>"
      ],
      "text/plain": [
       "[  1   0   0   0   0]\n",
       "[  1   1   1   1   1]\n",
       "[  1   2   4   8  16]\n",
       "[  1   3   9  27  81]\n",
       "[  1   4  16  64 256]\n",
       "[  1   5  25 125 625]"
      ]
     },
     "metadata": {},
     "output_type": "display_data"
    },
    {
     "data": {
      "text/html": [
       "<html><script type=\"math/tex; mode=display\">\\newcommand{\\Bold}[1]{\\mathbf{#1}}\\left(\\begin{array}{rrrrrr}\n",
       "1 & 1 & 1 & 1 & 1 & 1 \\\\\n",
       "0 & 1 & 2 & 3 & 4 & 5 \\\\\n",
       "0 & 1 & 4 & 9 & 16 & 25 \\\\\n",
       "0 & 1 & 8 & 27 & 64 & 125 \\\\\n",
       "0 & 1 & 16 & 81 & 256 & 625\n",
       "\\end{array}\\right)</script></html>"
      ],
      "text/plain": [
       "[  1   1   1   1   1   1]\n",
       "[  0   1   2   3   4   5]\n",
       "[  0   1   4   9  16  25]\n",
       "[  0   1   8  27  64 125]\n",
       "[  0   1  16  81 256 625]"
      ]
     },
     "metadata": {},
     "output_type": "display_data"
    },
    {
     "data": {
      "text/html": [
       "<html><script type=\"math/tex; mode=display\">\\newcommand{\\Bold}[1]{\\mathbf{#1}}\\left(\\begin{array}{rrrrr}\n",
       "6 & 15 & 55 & 225 & 979 \\\\\n",
       "15 & 55 & 225 & 979 & 4425 \\\\\n",
       "55 & 225 & 979 & 4425 & 20515 \\\\\n",
       "225 & 979 & 4425 & 20515 & 96825 \\\\\n",
       "979 & 4425 & 20515 & 96825 & 462979\n",
       "\\end{array}\\right)</script></html>"
      ],
      "text/plain": [
       "[     6     15     55    225    979]\n",
       "[    15     55    225    979   4425]\n",
       "[    55    225    979   4425  20515]\n",
       "[   225    979   4425  20515  96825]\n",
       "[   979   4425  20515  96825 462979]"
      ]
     },
     "metadata": {},
     "output_type": "display_data"
    },
    {
     "data": {
      "text/html": [
       "<html><script type=\"math/tex; mode=display\">\\newcommand{\\Bold}[1]{\\mathbf{#1}}20901888</script></html>"
      ],
      "text/plain": [
       "20901888"
      ]
     },
     "metadata": {},
     "output_type": "display_data"
    },
    {
     "name": "stdout",
     "output_type": "stream",
     "text": [
      "4 order fitting resulted in the following coefficients((0.893, 10.8, -6.31, 1.21, -0.0625)) with a residual of 1.70\n"
     ]
    },
    {
     "data": {
      "text/html": [
       "<html><script type=\"math/tex; mode=display\">\\newcommand{\\Bold}[1]{\\mathbf{#1}}\\left(\\begin{array}{rrrrrr}\n",
       "1 & 0 & 0 & 0 & 0 & 0 \\\\\n",
       "1 & 1 & 1 & 1 & 1 & 1 \\\\\n",
       "1 & 2 & 4 & 8 & 16 & 32 \\\\\n",
       "1 & 3 & 9 & 27 & 81 & 243 \\\\\n",
       "1 & 4 & 16 & 64 & 256 & 1024 \\\\\n",
       "1 & 5 & 25 & 125 & 625 & 3125\n",
       "\\end{array}\\right)</script></html>"
      ],
      "text/plain": [
       "[   1    0    0    0    0    0]\n",
       "[   1    1    1    1    1    1]\n",
       "[   1    2    4    8   16   32]\n",
       "[   1    3    9   27   81  243]\n",
       "[   1    4   16   64  256 1024]\n",
       "[   1    5   25  125  625 3125]"
      ]
     },
     "metadata": {},
     "output_type": "display_data"
    },
    {
     "data": {
      "text/html": [
       "<html><script type=\"math/tex; mode=display\">\\newcommand{\\Bold}[1]{\\mathbf{#1}}\\left(\\begin{array}{rrrrrr}\n",
       "1 & 1 & 1 & 1 & 1 & 1 \\\\\n",
       "0 & 1 & 2 & 3 & 4 & 5 \\\\\n",
       "0 & 1 & 4 & 9 & 16 & 25 \\\\\n",
       "0 & 1 & 8 & 27 & 64 & 125 \\\\\n",
       "0 & 1 & 16 & 81 & 256 & 625 \\\\\n",
       "0 & 1 & 32 & 243 & 1024 & 3125\n",
       "\\end{array}\\right)</script></html>"
      ],
      "text/plain": [
       "[   1    1    1    1    1    1]\n",
       "[   0    1    2    3    4    5]\n",
       "[   0    1    4    9   16   25]\n",
       "[   0    1    8   27   64  125]\n",
       "[   0    1   16   81  256  625]\n",
       "[   0    1   32  243 1024 3125]"
      ]
     },
     "metadata": {},
     "output_type": "display_data"
    },
    {
     "data": {
      "text/html": [
       "<html><script type=\"math/tex; mode=display\">\\newcommand{\\Bold}[1]{\\mathbf{#1}}\\left(\\begin{array}{rrrrrr}\n",
       "6 & 15 & 55 & 225 & 979 & 4425 \\\\\n",
       "15 & 55 & 225 & 979 & 4425 & 20515 \\\\\n",
       "55 & 225 & 979 & 4425 & 20515 & 96825 \\\\\n",
       "225 & 979 & 4425 & 20515 & 96825 & 462979 \\\\\n",
       "979 & 4425 & 20515 & 96825 & 462979 & 2235465 \\\\\n",
       "4425 & 20515 & 96825 & 462979 & 2235465 & 10874275\n",
       "\\end{array}\\right)</script></html>"
      ],
      "text/plain": [
       "[       6       15       55      225      979     4425]\n",
       "[      15       55      225      979     4425    20515]\n",
       "[      55      225      979     4425    20515    96825]\n",
       "[     225      979     4425    20515    96825   462979]\n",
       "[     979     4425    20515    96825   462979  2235465]\n",
       "[    4425    20515    96825   462979  2235465 10874275]"
      ]
     },
     "metadata": {},
     "output_type": "display_data"
    },
    {
     "data": {
      "text/html": [
       "<html><script type=\"math/tex; mode=display\">\\newcommand{\\Bold}[1]{\\mathbf{#1}}1194393600</script></html>"
      ],
      "text/plain": [
       "1194393600"
      ]
     },
     "metadata": {},
     "output_type": "display_data"
    },
    {
     "name": "stdout",
     "output_type": "stream",
     "text": [
      "5 order fitting resulted in the following coefficients((1.00, -1.73, 15.2, -11.0, 2.75, -0.225)) with a residual of 0.000\n"
     ]
    },
    {
     "data": {
      "text/html": [
       "<html><script type=\"math/tex; mode=display\">\\newcommand{\\Bold}[1]{\\mathbf{#1}}\\left(\\begin{array}{rrrrrrr}\n",
       "1 & 0 & 0 & 0 & 0 & 0 & 0 \\\\\n",
       "1 & 1 & 1 & 1 & 1 & 1 & 1 \\\\\n",
       "1 & 2 & 4 & 8 & 16 & 32 & 64 \\\\\n",
       "1 & 3 & 9 & 27 & 81 & 243 & 729 \\\\\n",
       "1 & 4 & 16 & 64 & 256 & 1024 & 4096 \\\\\n",
       "1 & 5 & 25 & 125 & 625 & 3125 & 15625\n",
       "\\end{array}\\right)</script></html>"
      ],
      "text/plain": [
       "[    1     0     0     0     0     0     0]\n",
       "[    1     1     1     1     1     1     1]\n",
       "[    1     2     4     8    16    32    64]\n",
       "[    1     3     9    27    81   243   729]\n",
       "[    1     4    16    64   256  1024  4096]\n",
       "[    1     5    25   125   625  3125 15625]"
      ]
     },
     "metadata": {},
     "output_type": "display_data"
    },
    {
     "data": {
      "text/html": [
       "<html><script type=\"math/tex; mode=display\">\\newcommand{\\Bold}[1]{\\mathbf{#1}}\\left(\\begin{array}{rrrrrr}\n",
       "1 & 1 & 1 & 1 & 1 & 1 \\\\\n",
       "0 & 1 & 2 & 3 & 4 & 5 \\\\\n",
       "0 & 1 & 4 & 9 & 16 & 25 \\\\\n",
       "0 & 1 & 8 & 27 & 64 & 125 \\\\\n",
       "0 & 1 & 16 & 81 & 256 & 625 \\\\\n",
       "0 & 1 & 32 & 243 & 1024 & 3125 \\\\\n",
       "0 & 1 & 64 & 729 & 4096 & 15625\n",
       "\\end{array}\\right)</script></html>"
      ],
      "text/plain": [
       "[    1     1     1     1     1     1]\n",
       "[    0     1     2     3     4     5]\n",
       "[    0     1     4     9    16    25]\n",
       "[    0     1     8    27    64   125]\n",
       "[    0     1    16    81   256   625]\n",
       "[    0     1    32   243  1024  3125]\n",
       "[    0     1    64   729  4096 15625]"
      ]
     },
     "metadata": {},
     "output_type": "display_data"
    },
    {
     "data": {
      "text/html": [
       "<html><script type=\"math/tex; mode=display\">\\newcommand{\\Bold}[1]{\\mathbf{#1}}\\left(\\begin{array}{rrrrrrr}\n",
       "6 & 15 & 55 & 225 & 979 & 4425 & 20515 \\\\\n",
       "15 & 55 & 225 & 979 & 4425 & 20515 & 96825 \\\\\n",
       "55 & 225 & 979 & 4425 & 20515 & 96825 & 462979 \\\\\n",
       "225 & 979 & 4425 & 20515 & 96825 & 462979 & 2235465 \\\\\n",
       "979 & 4425 & 20515 & 96825 & 462979 & 2235465 & 10874275 \\\\\n",
       "4425 & 20515 & 96825 & 462979 & 2235465 & 10874275 & 53201625 \\\\\n",
       "20515 & 96825 & 462979 & 2235465 & 10874275 & 53201625 & 261453379\n",
       "\\end{array}\\right)</script></html>"
      ],
      "text/plain": [
       "[        6        15        55       225       979      4425     20515]\n",
       "[       15        55       225       979      4425     20515     96825]\n",
       "[       55       225       979      4425     20515     96825    462979]\n",
       "[      225       979      4425     20515     96825    462979   2235465]\n",
       "[      979      4425     20515     96825    462979   2235465  10874275]\n",
       "[     4425     20515     96825    462979   2235465  10874275  53201625]\n",
       "[    20515     96825    462979   2235465  10874275  53201625 261453379]"
      ]
     },
     "metadata": {},
     "output_type": "display_data"
    },
    {
     "data": {
      "text/html": [
       "<html><script type=\"math/tex; mode=display\">\\newcommand{\\Bold}[1]{\\mathbf{#1}}0</script></html>"
      ],
      "text/plain": [
       "0"
      ]
     },
     "metadata": {},
     "output_type": "display_data"
    },
    {
     "ename": "ZeroDivisionError",
     "evalue": "matrix must be nonsingular",
     "output_type": "error",
     "traceback": [
      "\u001b[0;31m---------------------------------------------------------------------------\u001b[0m",
      "\u001b[0;31mZeroDivisionError\u001b[0m                         Traceback (most recent call last)",
      "\u001b[0;32m<ipython-input-5-4568b0dd326d>\u001b[0m in \u001b[0;36m<module>\u001b[0;34m\u001b[0m\n\u001b[1;32m      6\u001b[0m     \u001b[0mshow\u001b[0m\u001b[0;34m(\u001b[0m\u001b[0mXT\u001b[0m\u001b[0;34m*\u001b[0m\u001b[0mX\u001b[0m\u001b[0;34m)\u001b[0m\u001b[0;34m\u001b[0m\u001b[0;34m\u001b[0m\u001b[0m\n\u001b[1;32m      7\u001b[0m     \u001b[0mshow\u001b[0m\u001b[0;34m(\u001b[0m\u001b[0;34m(\u001b[0m\u001b[0mXT\u001b[0m\u001b[0;34m*\u001b[0m\u001b[0mX\u001b[0m\u001b[0;34m)\u001b[0m\u001b[0;34m.\u001b[0m\u001b[0mdeterminant\u001b[0m\u001b[0;34m(\u001b[0m\u001b[0;34m)\u001b[0m\u001b[0;34m)\u001b[0m\u001b[0;34m\u001b[0m\u001b[0;34m\u001b[0m\u001b[0m\n\u001b[0;32m----> 8\u001b[0;31m     \u001b[0mXTX_inv\u001b[0m \u001b[0;34m=\u001b[0m \u001b[0;34m(\u001b[0m\u001b[0mXT\u001b[0m \u001b[0;34m*\u001b[0m \u001b[0mX\u001b[0m\u001b[0;34m)\u001b[0m\u001b[0;34m.\u001b[0m\u001b[0minverse\u001b[0m\u001b[0;34m(\u001b[0m\u001b[0;34m)\u001b[0m\u001b[0;34m\u001b[0m\u001b[0;34m\u001b[0m\u001b[0m\n\u001b[0m\u001b[1;32m      9\u001b[0m     \u001b[0mp_i_matrix\u001b[0m \u001b[0;34m=\u001b[0m  \u001b[0mXTX_inv\u001b[0m \u001b[0;34m*\u001b[0m \u001b[0mXT\u001b[0m\u001b[0;34m\u001b[0m\u001b[0;34m\u001b[0m\u001b[0m\n\u001b[1;32m     10\u001b[0m     \u001b[0mbeta\u001b[0m \u001b[0;34m=\u001b[0m  \u001b[0mp_i_matrix\u001b[0m \u001b[0;34m*\u001b[0m \u001b[0my\u001b[0m\u001b[0;34m\u001b[0m\u001b[0;34m\u001b[0m\u001b[0m\n",
      "\u001b[0;32m/usr/lib/python3/dist-packages/sage/matrix/matrix2.pyx\u001b[0m in \u001b[0;36msage.matrix.matrix2.Matrix.inverse (build/cythonized/sage/matrix/matrix2.c:67167)\u001b[0;34m()\u001b[0m\n\u001b[1;32m   8900\u001b[0m \u001b[0;34m\u001b[0m\u001b[0m\n\u001b[1;32m   8901\u001b[0m         \"\"\"\n\u001b[0;32m-> 8902\u001b[0;31m         \u001b[0;32mreturn\u001b[0m \u001b[0;34m~\u001b[0m\u001b[0mself\u001b[0m\u001b[0;34m\u001b[0m\u001b[0;34m\u001b[0m\u001b[0m\n\u001b[0m\u001b[1;32m   8903\u001b[0m \u001b[0;34m\u001b[0m\u001b[0m\n\u001b[1;32m   8904\u001b[0m     \u001b[0;32mdef\u001b[0m \u001b[0madjugate\u001b[0m\u001b[0;34m(\u001b[0m\u001b[0mself\u001b[0m\u001b[0;34m)\u001b[0m\u001b[0;34m:\u001b[0m\u001b[0;34m\u001b[0m\u001b[0;34m\u001b[0m\u001b[0m\n",
      "\u001b[0;32m/usr/lib/python3/dist-packages/sage/matrix/matrix_integer_dense.pyx\u001b[0m in \u001b[0;36msage.matrix.matrix_integer_dense.Matrix_integer_dense.__invert__ (build/cythonized/sage/matrix/matrix_integer_dense.c:33245)\u001b[0;34m()\u001b[0m\n\u001b[1;32m   4105\u001b[0m             \u001b[0mZeroDivisionError\u001b[0m\u001b[0;34m:\u001b[0m \u001b[0mmatrix\u001b[0m \u001b[0mmust\u001b[0m \u001b[0mbe\u001b[0m \u001b[0mnonsingular\u001b[0m\u001b[0;34m\u001b[0m\u001b[0;34m\u001b[0m\u001b[0m\n\u001b[1;32m   4106\u001b[0m         \"\"\"\n\u001b[0;32m-> 4107\u001b[0;31m         \u001b[0mA\u001b[0m\u001b[0;34m,\u001b[0m \u001b[0md\u001b[0m \u001b[0;34m=\u001b[0m \u001b[0mself\u001b[0m\u001b[0;34m.\u001b[0m\u001b[0m_invert_flint\u001b[0m\u001b[0;34m(\u001b[0m\u001b[0;34m)\u001b[0m\u001b[0;34m\u001b[0m\u001b[0;34m\u001b[0m\u001b[0m\n\u001b[0m\u001b[1;32m   4108\u001b[0m         \u001b[0;32mreturn\u001b[0m \u001b[0mA\u001b[0m \u001b[0;34m/\u001b[0m \u001b[0md\u001b[0m\u001b[0;34m\u001b[0m\u001b[0;34m\u001b[0m\u001b[0m\n\u001b[1;32m   4109\u001b[0m \u001b[0;34m\u001b[0m\u001b[0m\n",
      "\u001b[0;32m/usr/lib/python3/dist-packages/sage/matrix/matrix_integer_dense.pyx\u001b[0m in \u001b[0;36msage.matrix.matrix_integer_dense.Matrix_integer_dense._invert_flint (build/cythonized/sage/matrix/matrix_integer_dense.c:33084)\u001b[0;34m()\u001b[0m\n\u001b[1;32m   4066\u001b[0m         \u001b[0mfmpz_clear\u001b[0m\u001b[0;34m(\u001b[0m\u001b[0mfden\u001b[0m\u001b[0;34m)\u001b[0m\u001b[0;34m\u001b[0m\u001b[0;34m\u001b[0m\u001b[0m\n\u001b[1;32m   4067\u001b[0m         \u001b[0;32mif\u001b[0m \u001b[0mres\u001b[0m \u001b[0;34m==\u001b[0m \u001b[0;36m0\u001b[0m\u001b[0;34m:\u001b[0m\u001b[0;34m\u001b[0m\u001b[0;34m\u001b[0m\u001b[0m\n\u001b[0;32m-> 4068\u001b[0;31m             \u001b[0;32mraise\u001b[0m \u001b[0mZeroDivisionError\u001b[0m\u001b[0;34m(\u001b[0m\u001b[0;34m'matrix must be nonsingular'\u001b[0m\u001b[0;34m)\u001b[0m\u001b[0;34m\u001b[0m\u001b[0;34m\u001b[0m\u001b[0m\n\u001b[0m\u001b[1;32m   4069\u001b[0m         \u001b[0;32mif\u001b[0m \u001b[0mden\u001b[0m \u001b[0;34m<\u001b[0m \u001b[0;36m0\u001b[0m\u001b[0;34m:\u001b[0m\u001b[0;34m\u001b[0m\u001b[0;34m\u001b[0m\u001b[0m\n\u001b[1;32m   4070\u001b[0m             \u001b[0;32mreturn\u001b[0m \u001b[0;34m-\u001b[0m\u001b[0mM\u001b[0m\u001b[0;34m,\u001b[0m \u001b[0;34m-\u001b[0m\u001b[0mden\u001b[0m\u001b[0;34m\u001b[0m\u001b[0;34m\u001b[0m\u001b[0m\n",
      "\u001b[0;31mZeroDivisionError\u001b[0m: matrix must be nonsingular"
     ]
    }
   ],
   "source": [
    "for order in range(10):\n",
    "    X = Matrix([[x^n for n in range(order+1)] for x in range(6)])\n",
    "    y = vector([1, 6, 7, 3, 5, 9])\n",
    "    show(X)\n",
    "    XT = X.transpose(); show(XT)\n",
    "    show(XT*X)\n",
    "    show((XT*X).determinant())\n",
    "    XTX_inv = (XT * X).inverse()\n",
    "    p_i_matrix =  XTX_inv * XT\n",
    "    beta =  p_i_matrix * y\n",
    "    beta_approx = n(beta, digits=3)\n",
    "    residuals = n((y-X*beta).norm(), digits=3)\n",
    "    print(f'{order} order fitting resulted in the following coefficients({beta_approx}) with a residual of {residuals}')"
   ]
  },
  {
   "cell_type": "code",
   "execution_count": 74,
   "metadata": {
    "run_control": {
     "marked": true
    }
   },
   "outputs": [
    {
     "data": {
      "text/plain": [
       "(array([ -0.225     ,   2.75      , -11.04166667,  15.25      ,\n",
       "         -1.73333333,   1.        ]),\n",
       " array([], dtype=float64),\n",
       " 6,\n",
       " array([2.30229671e+00, 7.83902797e-01, 2.83879264e-01, 6.52030433e-02,\n",
       "        9.32802330e-03, 6.07147469e-04]),\n",
       " 1.3322676295501878e-15)"
      ]
     },
     "execution_count": 74,
     "metadata": {},
     "output_type": "execute_result"
    }
   ],
   "source": [
    "%display plain\n",
    "import numpy as np\n",
    "x = range(6)\n",
    "y = vector([1, 6, 7, 3, 5, 9])\n",
    "np.polyfit(x, y, deg=5, full=True)"
   ]
  },
  {
   "cell_type": "code",
   "execution_count": null,
   "metadata": {},
   "outputs": [],
   "source": []
  }
 ],
 "metadata": {
  "hide_input": false,
  "kernelspec": {
   "display_name": "SageMath 9.0",
   "language": "sage",
   "name": "sagemath"
  },
  "language_info": {
   "codemirror_mode": {
    "name": "ipython",
    "version": 3
   },
   "file_extension": ".py",
   "mimetype": "text/x-python",
   "name": "python",
   "nbconvert_exporter": "python",
   "pygments_lexer": "ipython3",
   "version": "3.8.5"
  },
  "varInspector": {
   "cols": {
    "lenName": 16,
    "lenType": 16,
    "lenVar": 40
   },
   "kernels_config": {
    "python": {
     "delete_cmd_postfix": "",
     "delete_cmd_prefix": "del ",
     "library": "var_list.py",
     "varRefreshCmd": "print(var_dic_list())"
    },
    "r": {
     "delete_cmd_postfix": ") ",
     "delete_cmd_prefix": "rm(",
     "library": "var_list.r",
     "varRefreshCmd": "cat(var_dic_list()) "
    }
   },
   "types_to_exclude": [
    "module",
    "function",
    "builtin_function_or_method",
    "instance",
    "_Feature"
   ],
   "window_display": false
  }
 },
 "nbformat": 4,
 "nbformat_minor": 4
}
