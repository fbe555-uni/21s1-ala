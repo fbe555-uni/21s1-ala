{
 "cells": [
  {
   "cell_type": "code",
   "execution_count": 9,
   "metadata": {},
   "outputs": [],
   "source": [
    "load('../etala_utilities.sage')"
   ]
  },
  {
   "cell_type": "code",
   "execution_count": 19,
   "metadata": {
    "scrolled": true
   },
   "outputs": [
    {
     "data": {
      "text/html": [
       "<html><script type=\"math/tex; mode=display\">\\newcommand{\\Bold}[1]{\\mathbf{#1}}\\def\\bs#1{{\\boldsymbol #1}}\\text{M} = \\left(\\begin{array}{r|r}\n",
       "1 & 0 \\\\\n",
       "3 & 7\n",
       "\\end{array}\\right)</script></html>"
      ],
      "text/latex": [
       "\\begin{math}\n",
       "\\newcommand{\\Bold}[1]{\\mathbf{#1}}\\def\\bs#1{{\\boldsymbol #1}}\\text{M} = \\left(\\begin{array}{r|r}\n",
       "1 & 0 \\\\\n",
       "3 & 7\n",
       "\\end{array}\\right)\n",
       "\\end{math}"
      ],
      "text/plain": [
       "\\text{M} = \\left(\\begin{array}{r|r}\n",
       "1 & 0 \\\\\n",
       "3 & 7\n",
       "\\end{array}\\right)"
      ]
     },
     "metadata": {},
     "output_type": "display_data"
    },
    {
     "data": {
      "text/html": [
       "<html><script type=\"math/tex; mode=display\">\\newcommand{\\Bold}[1]{\\mathbf{#1}}\\def\\bs#1{{\\boldsymbol #1}}\\text{M_rref} = \\left(\\begin{array}{r|r}\n",
       "1 & 0 \\\\\n",
       "0 & 1\n",
       "\\end{array}\\right)</script></html>"
      ],
      "text/latex": [
       "\\begin{math}\n",
       "\\newcommand{\\Bold}[1]{\\mathbf{#1}}\\def\\bs#1{{\\boldsymbol #1}}\\text{M_rref} = \\left(\\begin{array}{r|r}\n",
       "1 & 0 \\\\\n",
       "0 & 1\n",
       "\\end{array}\\right)\n",
       "\\end{math}"
      ],
      "text/plain": [
       "\\text{M_rref} = \\left(\\begin{array}{r|r}\n",
       "1 & 0 \\\\\n",
       "0 & 1\n",
       "\\end{array}\\right)"
      ]
     },
     "metadata": {},
     "output_type": "display_data"
    },
    {
     "data": {
      "text/html": [
       "<html><script type=\"math/tex; mode=display\">\\newcommand{\\Bold}[1]{\\mathbf{#1}}\\def\\bs#1{{\\boldsymbol #1}}\\text{M} = \\left(\\begin{array}{r|r|r}\n",
       "1 & 6 & 26 \\\\\n",
       "1 & -4 & -14 \\\\\n",
       "2 & 12 & 52\n",
       "\\end{array}\\right)</script></html>"
      ],
      "text/latex": [
       "\\begin{math}\n",
       "\\newcommand{\\Bold}[1]{\\mathbf{#1}}\\def\\bs#1{{\\boldsymbol #1}}\\text{M} = \\left(\\begin{array}{r|r|r}\n",
       "1 & 6 & 26 \\\\\n",
       "1 & -4 & -14 \\\\\n",
       "2 & 12 & 52\n",
       "\\end{array}\\right)\n",
       "\\end{math}"
      ],
      "text/plain": [
       "\\text{M} = \\left(\\begin{array}{r|r|r}\n",
       "1 & 6 & 26 \\\\\n",
       "1 & -4 & -14 \\\\\n",
       "2 & 12 & 52\n",
       "\\end{array}\\right)"
      ]
     },
     "metadata": {},
     "output_type": "display_data"
    },
    {
     "data": {
      "text/html": [
       "<html><script type=\"math/tex; mode=display\">\\newcommand{\\Bold}[1]{\\mathbf{#1}}\\def\\bs#1{{\\boldsymbol #1}}\\text{M_rref} = \\left(\\begin{array}{r|r|r}\n",
       "1 & 0 & 2 \\\\\n",
       "0 & 1 & 4 \\\\\n",
       "0 & 0 & 0\n",
       "\\end{array}\\right)</script></html>"
      ],
      "text/latex": [
       "\\begin{math}\n",
       "\\newcommand{\\Bold}[1]{\\mathbf{#1}}\\def\\bs#1{{\\boldsymbol #1}}\\text{M_rref} = \\left(\\begin{array}{r|r|r}\n",
       "1 & 0 & 2 \\\\\n",
       "0 & 1 & 4 \\\\\n",
       "0 & 0 & 0\n",
       "\\end{array}\\right)\n",
       "\\end{math}"
      ],
      "text/plain": [
       "\\text{M_rref} = \\left(\\begin{array}{r|r|r}\n",
       "1 & 0 & 2 \\\\\n",
       "0 & 1 & 4 \\\\\n",
       "0 & 0 & 0\n",
       "\\end{array}\\right)"
      ]
     },
     "metadata": {},
     "output_type": "display_data"
    }
   ],
   "source": [
    "# Question 1\n",
    "# Example 1\n",
    "A = Matrix(2, 2, [0, 0, 1, 2])\n",
    "B = Matrix(2, 1, [1, 3])\n",
    "M = block_matrix(1, 2, [B, A*B]); show_var()\n",
    "M_rref = M.rref(); show_var()\n",
    "# Example 2\n",
    "A = Matrix(3, 3, [1, 1, 2, 1, -1, -2, 2, 2, 4])\n",
    "B = Matrix(3, 1, [1, 1, 2])\n",
    "M = block_matrix(1, A.nrows(), [A^i*B for i in range(A.nrows())]); show_var()\n",
    "M_rref = M.rref(); show_var()"
   ]
  },
  {
   "cell_type": "code",
   "execution_count": 26,
   "metadata": {},
   "outputs": [
    {
     "data": {
      "text/html": [
       "<html><script type=\"math/tex; mode=display\">\\newcommand{\\Bold}[1]{\\mathbf{#1}}\\def\\bs#1{{\\boldsymbol #1}}\\text{A} = \\left(\\begin{array}{rrr}\n",
       "1 & 1 & 2 \\\\\n",
       "2 & 3 & 4 \\\\\n",
       "1 & 2 & 2\n",
       "\\end{array}\\right)</script></html>"
      ],
      "text/latex": [
       "\\begin{math}\n",
       "\\newcommand{\\Bold}[1]{\\mathbf{#1}}\\def\\bs#1{{\\boldsymbol #1}}\\text{A} = \\left(\\begin{array}{rrr}\n",
       "1 & 1 & 2 \\\\\n",
       "2 & 3 & 4 \\\\\n",
       "1 & 2 & 2\n",
       "\\end{array}\\right)\n",
       "\\end{math}"
      ],
      "text/plain": [
       "\\text{A} = \\left(\\begin{array}{rrr}\n",
       "1 & 1 & 2 \\\\\n",
       "2 & 3 & 4 \\\\\n",
       "1 & 2 & 2\n",
       "\\end{array}\\right)"
      ]
     },
     "metadata": {},
     "output_type": "display_data"
    },
    {
     "data": {
      "text/html": [
       "<html><script type=\"math/tex; mode=display\">\\newcommand{\\Bold}[1]{\\mathbf{#1}}\\def\\bs#1{{\\boldsymbol #1}}\\text{B} = \\left(\\begin{array}{r}\n",
       "1 \\\\\n",
       "0 \\\\\n",
       "1\n",
       "\\end{array}\\right)</script></html>"
      ],
      "text/latex": [
       "\\begin{math}\n",
       "\\newcommand{\\Bold}[1]{\\mathbf{#1}}\\def\\bs#1{{\\boldsymbol #1}}\\text{B} = \\left(\\begin{array}{r}\n",
       "1 \\\\\n",
       "0 \\\\\n",
       "1\n",
       "\\end{array}\\right)\n",
       "\\end{math}"
      ],
      "text/plain": [
       "\\text{B} = \\left(\\begin{array}{r}\n",
       "1 \\\\\n",
       "0 \\\\\n",
       "1\n",
       "\\end{array}\\right)"
      ]
     },
     "metadata": {},
     "output_type": "display_data"
    },
    {
     "data": {
      "text/html": [
       "<html><script type=\"math/tex; mode=display\">\\newcommand{\\Bold}[1]{\\mathbf{#1}}\\def\\bs#1{{\\boldsymbol #1}}\\text{M} = \\left(\\begin{array}{r|r|r}\n",
       "1 & 3 & 15 \\\\\n",
       "0 & 6 & 36 \\\\\n",
       "1 & 3 & 21\n",
       "\\end{array}\\right)</script></html>"
      ],
      "text/latex": [
       "\\begin{math}\n",
       "\\newcommand{\\Bold}[1]{\\mathbf{#1}}\\def\\bs#1{{\\boldsymbol #1}}\\text{M} = \\left(\\begin{array}{r|r|r}\n",
       "1 & 3 & 15 \\\\\n",
       "0 & 6 & 36 \\\\\n",
       "1 & 3 & 21\n",
       "\\end{array}\\right)\n",
       "\\end{math}"
      ],
      "text/plain": [
       "\\text{M} = \\left(\\begin{array}{r|r|r}\n",
       "1 & 3 & 15 \\\\\n",
       "0 & 6 & 36 \\\\\n",
       "1 & 3 & 21\n",
       "\\end{array}\\right)"
      ]
     },
     "metadata": {},
     "output_type": "display_data"
    },
    {
     "data": {
      "text/html": [
       "<html><script type=\"math/tex; mode=display\">\\newcommand{\\Bold}[1]{\\mathbf{#1}}\\def\\bs#1{{\\boldsymbol #1}}\\text{M_rref} = \\left(\\begin{array}{r|r|r}\n",
       "1 & 0 & 0 \\\\\n",
       "0 & 1 & 0 \\\\\n",
       "0 & 0 & 1\n",
       "\\end{array}\\right)</script></html>"
      ],
      "text/latex": [
       "\\begin{math}\n",
       "\\newcommand{\\Bold}[1]{\\mathbf{#1}}\\def\\bs#1{{\\boldsymbol #1}}\\text{M_rref} = \\left(\\begin{array}{r|r|r}\n",
       "1 & 0 & 0 \\\\\n",
       "0 & 1 & 0 \\\\\n",
       "0 & 0 & 1\n",
       "\\end{array}\\right)\n",
       "\\end{math}"
      ],
      "text/plain": [
       "\\text{M_rref} = \\left(\\begin{array}{r|r|r}\n",
       "1 & 0 & 0 \\\\\n",
       "0 & 1 & 0 \\\\\n",
       "0 & 0 & 1\n",
       "\\end{array}\\right)"
      ]
     },
     "metadata": {},
     "output_type": "display_data"
    },
    {
     "data": {
      "text/html": [
       "<html><script type=\"math/tex; mode=display\">\\newcommand{\\Bold}[1]{\\mathbf{#1}}\\def\\bs#1{{\\boldsymbol #1}}\\verb|Since|\\phantom{\\verb!x!}\\verb|M_rref|\\phantom{\\verb!x!}\\verb|clearly|\\phantom{\\verb!x!}\\verb|shows|\\phantom{\\verb!x!}\\verb|that|\\phantom{\\verb!x!}\\verb|M|\\phantom{\\verb!x!}\\verb|has|\\phantom{\\verb!x!}\\verb|rank|\\phantom{\\verb!x!}\\verb|three,|\\phantom{\\verb!x!}\\verb|matching|\\phantom{\\verb!x!}\\verb|the|\\phantom{\\verb!x!}\\verb|size|\\phantom{\\verb!x!}\\verb|of|\\phantom{\\verb!x!}\\verb|A|</script></html>"
      ],
      "text/latex": [
       "\\begin{math}\n",
       "\\newcommand{\\Bold}[1]{\\mathbf{#1}}\\def\\bs#1{{\\boldsymbol #1}}\\verb|Since|\\phantom{\\verb!x!}\\verb|M_rref|\\phantom{\\verb!x!}\\verb|clearly|\\phantom{\\verb!x!}\\verb|shows|\\phantom{\\verb!x!}\\verb|that|\\phantom{\\verb!x!}\\verb|M|\\phantom{\\verb!x!}\\verb|has|\\phantom{\\verb!x!}\\verb|rank|\\phantom{\\verb!x!}\\verb|three,|\\phantom{\\verb!x!}\\verb|matching|\\phantom{\\verb!x!}\\verb|the|\\phantom{\\verb!x!}\\verb|size|\\phantom{\\verb!x!}\\verb|of|\\phantom{\\verb!x!}\\verb|A|\n",
       "\\end{math}"
      ],
      "text/plain": [
       "'Since M_rref clearly shows that M has rank three, matching the size of A'"
      ]
     },
     "metadata": {},
     "output_type": "display_data"
    }
   ],
   "source": [
    "# Question 2, \n",
    "A = Matrix(3, 3, [1, 1, 2, 2, 3, 4, 1, 2, 2]); show_var()\n",
    "B = Matrix(3, 1, [1, 0, 1]); show_var()\n",
    "M = block_matrix(1, A.nrows(), [A^i*B for i in range(A.nrows())]); show_var()\n",
    "M_rref = M.rref(); show_var()\n",
    "show(\"Since M_rref clearly shows that M has rank three, matching the size of A\")"
   ]
  },
  {
   "cell_type": "markdown",
   "metadata": {},
   "source": [
    "### Question 3:\n",
    "• If B is invertible, what can be said about the controllability of the pair (A, B)?\n",
    "If B is invertible, this matrix must be square and it is row equivalent to the identity matrix. The\n",
    "controllability matrix can thus be calculated and row reduced to give  \n",
    "$ M = \\left[B\\ AB\\ A^2B\\ \\dots\\ A^{n−1}B \\right ] \\sim \\left[I\\ ∗\\ ∗\\ \\dots\\ ∗ \\right]$  \n",
    "where ∗ indicates unknown numbers. Due to the identity matrix at the beginning of the row reduced\n",
    "controllability matrix, the controllability matrix has pivots in all rows, rank M = n and the system is\n",
    "controllable."
   ]
  },
  {
   "cell_type": "code",
   "execution_count": 25,
   "metadata": {},
   "outputs": [
    {
     "data": {
      "text/html": [
       "<html><script type=\"math/tex; mode=display\">\\newcommand{\\Bold}[1]{\\mathbf{#1}}\\def\\bs#1{{\\boldsymbol #1}}\\text{M} = \\left(\\begin{array}{rr|rr|rr}\n",
       "1 & 0 & 8 & 2 & 80 & 20 \\\\\n",
       "2 & 1 & 16 & 4 & 160 & 40 \\\\\n",
       "1 & -1 & 24 & 6 & 240 & 60\n",
       "\\end{array}\\right)</script></html>"
      ],
      "text/latex": [
       "\\begin{math}\n",
       "\\newcommand{\\Bold}[1]{\\mathbf{#1}}\\def\\bs#1{{\\boldsymbol #1}}\\text{M} = \\left(\\begin{array}{rr|rr|rr}\n",
       "1 & 0 & 8 & 2 & 80 & 20 \\\\\n",
       "2 & 1 & 16 & 4 & 160 & 40 \\\\\n",
       "1 & -1 & 24 & 6 & 240 & 60\n",
       "\\end{array}\\right)\n",
       "\\end{math}"
      ],
      "text/plain": [
       "\\text{M} = \\left(\\begin{array}{rr|rr|rr}\n",
       "1 & 0 & 8 & 2 & 80 & 20 \\\\\n",
       "2 & 1 & 16 & 4 & 160 & 40 \\\\\n",
       "1 & -1 & 24 & 6 & 240 & 60\n",
       "\\end{array}\\right)"
      ]
     },
     "metadata": {},
     "output_type": "display_data"
    },
    {
     "data": {
      "text/html": [
       "<html><script type=\"math/tex; mode=display\">\\newcommand{\\Bold}[1]{\\mathbf{#1}}\\def\\bs#1{{\\boldsymbol #1}}\\text{M_rref} = \\left(\\begin{array}{rr|rr|rr}\n",
       "1 & 0 & 0 & 0 & 0 & 0 \\\\\n",
       "0 & 1 & 0 & 0 & 0 & 0 \\\\\n",
       "0 & 0 & 1 & \\frac{1}{4} & 10 & \\frac{5}{2}\n",
       "\\end{array}\\right) = \\left(\\begin{array}{rr|rr|rr}\n",
       "1.00 & 0.000 & 0.000 & 0.000 & 0.000 & 0.000 \\\\\n",
       "0.000 & 1.00 & 0.000 & 0.000 & 0.000 & 0.000 \\\\\n",
       "0.000 & 0.000 & 1.00 & 0.250 & 10.0 & 2.50\n",
       "\\end{array}\\right)</script></html>"
      ],
      "text/latex": [
       "\\begin{math}\n",
       "\\newcommand{\\Bold}[1]{\\mathbf{#1}}\\def\\bs#1{{\\boldsymbol #1}}\\text{M_rref} = \\left(\\begin{array}{rr|rr|rr}\n",
       "1 & 0 & 0 & 0 & 0 & 0 \\\\\n",
       "0 & 1 & 0 & 0 & 0 & 0 \\\\\n",
       "0 & 0 & 1 & \\frac{1}{4} & 10 & \\frac{5}{2}\n",
       "\\end{array}\\right) = \\left(\\begin{array}{rr|rr|rr}\n",
       "1.00 & 0.000 & 0.000 & 0.000 & 0.000 & 0.000 \\\\\n",
       "0.000 & 1.00 & 0.000 & 0.000 & 0.000 & 0.000 \\\\\n",
       "0.000 & 0.000 & 1.00 & 0.250 & 10.0 & 2.50\n",
       "\\end{array}\\right)\n",
       "\\end{math}"
      ],
      "text/plain": [
       "\\text{M_rref} = \\left(\\begin{array}{rr|rr|rr}\n",
       "1 & 0 & 0 & 0 & 0 & 0 \\\\\n",
       "0 & 1 & 0 & 0 & 0 & 0 \\\\\n",
       "0 & 0 & 1 & \\frac{1}{4} & 10 & \\frac{5}{2}\n",
       "\\end{array}\\right) = \\left(\\begin{array}{rr|rr|rr}\n",
       "1.00 & 0.000 & 0.000 & 0.000 & 0.000 & 0.000 \\\\\n",
       "0.000 & 1.00 & 0.000 & 0.000 & 0.000 & 0.000 \\\\\n",
       "0.000 & 0.000 & 1.00 & 0.250 & 10.0 & 2.50\n",
       "\\end{array}\\right)"
      ]
     },
     "metadata": {},
     "output_type": "display_data"
    }
   ],
   "source": [
    "# Question 4: \n",
    "A = Matrix(3, 3, [1, 3, 1, 2, 6, 2, 3, 9, 3])\n",
    "B = Matrix(3, 2, [1, 0, 2, 1, 1, -1])\n",
    "M = block_matrix(1, A.nrows(), [A^i*B for i in range(A.nrows())]); show_var()\n",
    "M_rref = M.rref(); show_var()\n",
    "# M has full rank, and the symstem is controllable"
   ]
  },
  {
   "cell_type": "code",
   "execution_count": 29,
   "metadata": {},
   "outputs": [
    {
     "data": {
      "text/html": [
       "<html><script type=\"math/tex; mode=display\">\\newcommand{\\Bold}[1]{\\mathbf{#1}}\\def\\bs#1{{\\boldsymbol #1}}\\text{M} = \\left(\\begin{array}{r|r|r}\n",
       "1 & 2 & 2 \\\\\n",
       "1 & 1 & 5 \\\\\n",
       "1 & 2 & 4\n",
       "\\end{array}\\right)</script></html>"
      ],
      "text/latex": [
       "\\begin{math}\n",
       "\\newcommand{\\Bold}[1]{\\mathbf{#1}}\\def\\bs#1{{\\boldsymbol #1}}\\text{M} = \\left(\\begin{array}{r|r|r}\n",
       "1 & 2 & 2 \\\\\n",
       "1 & 1 & 5 \\\\\n",
       "1 & 2 & 4\n",
       "\\end{array}\\right)\n",
       "\\end{math}"
      ],
      "text/plain": [
       "\\text{M} = \\left(\\begin{array}{r|r|r}\n",
       "1 & 2 & 2 \\\\\n",
       "1 & 1 & 5 \\\\\n",
       "1 & 2 & 4\n",
       "\\end{array}\\right)"
      ]
     },
     "metadata": {},
     "output_type": "display_data"
    },
    {
     "data": {
      "text/html": [
       "<html><script type=\"math/tex; mode=display\">\\newcommand{\\Bold}[1]{\\mathbf{#1}}\\def\\bs#1{{\\boldsymbol #1}}\\text{M_rref} = \\left(\\begin{array}{r|r|r}\n",
       "1 & 0 & 0 \\\\\n",
       "0 & 1 & 0 \\\\\n",
       "0 & 0 & 1\n",
       "\\end{array}\\right)</script></html>"
      ],
      "text/latex": [
       "\\begin{math}\n",
       "\\newcommand{\\Bold}[1]{\\mathbf{#1}}\\def\\bs#1{{\\boldsymbol #1}}\\text{M_rref} = \\left(\\begin{array}{r|r|r}\n",
       "1 & 0 & 0 \\\\\n",
       "0 & 1 & 0 \\\\\n",
       "0 & 0 & 1\n",
       "\\end{array}\\right)\n",
       "\\end{math}"
      ],
      "text/plain": [
       "\\text{M_rref} = \\left(\\begin{array}{r|r|r}\n",
       "1 & 0 & 0 \\\\\n",
       "0 & 1 & 0 \\\\\n",
       "0 & 0 & 1\n",
       "\\end{array}\\right)"
      ]
     },
     "metadata": {},
     "output_type": "display_data"
    },
    {
     "data": {
      "text/html": [
       "<html><script type=\"math/tex; mode=display\">\\newcommand{\\Bold}[1]{\\mathbf{#1}}\\def\\bs#1{{\\boldsymbol #1}}\\text{u} = \\left(-19,\\,2,\\,4\\right)</script></html>"
      ],
      "text/latex": [
       "\\begin{math}\n",
       "\\newcommand{\\Bold}[1]{\\mathbf{#1}}\\def\\bs#1{{\\boldsymbol #1}}\\text{u} = \\left(-19,\\,2,\\,4\\right)\n",
       "\\end{math}"
      ],
      "text/plain": [
       "\\text{u} = \\left(-19,\\,2,\\,4\\right)"
      ]
     },
     "metadata": {},
     "output_type": "display_data"
    }
   ],
   "source": [
    "# Question 5:\n",
    "A = Matrix(3, 3, [1, 2, -1, 0, -3, 4, 0, 0, 2])\n",
    "B = Matrix(3, 1, [1, 1, 1])\n",
    "\n",
    "# part a\n",
    "M = block_matrix(1, A.nrows(), [A^i*B for i in range(A.nrows())]); show_var()\n",
    "\n",
    "# part b\n",
    "M_rref = M.rref(); show_var()\n",
    "# M has full rank so it is controllable\n",
    "\n",
    "# part c\n",
    "y = vector([-7, 3, 1])\n",
    "u = M.solve_right(y); show_var()\n"
   ]
  },
  {
   "cell_type": "code",
   "execution_count": 37,
   "metadata": {},
   "outputs": [
    {
     "data": {
      "text/html": [
       "<html><script type=\"math/tex; mode=display\">\\newcommand{\\Bold}[1]{\\mathbf{#1}}\\def\\bs#1{{\\boldsymbol #1}}\\text{M} = \\left(\\begin{array}{rr|rr|rr}\n",
       "1 & 1 & 5 & -2 & -75 & 30 \\\\\n",
       "2 & -1 & -10 & 4 & 150 & -60 \\\\\n",
       "1 & 0 & 25 & -10 & -375 & 150\n",
       "\\end{array}\\right)</script></html>"
      ],
      "text/latex": [
       "\\begin{math}\n",
       "\\newcommand{\\Bold}[1]{\\mathbf{#1}}\\def\\bs#1{{\\boldsymbol #1}}\\text{M} = \\left(\\begin{array}{rr|rr|rr}\n",
       "1 & 1 & 5 & -2 & -75 & 30 \\\\\n",
       "2 & -1 & -10 & 4 & 150 & -60 \\\\\n",
       "1 & 0 & 25 & -10 & -375 & 150\n",
       "\\end{array}\\right)\n",
       "\\end{math}"
      ],
      "text/plain": [
       "\\text{M} = \\left(\\begin{array}{rr|rr|rr}\n",
       "1 & 1 & 5 & -2 & -75 & 30 \\\\\n",
       "2 & -1 & -10 & 4 & 150 & -60 \\\\\n",
       "1 & 0 & 25 & -10 & -375 & 150\n",
       "\\end{array}\\right)"
      ]
     },
     "metadata": {},
     "output_type": "display_data"
    },
    {
     "data": {
      "text/html": [
       "<html><script type=\"math/tex; mode=display\">\\newcommand{\\Bold}[1]{\\mathbf{#1}}\\def\\bs#1{{\\boldsymbol #1}}\\text{M_rref} = \\left(\\begin{array}{rr|rr|rr}\n",
       "1 & 0 & 0 & 0 & 0 & 0 \\\\\n",
       "0 & 1 & 0 & 0 & 0 & 0 \\\\\n",
       "0 & 0 & 1 & -\\frac{2}{5} & -15 & 6\n",
       "\\end{array}\\right) = \\left(\\begin{array}{rr|rr|rr}\n",
       "1.00 & 0.000 & 0.000 & 0.000 & 0.000 & 0.000 \\\\\n",
       "0.000 & 1.00 & 0.000 & 0.000 & 0.000 & 0.000 \\\\\n",
       "0.000 & 0.000 & 1.00 & -0.400 & -15.0 & 6.00\n",
       "\\end{array}\\right)</script></html>"
      ],
      "text/latex": [
       "\\begin{math}\n",
       "\\newcommand{\\Bold}[1]{\\mathbf{#1}}\\def\\bs#1{{\\boldsymbol #1}}\\text{M_rref} = \\left(\\begin{array}{rr|rr|rr}\n",
       "1 & 0 & 0 & 0 & 0 & 0 \\\\\n",
       "0 & 1 & 0 & 0 & 0 & 0 \\\\\n",
       "0 & 0 & 1 & -\\frac{2}{5} & -15 & 6\n",
       "\\end{array}\\right) = \\left(\\begin{array}{rr|rr|rr}\n",
       "1.00 & 0.000 & 0.000 & 0.000 & 0.000 & 0.000 \\\\\n",
       "0.000 & 1.00 & 0.000 & 0.000 & 0.000 & 0.000 \\\\\n",
       "0.000 & 0.000 & 1.00 & -0.400 & -15.0 & 6.00\n",
       "\\end{array}\\right)\n",
       "\\end{math}"
      ],
      "text/plain": [
       "\\text{M_rref} = \\left(\\begin{array}{rr|rr|rr}\n",
       "1 & 0 & 0 & 0 & 0 & 0 \\\\\n",
       "0 & 1 & 0 & 0 & 0 & 0 \\\\\n",
       "0 & 0 & 1 & -\\frac{2}{5} & -15 & 6\n",
       "\\end{array}\\right) = \\left(\\begin{array}{rr|rr|rr}\n",
       "1.00 & 0.000 & 0.000 & 0.000 & 0.000 & 0.000 \\\\\n",
       "0.000 & 1.00 & 0.000 & 0.000 & 0.000 & 0.000 \\\\\n",
       "0.000 & 0.000 & 1.00 & -0.400 & -15.0 & 6.00\n",
       "\\end{array}\\right)"
      ]
     },
     "metadata": {},
     "output_type": "display_data"
    },
    {
     "data": {
      "text/html": [
       "<html><script type=\"math/tex; mode=display\">\\newcommand{\\Bold}[1]{\\mathbf{#1}}\\def\\bs#1{{\\boldsymbol #1}}\\text{u} = \\left(\\begin{array}{r}\n",
       "\\frac{3}{4} \\\\\n",
       "4 \\\\\n",
       "-\\frac{3}{20} \\\\\n",
       "0 \\\\\n",
       "0 \\\\\n",
       "0\n",
       "\\end{array}\\right) = \\left(\\begin{array}{r}\n",
       "0.750 \\\\\n",
       "4.00 \\\\\n",
       "-0.150 \\\\\n",
       "0.000 \\\\\n",
       "0.000 \\\\\n",
       "0.000\n",
       "\\end{array}\\right)</script></html>"
      ],
      "text/latex": [
       "\\begin{math}\n",
       "\\newcommand{\\Bold}[1]{\\mathbf{#1}}\\def\\bs#1{{\\boldsymbol #1}}\\text{u} = \\left(\\begin{array}{r}\n",
       "\\frac{3}{4} \\\\\n",
       "4 \\\\\n",
       "-\\frac{3}{20} \\\\\n",
       "0 \\\\\n",
       "0 \\\\\n",
       "0\n",
       "\\end{array}\\right) = \\left(\\begin{array}{r}\n",
       "0.750 \\\\\n",
       "4.00 \\\\\n",
       "-0.150 \\\\\n",
       "0.000 \\\\\n",
       "0.000 \\\\\n",
       "0.000\n",
       "\\end{array}\\right)\n",
       "\\end{math}"
      ],
      "text/plain": [
       "\\text{u} = \\left(\\begin{array}{r}\n",
       "\\frac{3}{4} \\\\\n",
       "4 \\\\\n",
       "-\\frac{3}{20} \\\\\n",
       "0 \\\\\n",
       "0 \\\\\n",
       "0\n",
       "\\end{array}\\right) = \\left(\\begin{array}{r}\n",
       "0.750 \\\\\n",
       "4.00 \\\\\n",
       "-0.150 \\\\\n",
       "0.000 \\\\\n",
       "0.000 \\\\\n",
       "0.000\n",
       "\\end{array}\\right)"
      ]
     },
     "metadata": {},
     "output_type": "display_data"
    },
    {
     "data": {
      "text/html": [
       "<html><script type=\"math/tex; mode=display\">\\newcommand{\\Bold}[1]{\\mathbf{#1}}\\def\\bs#1{{\\boldsymbol #1}}\\text{My_rref} = \\left(\\begin{array}{rrrrrr|r}\n",
       "1 & 0 & 0 & 0 & 0 & 0 & \\frac{3}{4} \\\\\n",
       "0 & 1 & 0 & 0 & 0 & 0 & 4 \\\\\n",
       "0 & 0 & 1 & -\\frac{2}{5} & -15 & 6 & -\\frac{3}{20}\n",
       "\\end{array}\\right) = \\left(\\begin{array}{rrrrrr|r}\n",
       "1.00 & 0.000 & 0.000 & 0.000 & 0.000 & 0.000 & 0.750 \\\\\n",
       "0.000 & 1.00 & 0.000 & 0.000 & 0.000 & 0.000 & 4.00 \\\\\n",
       "0.000 & 0.000 & 1.00 & -0.400 & -15.0 & 6.00 & -0.150\n",
       "\\end{array}\\right)</script></html>"
      ],
      "text/latex": [
       "\\begin{math}\n",
       "\\newcommand{\\Bold}[1]{\\mathbf{#1}}\\def\\bs#1{{\\boldsymbol #1}}\\text{My_rref} = \\left(\\begin{array}{rrrrrr|r}\n",
       "1 & 0 & 0 & 0 & 0 & 0 & \\frac{3}{4} \\\\\n",
       "0 & 1 & 0 & 0 & 0 & 0 & 4 \\\\\n",
       "0 & 0 & 1 & -\\frac{2}{5} & -15 & 6 & -\\frac{3}{20}\n",
       "\\end{array}\\right) = \\left(\\begin{array}{rrrrrr|r}\n",
       "1.00 & 0.000 & 0.000 & 0.000 & 0.000 & 0.000 & 0.750 \\\\\n",
       "0.000 & 1.00 & 0.000 & 0.000 & 0.000 & 0.000 & 4.00 \\\\\n",
       "0.000 & 0.000 & 1.00 & -0.400 & -15.0 & 6.00 & -0.150\n",
       "\\end{array}\\right)\n",
       "\\end{math}"
      ],
      "text/plain": [
       "\\text{My_rref} = \\left(\\begin{array}{rrrrrr|r}\n",
       "1 & 0 & 0 & 0 & 0 & 0 & \\frac{3}{4} \\\\\n",
       "0 & 1 & 0 & 0 & 0 & 0 & 4 \\\\\n",
       "0 & 0 & 1 & -\\frac{2}{5} & -15 & 6 & -\\frac{3}{20}\n",
       "\\end{array}\\right) = \\left(\\begin{array}{rrrrrr|r}\n",
       "1.00 & 0.000 & 0.000 & 0.000 & 0.000 & 0.000 & 0.750 \\\\\n",
       "0.000 & 1.00 & 0.000 & 0.000 & 0.000 & 0.000 & 4.00 \\\\\n",
       "0.000 & 0.000 & 1.00 & -0.400 & -15.0 & 6.00 & -0.150\n",
       "\\end{array}\\right)"
      ]
     },
     "metadata": {},
     "output_type": "display_data"
    },
    {
     "data": {
      "text/html": [
       "<html><script type=\"math/tex; mode=display\">\\newcommand{\\Bold}[1]{\\mathbf{#1}}\\def\\bs#1{{\\boldsymbol #1}}\\text{u_11} = \\frac{177}{20} = 8.849609375</script></html>"
      ],
      "text/latex": [
       "\\begin{math}\n",
       "\\newcommand{\\Bold}[1]{\\mathbf{#1}}\\def\\bs#1{{\\boldsymbol #1}}\\text{u_11} = \\frac{177}{20} = 8.849609375\n",
       "\\end{math}"
      ],
      "text/plain": [
       "\\text{u_11} = \\frac{177}{20} = 8.849609375"
      ]
     },
     "metadata": {},
     "output_type": "display_data"
    }
   ],
   "source": [
    "# Question 6:\n",
    "A = Matrix(3, 3, [1, 3, -2, -2, -6, 4, 5, 15, -10])\n",
    "B = Matrix(3, 2, [1, 1, 2, -1, 1, 0])\n",
    "\n",
    "# part a\n",
    "M = block_matrix(1, A.nrows(), [A^i*B for i in range(A.nrows())]); show_var()\n",
    "\n",
    "# part b\n",
    "M_rref = M.rref(); show_var()\n",
    "# M has full rank so it is controllable\n",
    "\n",
    "# part c\n",
    "y = Matrix(3, 1, [4, -1, -3])\n",
    "u = M.solve_right(y); show_var()\n",
    "\n",
    "# Part d\n",
    "# this can be done by calculating t\n",
    "My_rref = block_matrix(1, 2, [M, y]).rref(); show_var()\n",
    "# Setting u_01 and u_02 to 1 and leaving u_12 at zero, u_11 can be calculated as\n",
    "u_11 = -3/20 + 15 -6; show_var()"
   ]
  },
  {
   "cell_type": "code",
   "execution_count": null,
   "metadata": {},
   "outputs": [],
   "source": []
  }
 ],
 "metadata": {
  "hide_input": false,
  "kernelspec": {
   "display_name": "SageMath 9.2",
   "language": "sage",
   "name": "sagemath"
  },
  "language_info": {
   "codemirror_mode": {
    "name": "ipython",
    "version": 3
   },
   "file_extension": ".py",
   "mimetype": "text/x-python",
   "name": "python",
   "nbconvert_exporter": "python",
   "pygments_lexer": "ipython3",
   "version": "3.8.5"
  }
 },
 "nbformat": 4,
 "nbformat_minor": 4
}
