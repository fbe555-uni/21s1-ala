{
 "cells": [
  {
   "cell_type": "markdown",
   "metadata": {},
   "source": [
    "### ETALA lesson3 group assignment\n",
    "Excersises:\n",
    "==========="
   ]
  },
  {
   "cell_type": "code",
   "execution_count": 2,
   "metadata": {
    "hide_input": false,
    "init_cell": true
   },
   "outputs": [],
   "source": [
    "from IPython.display import Latex\n",
    "import operator\n",
    "\n",
    "def LMatrix(mat, name=None):\n",
    "    s = r'$ '\n",
    "    if name is not None:\n",
    "        s += '{} = '.format(name)\n",
    "    s += r'\\begin{pmatrix}'\n",
    "    for r in mat:\n",
    "        for e in r:\n",
    "            s += r' {} &'.format(e)\n",
    "        s = s[:-2] + r' \\\\'\n",
    "    s = s[:-2] + r'\\end{pmatrix} $'\n",
    "    if name is not None:\n",
    "        globals()[name] = Matrix(mat)\n",
    "    return Latex(s)\n",
    "\n",
    "def LScalarMul(mat, scalar, name=None):\n",
    "    product = scalar*Matrix(mat)\n",
    "    s = r'$ '\n",
    "    if name is not None:\n",
    "        s += '{} = '.format(name)\n",
    "    s += r'{} \\cdot '.format(scalar)\n",
    "    s += LMatrix(mat).data[2:-2]\n",
    "    s += r' = \\begin{pmatrix}'\n",
    "    for r in mat:\n",
    "        for e in r:\n",
    "            s += r' {} \\cdot {} &'.format(scalar, e)\n",
    "        s = s[:-2] + r' \\\\'\n",
    "    s = s[:-2] + r'\\end{pmatrix} = ' + LMatrix(product).data[1:] \n",
    "    if name is not None:\n",
    "        globals()[name] = product\n",
    "    \n",
    "    return Latex(s)\n",
    "\n",
    "def LMatMul(mat1, mat2):\n",
    "    mat1 = Matrix(mat1); mat2 = Matrix(mat2)\n",
    "    s = LMatrix(mat1).data[:-1] + r'\\cdot' + LMatrix(mat2).data[1:-1]\n",
    "    s += '=' + LMatrix([[''.join([r'{} \\cdot {} + '.format(mat1[i,k], mat2[k,j]) \n",
    "                                  for k in range(mat1.ncols())])[:-3]\n",
    "                        for j in range(mat2.ncols())]\n",
    "                       for i in range(mat1.nrows())]).data[1:-1]\n",
    "    s += '=' + LMatrix(mat1*mat2).data[1:]\n",
    "    return Latex(s)\n",
    "\n",
    "_operator_symbols = {'+': operator.add,\n",
    "                     '-': operator.sub,\n",
    "                     '/': operator.truediv,\n",
    "                     '*': operator.mul}\n",
    "\n",
    "def LElemWise(mat1, mat2, operator):\n",
    "    s = LMatrix(mat1).data[:-1] + str(operator) + LMatrix(mat2).data[1:-1]\n",
    "    s += '= ' + LMatrix([['{} {} {}'.format(e1, operator, e2) \n",
    "                          for (e1, e2) in zip(r1, r2)] \n",
    "                         for (r1, r2) in zip(mat1, mat2)]).data[1:-1]\n",
    "    s += '= ' + LMatrix(_operator_symbols[operator](Matrix(mat1), Matrix(mat2))).data[1:]\n",
    "    return Latex(s)"
   ]
  },
  {
   "cell_type": "markdown",
   "metadata": {},
   "source": [
    "## Chapter 2.1"
   ]
  },
  {
   "cell_type": "markdown",
   "metadata": {
    "variables": {
     "LMatrix([[-5], [3]], 'E')": "$ E = \\begin{pmatrix} -5 \\\\ 3 \\end{pmatrix} $",
     "LMatrix([[1, 2], [-2, 1]], 'C')": "$ C = \\begin{pmatrix} 1 & 2 \\\\ -2 & 1 \\end{pmatrix} $",
     "LMatrix([[2, 0, -1], [4, -5, 2]], 'A')": "$ A = \\begin{pmatrix} 2 & 0 & -1 \\\\ 4 & -5 & 2 \\end{pmatrix} $",
     "LMatrix([[3, 5], [-1, 4]], 'D')": "$ D = \\begin{pmatrix} 3 & 5 \\\\ -1 & 4 \\end{pmatrix} $",
     "LMatrix([[7, -5, 1], [1, -4, -3]], 'B')": "$ B = \\begin{pmatrix} 7 & -5 & 1 \\\\ 1 & -4 & -3 \\end{pmatrix} $"
    }
   },
   "source": [
    "In Exercises l and 2, compute each matrix sum or product if it is defined. If an expression is undefined, explain why. Let:  \n",
    "{{LMatrix([[2, 0, -1], [4, -5, 2]], 'A')}}  \n",
    "{{LMatrix([[7, -5, 1], [1, -4, -3]], 'B')}}  \n",
    "{{LMatrix([[1, 2], [-2, 1]], 'C')}}  \n",
    "{{LMatrix([[3, 5], [-1, 4]], 'D')}}  \n",
    "{{LMatrix([[-5], [3]], 'E')}}  "
   ]
  },
  {
   "cell_type": "markdown",
   "metadata": {},
   "source": [
    "### Excersise 1:"
   ]
  },
  {
   "cell_type": "markdown",
   "metadata": {
    "heading_collapsed": true,
    "variables": {
     "LScalarMul([[2, 0, -1], [4, -5, 2]], -2)": "$ -2 \\cdot \\begin{pmatrix} 2 & 0 & -1 \\\\ 4 & -5 & 2 \\end{pmatrix} = \\begin{pmatrix} -2 \\cdot 2 & -2 \\cdot 0 & -2 \\cdot -1 \\\\ -2 \\cdot 4 & -2 \\cdot -5 & -2 \\cdot 2 \\end{pmatrix} =  \\begin{pmatrix} -4 & 0 & 2 \\\\ -8 & 10 & -4 \\end{pmatrix} $"
    }
   },
   "source": [
    "#### $ -2A $ :  \n",
    "Scalar multiplication is done by multiplying each cell of the matrix by the scalar:  \n",
    "{{LScalarMul([[2, 0, -1], [4, -5, 2]], -2)}}"
   ]
  },
  {
   "cell_type": "markdown",
   "metadata": {
    "variables": {
     " LElemWise(B, 2*A, '-') ": "$ \\begin{pmatrix} 7 & -5 & 1 \\\\ 1 & -4 & -3 \\end{pmatrix} - \\begin{pmatrix} 4 & 0 & -2 \\\\ 8 & -10 & 4 \\end{pmatrix} =  \\begin{pmatrix} 7 - 4 & -5 - 0 & 1 - -2 \\\\ 1 - 8 & -4 - -10 & -3 - 4 \\end{pmatrix} =  \\begin{pmatrix} 3 & -5 & 3 \\\\ -7 & 6 & -7 \\end{pmatrix} $"
    }
   },
   "source": [
    "#### $ B -2A $:\n",
    "Using the result from above, this is done by adding each of the corresponding terms:  \n",
    "{{ LElemWise(B, 2*A, '-') }}"
   ]
  },
  {
   "cell_type": "markdown",
   "metadata": {},
   "source": [
    "#### $AC$:\n",
    "Matrix multiplication is only defined for matrices of shape mxn and nxp, so this product is undefined since A has three columns, but C has only two rows."
   ]
  },
  {
   "cell_type": "markdown",
   "metadata": {
    "variables": {
     " LMatMul(C, D) ": "$ \\begin{pmatrix} 1 & 2 \\\\ -2 & 1 \\end{pmatrix} \\cdot \\begin{pmatrix} 3 & 5 \\\\ -1 & 4 \\end{pmatrix} = \\begin{pmatrix} 1 \\cdot 3 + 2 \\cdot -1 & 1 \\cdot 5 + 2 \\cdot 4 \\\\ -2 \\cdot 3 + 1 \\cdot -1 & -2 \\cdot 5 + 1 \\cdot 4 \\end{pmatrix} = \\begin{pmatrix} 1 & 13 \\\\ -7 & -6 \\end{pmatrix} $"
    }
   },
   "source": [
    "#### $CD$:\n",
    "Since $C \\in \\Bbb R^{2 x 2}$ and $D \\in \\Bbb R^{2 x 2}$ The dimensions add up and the product is culculated from the definition: $ (AB)_{ij} = a_{i1} b_{1j} + a_{i2} b_{2j} + \\cdots + a_{in} b_{nj} $  \n",
    "{{ LMatMul(C, D) }}\n"
   ]
  },
  {
   "cell_type": "markdown",
   "metadata": {},
   "source": [
    "### Excersise 2:"
   ]
  },
  {
   "cell_type": "markdown",
   "metadata": {
    "variables": {
     "LElemWise(A, 2*B, '+')": "$ \\begin{pmatrix} 2 & 0 & -1 \\\\ 4 & -5 & 2 \\end{pmatrix} + \\begin{pmatrix} 14 & -10 & 2 \\\\ 2 & -8 & -6 \\end{pmatrix} =  \\begin{pmatrix} 2 + 14 & 0 + -10 & -1 + 2 \\\\ 4 + 2 & -5 + -8 & 2 + -6 \\end{pmatrix} =  \\begin{pmatrix} 16 & -10 & 1 \\\\ 6 & -13 & -4 \\end{pmatrix} $",
     "LScalarMul(B, 2)": "$ 2 \\cdot \\begin{pmatrix} 7 & -5 & 1 \\\\ 1 & -4 & -3 \\end{pmatrix} = \\begin{pmatrix} 2 \\cdot 7 & 2 \\cdot -5 & 2 \\cdot 1 \\\\ 2 \\cdot 1 & 2 \\cdot -4 & 2 \\cdot -3 \\end{pmatrix} =  \\begin{pmatrix} 14 & -10 & 2 \\\\ 2 & -8 & -6 \\end{pmatrix} $"
    }
   },
   "source": [
    "#### $A + 2B$:\n",
    "First the matrix $2B$ is calculated:  \n",
    "$2B = $ {{LScalarMul(B, 2)}}  \n",
    "Then the two matrices are added cell by cell:  \n",
    "$A + 2B = $ {{LElemWise(A, 2*B, '+')}}  \n"
   ]
  },
  {
   "cell_type": "markdown",
   "metadata": {},
   "source": [
    "#### $3C - E$:  \n",
    "Since scalar multiplication doesn't affect the matrix shape, the above statement must be undefined, since $C$ and $E$ would need to have the same shape in order for subtraction to be defined"
   ]
  },
  {
   "cell_type": "markdown",
   "metadata": {
    "variables": {
     "LMatMul(C, B)": "$ \\begin{pmatrix} 1 & 2 \\\\ -2 & 1 \\end{pmatrix} \\cdot \\begin{pmatrix} 7 & -5 & 1 \\\\ 1 & -4 & -3 \\end{pmatrix} = \\begin{pmatrix} 1 \\cdot 7 + 2 \\cdot 1 & 1 \\cdot -5 + 2 \\cdot -4 & 1 \\cdot 1 + 2 \\cdot -3 \\\\ -2 \\cdot 7 + 1 \\cdot 1 & -2 \\cdot -5 + 1 \\cdot -4 & -2 \\cdot 1 + 1 \\cdot -3 \\end{pmatrix} = \\begin{pmatrix} 9 & -13 & -5 \\\\ -13 & 6 & -5 \\end{pmatrix} $"
    }
   },
   "source": [
    "#### $CB$:  \n",
    "Here the number of columns in C matches the number of rows in B, and thus the product can be calculated as follows:  \n",
    "$CB =$ {{LMatMul(C, B)}}"
   ]
  },
  {
   "cell_type": "markdown",
   "metadata": {},
   "source": [
    "#### $EB$:\n",
    "This product is not defined, since the number of columns in E (1) doesnt match the number of rows in B (2)."
   ]
  },
  {
   "cell_type": "markdown",
   "metadata": {},
   "source": [
    "### Excersise 10:"
   ]
  },
  {
   "cell_type": "markdown",
   "metadata": {
    "variables": {
     "LMatrix([[2, -3], [-4, 6]], 'A')": "$ A = \\begin{pmatrix} 2 & -3 \\\\ -4 & 6 \\end{pmatrix} $",
     "LMatrix([[5, -2], [3, 1]], 'C')": "$ C = \\begin{pmatrix} 5 & -2 \\\\ 3 & 1 \\end{pmatrix} $",
     "LMatrix([[8, 4], [5, 5]], 'B')": "$ B = \\begin{pmatrix} 8 & 4 \\\\ 5 & 5 \\end{pmatrix} $"
    }
   },
   "source": [
    "Let:  \n",
    "{{LMatrix([[2, -3], [-4, 6]], 'A')}}  \n",
    "{{LMatrix([[8, 4], [5, 5]], 'B')}}  \n",
    "{{LMatrix([[5, -2], [3, 1]], 'C')}}  \n",
    "Verify that $AB = AC$, and yet $B \\ne C$"
   ]
  },
  {
   "cell_type": "markdown",
   "metadata": {
    "variables": {
     "LMatMul(A, B)": "$ \\begin{pmatrix} 2 & -3 \\\\ -4 & 6 \\end{pmatrix} \\cdot \\begin{pmatrix} 8 & 4 \\\\ 5 & 5 \\end{pmatrix} = \\begin{pmatrix} 2 \\cdot 8 + -3 \\cdot 5 & 2 \\cdot 4 + -3 \\cdot 5 \\\\ -4 \\cdot 8 + 6 \\cdot 5 & -4 \\cdot 4 + 6 \\cdot 5 \\end{pmatrix} = \\begin{pmatrix} 1 & -7 \\\\ -2 & 14 \\end{pmatrix} $",
     "LMatMul(A, C)": "$ \\begin{pmatrix} 2 & -3 \\\\ -4 & 6 \\end{pmatrix} \\cdot \\begin{pmatrix} 5 & -2 \\\\ 3 & 1 \\end{pmatrix} = \\begin{pmatrix} 2 \\cdot 5 + -3 \\cdot 3 & 2 \\cdot -2 + -3 \\cdot 1 \\\\ -4 \\cdot 5 + 6 \\cdot 3 & -4 \\cdot -2 + 6 \\cdot 1 \\end{pmatrix} = \\begin{pmatrix} 1 & -7 \\\\ -2 & 14 \\end{pmatrix} $",
     "LMatrix(A*B)": "$ \\begin{pmatrix} 1 & -7 \\\\ -2 & 14 \\end{pmatrix} $"
    }
   },
   "source": [
    "Firstly, we can verify that $B \\ne C$ from looking at the matrices which have different contents.  \n",
    "To verify the first equation, the two products can be calculated as follows:  \n",
    "$AB = $ {{LMatMul(A, B)}}  \n",
    "and  \n",
    "$AC = $ {{LMatMul(A, C)}}  \n",
    "hence we can verify that:  \n",
    "$AB = AC = $ {{LMatrix(A*B)}}"
   ]
  },
  {
   "cell_type": "markdown",
   "metadata": {},
   "source": [
    "### Excersise 13"
   ]
  },
  {
   "cell_type": "markdown",
   "metadata": {},
   "source": [
    "Let $r_1, \\dots, r_p$ be vectors in $\\Bbb{R}^n$, and let $Q$ be an $m x n$ matrix.  \n",
    "Write the matrix $[Qr_1, \\dots, Qr_p]$ as a product of two matrices (neither of which is an identity matrix)."
   ]
  },
  {
   "cell_type": "markdown",
   "metadata": {},
   "source": [
    "If the vectors $r_1, \\dots, r_p$, are used to form the columns of a the matrix $R_{nxp}$, the matrix $[Qr_1, \\dots, Qr_p]$ can defined as $QR$ by the definition of matrix products. Note here that this is only possible because the vectors are in $\\Bbb{R}^n$ so that the number of rows in $R$ matches the number of columns in $Q$."
   ]
  },
  {
   "cell_type": "markdown",
   "metadata": {},
   "source": [
    "### Excersise 39"
   ]
  },
  {
   "cell_type": "markdown",
   "metadata": {
    "variables": {
     "LMatrix([[0, 1, 0, 0, 0],[0, 0, 1, 0, 0],[0, 0, 0, 1, 0],[0,0,0,0,1], [0]*5], 'S')": "$ S = \\begin{pmatrix} 0 & 1 & 0 & 0 & 0 \\\\ 0 & 0 & 1 & 0 & 0 \\\\ 0 & 0 & 0 & 1 & 0 \\\\ 0 & 0 & 0 & 0 & 1 \\\\ 0 & 0 & 0 & 0 & 0 \\end{pmatrix} $"
    }
   },
   "source": [
    "Let:  \n",
    "{{LMatrix([[0, 1, 0, 0, 0],[0, 0, 1, 0, 0],[0, 0, 0, 1, 0],[0,0,0,0,1], [0]*5], 'S')}}  \n",
    "Compute $S^k$ for $k = 2, \\dots, 6$"
   ]
  },
  {
   "cell_type": "code",
   "execution_count": 4,
   "metadata": {},
   "outputs": [
    {
     "data": {
      "text/html": [
       "<html><script type=\"math/tex; mode=display\">\\newcommand{\\Bold}[1]{\\mathbf{#1}}S^2 = \\left(\\begin{array}{rrrrr}\n",
       "0 & 0 & 1 & 0 & 0 \\\\\n",
       "0 & 0 & 0 & 1 & 0 \\\\\n",
       "0 & 0 & 0 & 0 & 1 \\\\\n",
       "0 & 0 & 0 & 0 & 0 \\\\\n",
       "0 & 0 & 0 & 0 & 0\n",
       "\\end{array}\\right)</script></html>"
      ],
      "text/latex": [
       "\\begin{math}\n",
       "\\newcommand{\\Bold}[1]{\\mathbf{#1}}S^2 = \\left(\\begin{array}{rrrrr}\n",
       "0 & 0 & 1 & 0 & 0 \\\\\n",
       "0 & 0 & 0 & 1 & 0 \\\\\n",
       "0 & 0 & 0 & 0 & 1 \\\\\n",
       "0 & 0 & 0 & 0 & 0 \\\\\n",
       "0 & 0 & 0 & 0 & 0\n",
       "\\end{array}\\right)\n",
       "\\end{math}"
      ],
      "text/plain": [
       "S^2 = \\left(\\begin{array}{rrrrr}\n",
       "0 & 0 & 1 & 0 & 0 \\\\\n",
       "0 & 0 & 0 & 1 & 0 \\\\\n",
       "0 & 0 & 0 & 0 & 1 \\\\\n",
       "0 & 0 & 0 & 0 & 0 \\\\\n",
       "0 & 0 & 0 & 0 & 0\n",
       "\\end{array}\\right)"
      ]
     },
     "metadata": {},
     "output_type": "display_data"
    },
    {
     "data": {
      "text/html": [
       "<html><script type=\"math/tex; mode=display\">\\newcommand{\\Bold}[1]{\\mathbf{#1}}S^3 = \\left(\\begin{array}{rrrrr}\n",
       "0 & 0 & 0 & 1 & 0 \\\\\n",
       "0 & 0 & 0 & 0 & 1 \\\\\n",
       "0 & 0 & 0 & 0 & 0 \\\\\n",
       "0 & 0 & 0 & 0 & 0 \\\\\n",
       "0 & 0 & 0 & 0 & 0\n",
       "\\end{array}\\right)</script></html>"
      ],
      "text/latex": [
       "\\begin{math}\n",
       "\\newcommand{\\Bold}[1]{\\mathbf{#1}}S^3 = \\left(\\begin{array}{rrrrr}\n",
       "0 & 0 & 0 & 1 & 0 \\\\\n",
       "0 & 0 & 0 & 0 & 1 \\\\\n",
       "0 & 0 & 0 & 0 & 0 \\\\\n",
       "0 & 0 & 0 & 0 & 0 \\\\\n",
       "0 & 0 & 0 & 0 & 0\n",
       "\\end{array}\\right)\n",
       "\\end{math}"
      ],
      "text/plain": [
       "S^3 = \\left(\\begin{array}{rrrrr}\n",
       "0 & 0 & 0 & 1 & 0 \\\\\n",
       "0 & 0 & 0 & 0 & 1 \\\\\n",
       "0 & 0 & 0 & 0 & 0 \\\\\n",
       "0 & 0 & 0 & 0 & 0 \\\\\n",
       "0 & 0 & 0 & 0 & 0\n",
       "\\end{array}\\right)"
      ]
     },
     "metadata": {},
     "output_type": "display_data"
    },
    {
     "data": {
      "text/html": [
       "<html><script type=\"math/tex; mode=display\">\\newcommand{\\Bold}[1]{\\mathbf{#1}}S^4 = \\left(\\begin{array}{rrrrr}\n",
       "0 & 0 & 0 & 0 & 1 \\\\\n",
       "0 & 0 & 0 & 0 & 0 \\\\\n",
       "0 & 0 & 0 & 0 & 0 \\\\\n",
       "0 & 0 & 0 & 0 & 0 \\\\\n",
       "0 & 0 & 0 & 0 & 0\n",
       "\\end{array}\\right)</script></html>"
      ],
      "text/latex": [
       "\\begin{math}\n",
       "\\newcommand{\\Bold}[1]{\\mathbf{#1}}S^4 = \\left(\\begin{array}{rrrrr}\n",
       "0 & 0 & 0 & 0 & 1 \\\\\n",
       "0 & 0 & 0 & 0 & 0 \\\\\n",
       "0 & 0 & 0 & 0 & 0 \\\\\n",
       "0 & 0 & 0 & 0 & 0 \\\\\n",
       "0 & 0 & 0 & 0 & 0\n",
       "\\end{array}\\right)\n",
       "\\end{math}"
      ],
      "text/plain": [
       "S^4 = \\left(\\begin{array}{rrrrr}\n",
       "0 & 0 & 0 & 0 & 1 \\\\\n",
       "0 & 0 & 0 & 0 & 0 \\\\\n",
       "0 & 0 & 0 & 0 & 0 \\\\\n",
       "0 & 0 & 0 & 0 & 0 \\\\\n",
       "0 & 0 & 0 & 0 & 0\n",
       "\\end{array}\\right)"
      ]
     },
     "metadata": {},
     "output_type": "display_data"
    },
    {
     "data": {
      "text/html": [
       "<html><script type=\"math/tex; mode=display\">\\newcommand{\\Bold}[1]{\\mathbf{#1}}S^5 = \\left(\\begin{array}{rrrrr}\n",
       "0 & 0 & 0 & 0 & 0 \\\\\n",
       "0 & 0 & 0 & 0 & 0 \\\\\n",
       "0 & 0 & 0 & 0 & 0 \\\\\n",
       "0 & 0 & 0 & 0 & 0 \\\\\n",
       "0 & 0 & 0 & 0 & 0\n",
       "\\end{array}\\right)</script></html>"
      ],
      "text/latex": [
       "\\begin{math}\n",
       "\\newcommand{\\Bold}[1]{\\mathbf{#1}}S^5 = \\left(\\begin{array}{rrrrr}\n",
       "0 & 0 & 0 & 0 & 0 \\\\\n",
       "0 & 0 & 0 & 0 & 0 \\\\\n",
       "0 & 0 & 0 & 0 & 0 \\\\\n",
       "0 & 0 & 0 & 0 & 0 \\\\\n",
       "0 & 0 & 0 & 0 & 0\n",
       "\\end{array}\\right)\n",
       "\\end{math}"
      ],
      "text/plain": [
       "S^5 = \\left(\\begin{array}{rrrrr}\n",
       "0 & 0 & 0 & 0 & 0 \\\\\n",
       "0 & 0 & 0 & 0 & 0 \\\\\n",
       "0 & 0 & 0 & 0 & 0 \\\\\n",
       "0 & 0 & 0 & 0 & 0 \\\\\n",
       "0 & 0 & 0 & 0 & 0\n",
       "\\end{array}\\right)"
      ]
     },
     "metadata": {},
     "output_type": "display_data"
    },
    {
     "data": {
      "text/html": [
       "<html><script type=\"math/tex; mode=display\">\\newcommand{\\Bold}[1]{\\mathbf{#1}}S^6 = \\left(\\begin{array}{rrrrr}\n",
       "0 & 0 & 0 & 0 & 0 \\\\\n",
       "0 & 0 & 0 & 0 & 0 \\\\\n",
       "0 & 0 & 0 & 0 & 0 \\\\\n",
       "0 & 0 & 0 & 0 & 0 \\\\\n",
       "0 & 0 & 0 & 0 & 0\n",
       "\\end{array}\\right)</script></html>"
      ],
      "text/latex": [
       "\\begin{math}\n",
       "\\newcommand{\\Bold}[1]{\\mathbf{#1}}S^6 = \\left(\\begin{array}{rrrrr}\n",
       "0 & 0 & 0 & 0 & 0 \\\\\n",
       "0 & 0 & 0 & 0 & 0 \\\\\n",
       "0 & 0 & 0 & 0 & 0 \\\\\n",
       "0 & 0 & 0 & 0 & 0 \\\\\n",
       "0 & 0 & 0 & 0 & 0\n",
       "\\end{array}\\right)\n",
       "\\end{math}"
      ],
      "text/plain": [
       "S^6 = \\left(\\begin{array}{rrrrr}\n",
       "0 & 0 & 0 & 0 & 0 \\\\\n",
       "0 & 0 & 0 & 0 & 0 \\\\\n",
       "0 & 0 & 0 & 0 & 0 \\\\\n",
       "0 & 0 & 0 & 0 & 0 \\\\\n",
       "0 & 0 & 0 & 0 & 0\n",
       "\\end{array}\\right)"
      ]
     },
     "metadata": {},
     "output_type": "display_data"
    }
   ],
   "source": [
    "kk = range(2, 7)\n",
    "for k in kk:\n",
    "    show('S^{} = '.format(k) + latex(S^k))"
   ]
  },
  {
   "cell_type": "markdown",
   "metadata": {},
   "source": [
    "### Excersise 40"
   ]
  },
  {
   "cell_type": "markdown",
   "metadata": {
    "variables": {
     "LMatrix(Matrix(QQ, [[1/6, 1/2, 1/3], [1/2, 1/4, 1/4], [1/3, 1/4, 5/12]]), 'A')": "$ A = \\begin{pmatrix} 1/6 & 1/2 & 1/3 \\\\ 1/2 & 1/4 & 1/4 \\\\ 1/3 & 1/4 & 5/12 \\end{pmatrix} $"
    }
   },
   "source": [
    "Describe in words what happens when you compute $A^5$, $A^{10}$, $A^{20}$, and $A^{30}$ for  \n",
    "{{LMatrix(Matrix(QQ, [[1/6, 1/2, 1/3], [1/2, 1/4, 1/4], [1/3, 1/4, 5/12]]), 'A')}}"
   ]
  },
  {
   "cell_type": "code",
   "execution_count": 5,
   "metadata": {},
   "outputs": [
    {
     "name": "stdout",
     "output_type": "stream",
     "text": [
      "<built-in method parent of sage.matrix.matrix_generic_dense.Matrix_generic_dense object at 0x7fe97dcef4a0>\n"
     ]
    },
    {
     "data": {
      "text/html": [
       "<html><script type=\"math/tex; mode=display\">\\newcommand{\\Bold}[1]{\\mathbf{#1}}A^{5} = \\left(\\begin{array}{rrr}\n",
       "\\frac{10321}{31104} & \\frac{3469}{10368} & \\frac{1297}{3888} \\\\\n",
       "\\frac{3469}{10368} & \\frac{2297}{6912} & \\frac{6907}{20736} \\\\\n",
       "\\frac{1297}{3888} & \\frac{6907}{20736} & \\frac{20735}{62208}\n",
       "\\end{array}\\right) \\approx \\left(\\begin{array}{rrr}\n",
       "0.331822 & 0.334587 & 0.333591 \\\\\n",
       "0.334587 & 0.332321 & 0.333092 \\\\\n",
       "0.333591 & 0.333092 & 0.333317\n",
       "\\end{array}\\right)</script></html>"
      ],
      "text/latex": [
       "\\begin{math}\n",
       "\\newcommand{\\Bold}[1]{\\mathbf{#1}}A^{5} = \\left(\\begin{array}{rrr}\n",
       "\\frac{10321}{31104} & \\frac{3469}{10368} & \\frac{1297}{3888} \\\\\n",
       "\\frac{3469}{10368} & \\frac{2297}{6912} & \\frac{6907}{20736} \\\\\n",
       "\\frac{1297}{3888} & \\frac{6907}{20736} & \\frac{20735}{62208}\n",
       "\\end{array}\\right) \\approx \\left(\\begin{array}{rrr}\n",
       "0.331822 & 0.334587 & 0.333591 \\\\\n",
       "0.334587 & 0.332321 & 0.333092 \\\\\n",
       "0.333591 & 0.333092 & 0.333317\n",
       "\\end{array}\\right)\n",
       "\\end{math}"
      ],
      "text/plain": [
       "A^{5} = \\left(\\begin{array}{rrr}\n",
       "\\frac{10321}{31104} & \\frac{3469}{10368} & \\frac{1297}{3888} \\\\\n",
       "\\frac{3469}{10368} & \\frac{2297}{6912} & \\frac{6907}{20736} \\\\\n",
       "\\frac{1297}{3888} & \\frac{6907}{20736} & \\frac{20735}{62208}\n",
       "\\end{array}\\right) \\approx \\left(\\begin{array}{rrr}\n",
       "0.331822 & 0.334587 & 0.333591 \\\\\n",
       "0.334587 & 0.332321 & 0.333092 \\\\\n",
       "0.333591 & 0.333092 & 0.333317\n",
       "\\end{array}\\right)"
      ]
     },
     "metadata": {},
     "output_type": "display_data"
    },
    {
     "data": {
      "text/html": [
       "<html><script type=\"math/tex; mode=display\">\\newcommand{\\Bold}[1]{\\mathbf{#1}}A^{10} = \\left(\\begin{array}{rrr}\n",
       "\\frac{161245033}{483729408} & \\frac{214988767}{644972544} & \\frac{644971199}{1934917632} \\\\\n",
       "\\frac{214988767}{644972544} & \\frac{71664187}{214990848} & \\frac{13436951}{40310784} \\\\\n",
       "\\frac{644971199}{1934917632} & \\frac{13436951}{40310784} & \\frac{644972785}{1934917632}\n",
       "\\end{array}\\right) \\approx \\left(\\begin{array}{rrr}\n",
       "0.333337 & 0.333330 & 0.333333 \\\\\n",
       "0.333330 & 0.333336 & 0.333334 \\\\\n",
       "0.333333 & 0.333334 & 0.333333\n",
       "\\end{array}\\right)</script></html>"
      ],
      "text/latex": [
       "\\begin{math}\n",
       "\\newcommand{\\Bold}[1]{\\mathbf{#1}}A^{10} = \\left(\\begin{array}{rrr}\n",
       "\\frac{161245033}{483729408} & \\frac{214988767}{644972544} & \\frac{644971199}{1934917632} \\\\\n",
       "\\frac{214988767}{644972544} & \\frac{71664187}{214990848} & \\frac{13436951}{40310784} \\\\\n",
       "\\frac{644971199}{1934917632} & \\frac{13436951}{40310784} & \\frac{644972785}{1934917632}\n",
       "\\end{array}\\right) \\approx \\left(\\begin{array}{rrr}\n",
       "0.333337 & 0.333330 & 0.333333 \\\\\n",
       "0.333330 & 0.333336 & 0.333334 \\\\\n",
       "0.333333 & 0.333334 & 0.333333\n",
       "\\end{array}\\right)\n",
       "\\end{math}"
      ],
      "text/plain": [
       "A^{10} = \\left(\\begin{array}{rrr}\n",
       "\\frac{161245033}{483729408} & \\frac{214988767}{644972544} & \\frac{644971199}{1934917632} \\\\\n",
       "\\frac{214988767}{644972544} & \\frac{71664187}{214990848} & \\frac{13436951}{40310784} \\\\\n",
       "\\frac{644971199}{1934917632} & \\frac{13436951}{40310784} & \\frac{644972785}{1934917632}\n",
       "\\end{array}\\right) \\approx \\left(\\begin{array}{rrr}\n",
       "0.333337 & 0.333330 & 0.333333 \\\\\n",
       "0.333330 & 0.333336 & 0.333334 \\\\\n",
       "0.333333 & 0.333334 & 0.333333\n",
       "\\end{array}\\right)"
      ]
     },
     "metadata": {},
     "output_type": "display_data"
    },
    {
     "data": {
      "text/html": [
       "<html><script type=\"math/tex; mode=display\">\\newcommand{\\Bold}[1]{\\mathbf{#1}}A^{20} = \\left(\\begin{array}{rrr}\n",
       "\\frac{623984373819928813}{1871953121312243712} & \\frac{415989582486852089}{1247968747541495808} & \\frac{1247968747524073531}{3743906242624487424} \\\\\n",
       "\\frac{415989582486852089}{1247968747541495808} & \\frac{69331597089338833}{207994791256915968} & \\frac{415989582518610721}{1247968747541495808} \\\\\n",
       "\\frac{1247968747524073531}{3743906242624487424} & \\frac{415989582518610721}{1247968747541495808} & \\frac{623984373772290865}{1871953121312243712}\n",
       "\\end{array}\\right) \\approx \\left(\\begin{array}{rrr}\n",
       "0.333333 & 0.333333 & 0.333333 \\\\\n",
       "0.333333 & 0.333333 & 0.333333 \\\\\n",
       "0.333333 & 0.333333 & 0.333333\n",
       "\\end{array}\\right)</script></html>"
      ],
      "text/latex": [
       "\\begin{math}\n",
       "\\newcommand{\\Bold}[1]{\\mathbf{#1}}A^{20} = \\left(\\begin{array}{rrr}\n",
       "\\frac{623984373819928813}{1871953121312243712} & \\frac{415989582486852089}{1247968747541495808} & \\frac{1247968747524073531}{3743906242624487424} \\\\\n",
       "\\frac{415989582486852089}{1247968747541495808} & \\frac{69331597089338833}{207994791256915968} & \\frac{415989582518610721}{1247968747541495808} \\\\\n",
       "\\frac{1247968747524073531}{3743906242624487424} & \\frac{415989582518610721}{1247968747541495808} & \\frac{623984373772290865}{1871953121312243712}\n",
       "\\end{array}\\right) \\approx \\left(\\begin{array}{rrr}\n",
       "0.333333 & 0.333333 & 0.333333 \\\\\n",
       "0.333333 & 0.333333 & 0.333333 \\\\\n",
       "0.333333 & 0.333333 & 0.333333\n",
       "\\end{array}\\right)\n",
       "\\end{math}"
      ],
      "text/plain": [
       "A^{20} = \\left(\\begin{array}{rrr}\n",
       "\\frac{623984373819928813}{1871953121312243712} & \\frac{415989582486852089}{1247968747541495808} & \\frac{1247968747524073531}{3743906242624487424} \\\\\n",
       "\\frac{415989582486852089}{1247968747541495808} & \\frac{69331597089338833}{207994791256915968} & \\frac{415989582518610721}{1247968747541495808} \\\\\n",
       "\\frac{1247968747524073531}{3743906242624487424} & \\frac{415989582518610721}{1247968747541495808} & \\frac{623984373772290865}{1871953121312243712}\n",
       "\\end{array}\\right) \\approx \\left(\\begin{array}{rrr}\n",
       "0.333333 & 0.333333 & 0.333333 \\\\\n",
       "0.333333 & 0.333333 & 0.333333 \\\\\n",
       "0.333333 & 0.333333 & 0.333333\n",
       "\\end{array}\\right)"
      ]
     },
     "metadata": {},
     "output_type": "display_data"
    },
    {
     "data": {
      "text/html": [
       "<html><script type=\"math/tex; mode=display\">\\newcommand{\\Bold}[1]{\\mathbf{#1}}A^{30} = \\left(\\begin{array}{rrr}\n",
       "\\frac{603679183450749541415319667}{1811037550352247667914964992} & \\frac{804905577934331947099320625}{2414716733802996890553286656} & \\frac{2414716733802996664700619425}{7244150201408990671659859968} \\\\\n",
       "\\frac{804905577934331947099320625}{2414716733802996890553286656} & \\frac{268301859311444194884438877}{804905577934332296851095552} & \\frac{100613197241791544850081175}{301839591725374611319160832} \\\\\n",
       "\\frac{2414716733802996664700619425}{7244150201408990671659859968} & \\frac{100613197241791544850081175}{301839591725374611319160832} & \\frac{2414716733802996930557292343}{7244150201408990671659859968}\n",
       "\\end{array}\\right) \\approx \\left(\\begin{array}{rrr}\n",
       "0.333333 & 0.333333 & 0.333333 \\\\\n",
       "0.333333 & 0.333333 & 0.333333 \\\\\n",
       "0.333333 & 0.333333 & 0.333333\n",
       "\\end{array}\\right)</script></html>"
      ],
      "text/latex": [
       "\\begin{math}\n",
       "\\newcommand{\\Bold}[1]{\\mathbf{#1}}A^{30} = \\left(\\begin{array}{rrr}\n",
       "\\frac{603679183450749541415319667}{1811037550352247667914964992} & \\frac{804905577934331947099320625}{2414716733802996890553286656} & \\frac{2414716733802996664700619425}{7244150201408990671659859968} \\\\\n",
       "\\frac{804905577934331947099320625}{2414716733802996890553286656} & \\frac{268301859311444194884438877}{804905577934332296851095552} & \\frac{100613197241791544850081175}{301839591725374611319160832} \\\\\n",
       "\\frac{2414716733802996664700619425}{7244150201408990671659859968} & \\frac{100613197241791544850081175}{301839591725374611319160832} & \\frac{2414716733802996930557292343}{7244150201408990671659859968}\n",
       "\\end{array}\\right) \\approx \\left(\\begin{array}{rrr}\n",
       "0.333333 & 0.333333 & 0.333333 \\\\\n",
       "0.333333 & 0.333333 & 0.333333 \\\\\n",
       "0.333333 & 0.333333 & 0.333333\n",
       "\\end{array}\\right)\n",
       "\\end{math}"
      ],
      "text/plain": [
       "A^{30} = \\left(\\begin{array}{rrr}\n",
       "\\frac{603679183450749541415319667}{1811037550352247667914964992} & \\frac{804905577934331947099320625}{2414716733802996890553286656} & \\frac{2414716733802996664700619425}{7244150201408990671659859968} \\\\\n",
       "\\frac{804905577934331947099320625}{2414716733802996890553286656} & \\frac{268301859311444194884438877}{804905577934332296851095552} & \\frac{100613197241791544850081175}{301839591725374611319160832} \\\\\n",
       "\\frac{2414716733802996664700619425}{7244150201408990671659859968} & \\frac{100613197241791544850081175}{301839591725374611319160832} & \\frac{2414716733802996930557292343}{7244150201408990671659859968}\n",
       "\\end{array}\\right) \\approx \\left(\\begin{array}{rrr}\n",
       "0.333333 & 0.333333 & 0.333333 \\\\\n",
       "0.333333 & 0.333333 & 0.333333 \\\\\n",
       "0.333333 & 0.333333 & 0.333333\n",
       "\\end{array}\\right)"
      ]
     },
     "metadata": {},
     "output_type": "display_data"
    }
   ],
   "source": [
    "print(n(A).parent)\n",
    "for k in (5, 10, 20, 30):\n",
    "    show('A^{' + str(k) + '} = ' + latex(A^k) + r' \\approx ' + latex(n(A^k, digits=6)))"
   ]
  },
  {
   "cell_type": "markdown",
   "metadata": {},
   "source": [
    "The resulting matrices have all their fields approach 1/3, the higher the exponent gets."
   ]
  },
  {
   "cell_type": "markdown",
   "metadata": {},
   "source": [
    "## Chapter 2.2"
   ]
  },
  {
   "cell_type": "markdown",
   "metadata": {},
   "source": [
    "### Excersise 1"
   ]
  },
  {
   "cell_type": "markdown",
   "metadata": {},
   "source": [
    "Find the inverse of the matrix  \n",
    "$\\begin{pmatrix} 8 & 6 \\\\ 5 & 4 \\end{pmatrix}$  \n",
    "  \n",
    "Here the theorem following theorem for 2x2 matrices can be used:  \n",
    "Let $A = \\begin{pmatrix} a & b \\\\ c & d \\end{pmatrix}$\n",
    "if $ad-bc \\ne 0$ then A in invertible and  \n",
    "$A^{-1} = \\frac{1}{ad-bc} \\begin{pmatrix} d & -b \\\\ -c & a \\end{pmatrix}$  \n",
    "firstly calculating the determinant  \n",
    "$ 8 \\cdot 4 - 6 \\cdot 5 = 2 \\ne 0 $  \n",
    "it can be seen that the inverse does exist. Using the above theorem it can be constructed as follows:  \n",
    "$ \\begin{pmatrix} 8 & 6 \\\\ 5 & 4 \\end{pmatrix}^{-1} = 1/2 \\begin{pmatrix} 4 & -6 \\\\ -5 & 8 \\end{pmatrix} = \\begin{pmatrix} 2 & -3 \\\\ -5/2 & 4 \\end{pmatrix} $"
   ]
  },
  {
   "cell_type": "markdown",
   "metadata": {},
   "source": [
    "### Excersise 5"
   ]
  },
  {
   "cell_type": "markdown",
   "metadata": {
    "variables": {
     "LMatMul([[2, -3], [-5/2, 4]], [[2], [-1]])": "$ \\begin{pmatrix} 2 & -3 \\\\ -5/2 & 4 \\end{pmatrix} \\cdot \\begin{pmatrix} 2 \\\\ -1 \\end{pmatrix} = \\begin{pmatrix} 2 \\cdot 2 + -3 \\cdot -1 \\\\ -5/2 \\cdot 2 + 4 \\cdot -1 \\end{pmatrix} = \\begin{pmatrix} 7 \\\\ -9 \\end{pmatrix} $"
    }
   },
   "source": [
    "Use the inverse found in Exercise 1 to solve the system  \n",
    "$8x_1 + 6x_2 = 2$  \n",
    "$5x_1 + 4x_2 = -1$  \n",
    "call the previous matrix A, and let  \n",
    "$\\bf{b} = \\begin{pmatrix} 2 \\\\ -1 \\end{pmatrix}$  \n",
    "then system can be formulated as the matrix equation:  \n",
    "$A{\\bf x} = {\\bf b}$  \n",
    "which allows us to multiply by the inverse  \n",
    "$A^{-1} A {\\bf x} = A^{⁻1} {\\bf b} \\Leftrightarrow {\\bf x} = A^{⁻1} {\\bf b}$  \n",
    "which yields:  \n",
    "$ {\\bf x} = ${{LMatMul([[2, -3], [-5/2, 4]], [[2], [-1]])}}"
   ]
  },
  {
   "cell_type": "markdown",
   "metadata": {},
   "source": [
    "### Excersise 9"
   ]
  },
  {
   "cell_type": "markdown",
   "metadata": {},
   "source": [
    "#### a) In order for a matrix $B$ to be the inverse of $A$, both equations $AB = I$ and $BA = I$ must be true."
   ]
  },
  {
   "cell_type": "markdown",
   "metadata": {},
   "source": [
    "__True__: Since by the definition of $B$ being the inverse of $A$, all products of $A$ and $B$ must be the identity matrix, and the fact that matrix multiplication is not cummutative, the first staement does indeed imply both equations to be true.  "
   ]
  },
  {
   "cell_type": "markdown",
   "metadata": {},
   "source": [
    "#### b) If $A$ and $B$ are $n \\times n$ and invertible, then $A^{-1} B^{-1}$ is theinverse of $AB$."
   ]
  },
  {
   "cell_type": "markdown",
   "metadata": {},
   "source": [
    "__False__: Looking at theorem 6b for invertible $n \\times n$ matrices,  \n",
    "$(AB)^{-1} = B^{-1} A^{-1}$  \n",
    "and so, since matrix multiplication is non cumutative, the statement must be false"
   ]
  },
  {
   "cell_type": "markdown",
   "metadata": {},
   "source": [
    "c. If A D\n",
    "and ab cd ¤ 0; then A is invertible.\n",
    "c\n",
    "d"
   ]
  },
  {
   "cell_type": "markdown",
   "metadata": {},
   "source": [
    "d. If A is an invertible n \u0002 n matrix, then the equation\n",
    "A x D b is consistent for each b in R n .\n",
    "e. Each elementary matrix is invertible.\n",
    "10. a. A product of invertible n \u0002 n matrices is inve"
   ]
  },
  {
   "cell_type": "code",
   "execution_count": null,
   "metadata": {},
   "outputs": [],
   "source": []
  },
  {
   "cell_type": "code",
   "execution_count": null,
   "metadata": {},
   "outputs": [],
   "source": []
  },
  {
   "cell_type": "markdown",
   "metadata": {},
   "source": [
    "### Excersise 30"
   ]
  },
  {
   "cell_type": "code",
   "execution_count": null,
   "metadata": {},
   "outputs": [],
   "source": []
  },
  {
   "cell_type": "markdown",
   "metadata": {},
   "source": [
    "### Excersise 31"
   ]
  },
  {
   "cell_type": "code",
   "execution_count": null,
   "metadata": {},
   "outputs": [],
   "source": []
  },
  {
   "cell_type": "code",
   "execution_count": null,
   "metadata": {},
   "outputs": [],
   "source": []
  },
  {
   "cell_type": "code",
   "execution_count": null,
   "metadata": {},
   "outputs": [],
   "source": []
  },
  {
   "cell_type": "code",
   "execution_count": null,
   "metadata": {},
   "outputs": [],
   "source": []
  },
  {
   "cell_type": "code",
   "execution_count": null,
   "metadata": {},
   "outputs": [],
   "source": []
  }
 ],
 "metadata": {
  "hide_input": false,
  "kernelspec": {
   "display_name": "SageMath 9.2",
   "language": "sage",
   "name": "sagemath"
  },
  "language_info": {
   "codemirror_mode": {
    "name": "ipython",
    "version": 3
   },
   "file_extension": ".py",
   "mimetype": "text/x-python",
   "name": "python",
   "nbconvert_exporter": "python",
   "pygments_lexer": "ipython3",
   "version": "3.8.5"
  }
 },
 "nbformat": 4,
 "nbformat_minor": 4
}
