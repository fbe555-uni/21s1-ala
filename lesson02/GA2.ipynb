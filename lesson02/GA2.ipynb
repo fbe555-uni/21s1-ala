{
 "cells": [
  {
   "cell_type": "markdown",
   "metadata": {},
   "source": [
    "### ETALA lesson2 group assignment\n",
    "Excersises:\n",
    "==========="
   ]
  },
  {
   "cell_type": "code",
   "execution_count": 1,
   "metadata": {
    "jupyter": {
     "source_hidden": true
    }
   },
   "outputs": [],
   "source": [
    "#%display latex"
   ]
  },
  {
   "cell_type": "markdown",
   "metadata": {},
   "source": [
    "Chapter 1.4:\n",
    "------------\n",
    "Excersises 1-4, 9, 11, 21, 23, 25, 31, 32, 40, 42"
   ]
  },
  {
   "cell_type": "markdown",
   "metadata": {},
   "source": [
    "#### 1)\n",
    "Compute the products in Exercises 1–4 using (a) the definition, as \n",
    "in Example 1, and (b) the row–vector rule for computing A x. If a\n",
    "product is undefined, explain why. "
   ]
  },
  {
   "cell_type": "code",
   "execution_count": 2,
   "metadata": {
    "jupyter": {
     "source_hidden": true
    }
   },
   "outputs": [
    {
     "data": {
      "text/html": [
       "<html><script type=\"math/tex; mode=display\">\\newcommand{\\Bold}[1]{\\mathbf{#1}}\\left(\\begin{array}{rr}\n",
       "-4 & 2 \\\\\n",
       "1 & 6 \\\\\n",
       "0 & 1\n",
       "\\end{array}\\right) \\left(\\begin{array}{r}\n",
       "3 \\\\\n",
       "-2 \\\\\n",
       "7\n",
       "\\end{array}\\right)</script></html>"
      ],
      "text/latex": [
       "\\begin{math}\n",
       "\\newcommand{\\Bold}[1]{\\mathbf{#1}}\\left(\\begin{array}{rr}\n",
       "-4 & 2 \\\\\n",
       "1 & 6 \\\\\n",
       "0 & 1\n",
       "\\end{array}\\right) \\left(\\begin{array}{r}\n",
       "3 \\\\\n",
       "-2 \\\\\n",
       "7\n",
       "\\end{array}\\right)\n",
       "\\end{math}"
      ],
      "text/plain": [
       "[-4  2]\n",
       "[ 1  6]\n",
       "[ 0  1] [ 3]\n",
       "[-2]\n",
       "[ 7]"
      ]
     },
     "metadata": {},
     "output_type": "display_data"
    }
   ],
   "source": [
    "A = Matrix([[-4, 2], [1, 6], [0, 1]])\n",
    "x = vector([3, -2, 7])\n",
    "show(A, x.column())"
   ]
  },
  {
   "cell_type": "markdown",
   "metadata": {},
   "source": [
    "Since the number of rows in the matrix doesn't have the same number of columns as the number of rows in the vector, the product cannot be computed  \n",
    "#### 2)"
   ]
  },
  {
   "cell_type": "code",
   "execution_count": 3,
   "metadata": {
    "jupyter": {
     "source_hidden": true
    }
   },
   "outputs": [
    {
     "data": {
      "text/html": [
       "<html><script type=\"math/tex; mode=display\">\\newcommand{\\Bold}[1]{\\mathbf{#1}}\\left(\\begin{array}{r}\n",
       "2 \\\\\n",
       "6 \\\\\n",
       "-1\n",
       "\\end{array}\\right) \\left(\\begin{array}{r}\n",
       "5 \\\\\n",
       "-1\n",
       "\\end{array}\\right)</script></html>"
      ],
      "text/latex": [
       "\\begin{math}\n",
       "\\newcommand{\\Bold}[1]{\\mathbf{#1}}\\left(\\begin{array}{r}\n",
       "2 \\\\\n",
       "6 \\\\\n",
       "-1\n",
       "\\end{array}\\right) \\left(\\begin{array}{r}\n",
       "5 \\\\\n",
       "-1\n",
       "\\end{array}\\right)\n",
       "\\end{math}"
      ],
      "text/plain": [
       "[ 2]\n",
       "[ 6]\n",
       "[-1] [ 5]\n",
       "[-1]"
      ]
     },
     "metadata": {},
     "output_type": "display_data"
    }
   ],
   "source": [
    "A = Matrix([[2], [6], [-1]])\n",
    "x = vector([5, -1])\n",
    "show(A, x.column())"
   ]
  },
  {
   "cell_type": "markdown",
   "metadata": {},
   "source": [
    "By the same princible as above, this doesn't have a solution either.  \n",
    "#### 3)"
   ]
  },
  {
   "cell_type": "code",
   "execution_count": 4,
   "metadata": {
    "jupyter": {
     "source_hidden": true
    }
   },
   "outputs": [
    {
     "data": {
      "text/html": [
       "<html><script type=\"math/tex; mode=display\">\\newcommand{\\Bold}[1]{\\mathbf{#1}}\\left(\\begin{array}{rr}\n",
       "6 & 5 \\\\\n",
       "-4 & -3 \\\\\n",
       "7 & 6\n",
       "\\end{array}\\right) \\left(\\begin{array}{r}\n",
       "2 \\\\\n",
       "-3\n",
       "\\end{array}\\right)</script></html>"
      ],
      "text/latex": [
       "\\begin{math}\n",
       "\\newcommand{\\Bold}[1]{\\mathbf{#1}}\\left(\\begin{array}{rr}\n",
       "6 & 5 \\\\\n",
       "-4 & -3 \\\\\n",
       "7 & 6\n",
       "\\end{array}\\right) \\left(\\begin{array}{r}\n",
       "2 \\\\\n",
       "-3\n",
       "\\end{array}\\right)\n",
       "\\end{math}"
      ],
      "text/plain": [
       "[ 6  5]\n",
       "[-4 -3]\n",
       "[ 7  6] [ 2]\n",
       "[-3]"
      ]
     },
     "metadata": {},
     "output_type": "display_data"
    }
   ],
   "source": [
    "A = Matrix([[6, 5], [-4, -3], [7, 6]])\n",
    "x = vector([2, -3])\n",
    "show(A, x.column())"
   ]
  },
  {
   "cell_type": "markdown",
   "metadata": {},
   "source": [
    "Here the column/row count matches up.  \n",
    "Using the definition, we now use the matrix elements as factors for each column vector in the matrix:"
   ]
  },
  {
   "cell_type": "code",
   "execution_count": 5,
   "metadata": {
    "jupyter": {
     "source_hidden": true
    }
   },
   "outputs": [
    {
     "data": {
      "text/html": [
       "<html><script type=\"math/tex; mode=display\">\\newcommand{\\Bold}[1]{\\mathbf{#1}}2 \\left(\\begin{array}{r}\n",
       "6 \\\\\n",
       "-4 \\\\\n",
       "7\n",
       "\\end{array}\\right) + -3 \\left(\\begin{array}{r}\n",
       "5 \\\\\n",
       "-3 \\\\\n",
       "6\n",
       "\\end{array}\\right)</script></html>"
      ],
      "text/latex": [
       "\\begin{math}\n",
       "\\newcommand{\\Bold}[1]{\\mathbf{#1}}2 \\left(\\begin{array}{r}\n",
       "6 \\\\\n",
       "-4 \\\\\n",
       "7\n",
       "\\end{array}\\right) + -3 \\left(\\begin{array}{r}\n",
       "5 \\\\\n",
       "-3 \\\\\n",
       "6\n",
       "\\end{array}\\right)\n",
       "\\end{math}"
      ],
      "text/plain": [
       "2 [ 6]\n",
       "[-4]\n",
       "[ 7] '+' -3 [ 5]\n",
       "[-3]\n",
       "[ 6]"
      ]
     },
     "metadata": {},
     "output_type": "display_data"
    }
   ],
   "source": [
    "def show_def_product(A, x):\n",
    "    elm = []\n",
    "    for i in range(len(x)):\n",
    "        elm.extend((x[i], A[:,i], '+'))\n",
    "    show(*elm[:-1])\n",
    "show_def_product(A, x)"
   ]
  },
  {
   "cell_type": "markdown",
   "metadata": {},
   "source": [
    "Or using the row-vector rule the solution can be calculated by multiplying the vector elements with the row elements and summing up, yielding a 3x1 vector:  \n",
    "$$ = \\begin{pmatrix} 2*6 + (-3)*5 \\\\ 2*(-4) + (-3)*(-3) \\\\ 2*7 + (-3)*6 \\end{pmatrix} $$"
   ]
  },
  {
   "cell_type": "code",
   "execution_count": 6,
   "metadata": {
    "jupyter": {
     "source_hidden": true
    }
   },
   "outputs": [
    {
     "data": {
      "text/html": [
       "<html><script type=\"math/tex; mode=display\">\\newcommand{\\Bold}[1]{\\mathbf{#1}}\\verb|=| \\left(\\begin{array}{r}\n",
       "-3 \\\\\n",
       "1 \\\\\n",
       "-4\n",
       "\\end{array}\\right)</script></html>"
      ],
      "text/latex": [
       "\\begin{math}\n",
       "\\newcommand{\\Bold}[1]{\\mathbf{#1}}\\verb|=| \\left(\\begin{array}{r}\n",
       "-3 \\\\\n",
       "1 \\\\\n",
       "-4\n",
       "\\end{array}\\right)\n",
       "\\end{math}"
      ],
      "text/plain": [
       "'=' [-3]\n",
       "[ 1]\n",
       "[-4]"
      ]
     },
     "metadata": {},
     "output_type": "display_data"
    }
   ],
   "source": [
    "show('=', (A*x).column())"
   ]
  },
  {
   "cell_type": "markdown",
   "metadata": {},
   "source": [
    "#### 4)"
   ]
  },
  {
   "cell_type": "code",
   "execution_count": 7,
   "metadata": {
    "jupyter": {
     "source_hidden": true
    }
   },
   "outputs": [
    {
     "data": {
      "text/html": [
       "<html><script type=\"math/tex; mode=display\">\\newcommand{\\Bold}[1]{\\mathbf{#1}}\\left(\\begin{array}{rrr}\n",
       "8 & 3 & -4 \\\\\n",
       "5 & 1 & 2\n",
       "\\end{array}\\right) \\left(\\begin{array}{r}\n",
       "1 \\\\\n",
       "1 \\\\\n",
       "1\n",
       "\\end{array}\\right)</script></html>"
      ],
      "text/latex": [
       "\\begin{math}\n",
       "\\newcommand{\\Bold}[1]{\\mathbf{#1}}\\left(\\begin{array}{rrr}\n",
       "8 & 3 & -4 \\\\\n",
       "5 & 1 & 2\n",
       "\\end{array}\\right) \\left(\\begin{array}{r}\n",
       "1 \\\\\n",
       "1 \\\\\n",
       "1\n",
       "\\end{array}\\right)\n",
       "\\end{math}"
      ],
      "text/plain": [
       "[ 8  3 -4]\n",
       "[ 5  1  2] [1]\n",
       "[1]\n",
       "[1]"
      ]
     },
     "metadata": {},
     "output_type": "display_data"
    }
   ],
   "source": [
    "A = Matrix([[8, 3, -4], [5, 1, 2]])\n",
    "x = vector([1, 1, 1])\n",
    "show(A, x.column())"
   ]
  },
  {
   "cell_type": "markdown",
   "metadata": {},
   "source": [
    "In this case since all the elements of the vector are 1, the result is just the sums of the columns:  \n",
    "$$ = \\begin{pmatrix} 8 + 3 -4 \\\\ 5 + 1 + 2 \\end{pmatrix} $$"
   ]
  },
  {
   "cell_type": "code",
   "execution_count": 8,
   "metadata": {
    "jupyter": {
     "source_hidden": true
    }
   },
   "outputs": [
    {
     "data": {
      "text/html": [
       "<html><script type=\"math/tex; mode=display\">\\newcommand{\\Bold}[1]{\\mathbf{#1}}\\verb|=| \\left(\\begin{array}{r}\n",
       "7 \\\\\n",
       "8\n",
       "\\end{array}\\right)</script></html>"
      ],
      "text/latex": [
       "\\begin{math}\n",
       "\\newcommand{\\Bold}[1]{\\mathbf{#1}}\\verb|=| \\left(\\begin{array}{r}\n",
       "7 \\\\\n",
       "8\n",
       "\\end{array}\\right)\n",
       "\\end{math}"
      ],
      "text/plain": [
       "'= ' [7]\n",
       "[8]"
      ]
     },
     "metadata": {},
     "output_type": "display_data"
    }
   ],
   "source": [
    "show('= ', (A*x).column())"
   ]
  },
  {
   "cell_type": "markdown",
   "metadata": {},
   "source": [
    "#### 9)\n",
    "In Exercises 9 and 10, write the system first as a vector equation and then as a matrix equation.  \n",
    "  \n",
    "$ 3 x_1 + x_2 - 5 x_3 = 9 $  \n",
    "$ x_2 + 4 x_3 = 0 $  \n",
    "  \n",
    "firstly, to write this as a vector equation, a vector of the factors of each variable as well as one for the right hand side values are used to create an equation as follows:  \n",
    "$$ \\begin{pmatrix} 0 \\\\ 3 \\end{pmatrix} x_1 + \\begin{pmatrix} 1 \\\\ 1 \\end{pmatrix} x_2 + \\begin{pmatrix} 5 \\\\ 4 \\end{pmatrix} x_3 = \\begin{pmatrix} 9 \\\\ 0 \\end{pmatrix}$$  \n",
    "alternatively as a matrix equation it would look like this:  \n",
    "$$ \\begin{pmatrix} 3 & 1 & 5 \\\\ 0 & 1 & 4 \\end{pmatrix} \\begin{pmatrix} x_1 \\\\ x_2 \\\\ x_3 \\end{pmatrix} = \\begin{pmatrix} 9 \\\\ 0 \\end{pmatrix} $$"
   ]
  },
  {
   "cell_type": "markdown",
   "metadata": {},
   "source": [
    "#### 11)\n",
    "Given A and b in Exercises 11 and 12, write the augmented matrix\n",
    "for the linear system that corresponds to the matrix equation\n",
    "A x D b. Then solve the system and write the solution as a vector."
   ]
  },
  {
   "cell_type": "code",
   "execution_count": 9,
   "metadata": {
    "jupyter": {
     "source_hidden": true
    }
   },
   "outputs": [
    {
     "data": {
      "text/html": [
       "<html><script type=\"math/tex; mode=display\">\\newcommand{\\Bold}[1]{\\mathbf{#1}}\\verb|A|\\phantom{\\verb!x!}\\verb|=| \\left(\\begin{array}{rrr}\n",
       "1 & 2 & 4 \\\\\n",
       "0 & 1 & 5 \\\\\n",
       "-2 & -4 & -3\n",
       "\\end{array}\\right) \\verb|,|\\phantom{\\verb!x!}\\verb|b|\\phantom{\\verb!x!}\\verb|=| \\left(\\begin{array}{r}\n",
       "-2 \\\\\n",
       "2 \\\\\n",
       "9\n",
       "\\end{array}\\right)</script></html>"
      ],
      "text/latex": [
       "\\begin{math}\n",
       "\\newcommand{\\Bold}[1]{\\mathbf{#1}}\\verb|A|\\phantom{\\verb!x!}\\verb|=| \\left(\\begin{array}{rrr}\n",
       "1 & 2 & 4 \\\\\n",
       "0 & 1 & 5 \\\\\n",
       "-2 & -4 & -3\n",
       "\\end{array}\\right) \\verb|,|\\phantom{\\verb!x!}\\verb|b|\\phantom{\\verb!x!}\\verb|=| \\left(\\begin{array}{r}\n",
       "-2 \\\\\n",
       "2 \\\\\n",
       "9\n",
       "\\end{array}\\right)\n",
       "\\end{math}"
      ],
      "text/plain": [
       "'A = ' [ 1  2  4]\n",
       "[ 0  1  5]\n",
       "[-2 -4 -3] ', b = ' [-2]\n",
       "[ 2]\n",
       "[ 9]"
      ]
     },
     "metadata": {},
     "output_type": "display_data"
    }
   ],
   "source": [
    "\n",
    "A = Matrix(QQ, [[1, 2, 4], [0, 1, 5], [-2, -4, -3]])\n",
    "b = vector(QQ, [-2, 2, 9])\n",
    "show('A = ', A, ', b = ', b.column())"
   ]
  },
  {
   "cell_type": "markdown",
   "metadata": {},
   "source": [
    "Firstly b is added as a fourth column to A in order to form the augmented matrix:"
   ]
  },
  {
   "cell_type": "code",
   "execution_count": 10,
   "metadata": {
    "jupyter": {
     "source_hidden": true
    }
   },
   "outputs": [
    {
     "data": {
      "text/html": [
       "<html><script type=\"math/tex; mode=display\">\\newcommand{\\Bold}[1]{\\mathbf{#1}}\\left(\\begin{array}{rrrr}\n",
       "1 & 2 & 4 & -2 \\\\\n",
       "0 & 1 & 5 & 2 \\\\\n",
       "-2 & -4 & -3 & 9\n",
       "\\end{array}\\right)</script></html>"
      ],
      "text/latex": [
       "\\begin{math}\n",
       "\\newcommand{\\Bold}[1]{\\mathbf{#1}}\\left(\\begin{array}{rrrr}\n",
       "1 & 2 & 4 & -2 \\\\\n",
       "0 & 1 & 5 & 2 \\\\\n",
       "-2 & -4 & -3 & 9\n",
       "\\end{array}\\right)\n",
       "\\end{math}"
      ],
      "text/plain": [
       "[ 1  2  4 -2]\n",
       "[ 0  1  5  2]\n",
       "[-2 -4 -3  9]"
      ]
     },
     "metadata": {},
     "output_type": "display_data"
    },
    {
     "name": "stdout",
     "output_type": "stream",
     "text": [
      "\n",
      "Then the third row needs to be changed in order to make the third column the pivot:\n",
      "\n"
     ]
    },
    {
     "data": {
      "text/html": [
       "<html><script type=\"math/tex; mode=display\">\\newcommand{\\Bold}[1]{\\mathbf{#1}}\\left(\\begin{array}{rrrr}\n",
       "1 & 2 & 4 & -2 \\\\\n",
       "0 & 1 & 5 & 2 \\\\\n",
       "0 & 0 & 5 & 5\n",
       "\\end{array}\\right)</script></html>"
      ],
      "text/latex": [
       "\\begin{math}\n",
       "\\newcommand{\\Bold}[1]{\\mathbf{#1}}\\left(\\begin{array}{rrrr}\n",
       "1 & 2 & 4 & -2 \\\\\n",
       "0 & 1 & 5 & 2 \\\\\n",
       "0 & 0 & 5 & 5\n",
       "\\end{array}\\right)\n",
       "\\end{math}"
      ],
      "text/plain": [
       "[ 1  2  4 -2]\n",
       "[ 0  1  5  2]\n",
       "[ 0  0  5  5]"
      ]
     },
     "metadata": {},
     "output_type": "display_data"
    },
    {
     "name": "stdout",
     "output_type": "stream",
     "text": [
      "\n"
     ]
    },
    {
     "data": {
      "text/html": [
       "<html><script type=\"math/tex; mode=display\">\\newcommand{\\Bold}[1]{\\mathbf{#1}}\\left(\\begin{array}{rrrr}\n",
       "1 & 2 & 4 & -2 \\\\\n",
       "0 & 1 & 5 & 2 \\\\\n",
       "0 & 0 & 1 & 1\n",
       "\\end{array}\\right)</script></html>"
      ],
      "text/latex": [
       "\\begin{math}\n",
       "\\newcommand{\\Bold}[1]{\\mathbf{#1}}\\left(\\begin{array}{rrrr}\n",
       "1 & 2 & 4 & -2 \\\\\n",
       "0 & 1 & 5 & 2 \\\\\n",
       "0 & 0 & 1 & 1\n",
       "\\end{array}\\right)\n",
       "\\end{math}"
      ],
      "text/plain": [
       "[ 1  2  4 -2]\n",
       "[ 0  1  5  2]\n",
       "[ 0  0  1  1]"
      ]
     },
     "metadata": {},
     "output_type": "display_data"
    },
    {
     "name": "stdout",
     "output_type": "stream",
     "text": [
      "\n",
      "Then the third row needs to be changed in order to make the third column the pivot:\n",
      "\n"
     ]
    },
    {
     "data": {
      "text/html": [
       "<html><script type=\"math/tex; mode=display\">\\newcommand{\\Bold}[1]{\\mathbf{#1}}\\left(\\begin{array}{rrrr}\n",
       "1 & 2 & 4 & -2 \\\\\n",
       "0 & 1 & 0 & -3 \\\\\n",
       "0 & 0 & 1 & 1\n",
       "\\end{array}\\right)</script></html>"
      ],
      "text/latex": [
       "\\begin{math}\n",
       "\\newcommand{\\Bold}[1]{\\mathbf{#1}}\\left(\\begin{array}{rrrr}\n",
       "1 & 2 & 4 & -2 \\\\\n",
       "0 & 1 & 0 & -3 \\\\\n",
       "0 & 0 & 1 & 1\n",
       "\\end{array}\\right)\n",
       "\\end{math}"
      ],
      "text/plain": [
       "[ 1  2  4 -2]\n",
       "[ 0  1  0 -3]\n",
       "[ 0  0  1  1]"
      ]
     },
     "metadata": {},
     "output_type": "display_data"
    },
    {
     "name": "stdout",
     "output_type": "stream",
     "text": [
      "\n"
     ]
    },
    {
     "data": {
      "text/html": [
       "<html><script type=\"math/tex; mode=display\">\\newcommand{\\Bold}[1]{\\mathbf{#1}}\\left(\\begin{array}{rrrr}\n",
       "1 & 0 & 4 & 4 \\\\\n",
       "0 & 1 & 0 & -3 \\\\\n",
       "0 & 0 & 1 & 1\n",
       "\\end{array}\\right)</script></html>"
      ],
      "text/latex": [
       "\\begin{math}\n",
       "\\newcommand{\\Bold}[1]{\\mathbf{#1}}\\left(\\begin{array}{rrrr}\n",
       "1 & 0 & 4 & 4 \\\\\n",
       "0 & 1 & 0 & -3 \\\\\n",
       "0 & 0 & 1 & 1\n",
       "\\end{array}\\right)\n",
       "\\end{math}"
      ],
      "text/plain": [
       "[ 1  0  4  4]\n",
       "[ 0  1  0 -3]\n",
       "[ 0  0  1  1]"
      ]
     },
     "metadata": {},
     "output_type": "display_data"
    },
    {
     "name": "stdout",
     "output_type": "stream",
     "text": [
      "\n"
     ]
    },
    {
     "data": {
      "text/html": [
       "<html><script type=\"math/tex; mode=display\">\\newcommand{\\Bold}[1]{\\mathbf{#1}}\\left(\\begin{array}{rrrr}\n",
       "1 & 0 & 0 & 0 \\\\\n",
       "0 & 1 & 0 & -3 \\\\\n",
       "0 & 0 & 1 & 1\n",
       "\\end{array}\\right)</script></html>"
      ],
      "text/latex": [
       "\\begin{math}\n",
       "\\newcommand{\\Bold}[1]{\\mathbf{#1}}\\left(\\begin{array}{rrrr}\n",
       "1 & 0 & 0 & 0 \\\\\n",
       "0 & 1 & 0 & -3 \\\\\n",
       "0 & 0 & 1 & 1\n",
       "\\end{array}\\right)\n",
       "\\end{math}"
      ],
      "text/plain": [
       "[ 1  0  0  0]\n",
       "[ 0  1  0 -3]\n",
       "[ 0  0  1  1]"
      ]
     },
     "metadata": {},
     "output_type": "display_data"
    },
    {
     "name": "stdout",
     "output_type": "stream",
     "text": [
      "\n",
      "Which leaves us with the solution to the linear system in the last column:\n",
      "\n"
     ]
    },
    {
     "data": {
      "text/html": [
       "<html><script type=\"math/tex; mode=display\">\\newcommand{\\Bold}[1]{\\mathbf{#1}}\\left(\\begin{array}{r}\n",
       "0 \\\\\n",
       "-3 \\\\\n",
       "1\n",
       "\\end{array}\\right)</script></html>"
      ],
      "text/latex": [
       "\\begin{math}\n",
       "\\newcommand{\\Bold}[1]{\\mathbf{#1}}\\left(\\begin{array}{r}\n",
       "0 \\\\\n",
       "-3 \\\\\n",
       "1\n",
       "\\end{array}\\right)\n",
       "\\end{math}"
      ],
      "text/plain": [
       "[ 0]\n",
       "[-3]\n",
       "[ 1]"
      ]
     },
     "metadata": {},
     "output_type": "display_data"
    }
   ],
   "source": [
    "Ab = A.augment(b);\n",
    "show(Ab)\n",
    "print('\\nThen the third row needs to be changed in order to make the third column the pivot:\\n')\n",
    "Ab.add_multiple_of_row(2, 0, 2)\n",
    "show(Ab)\n",
    "print()\n",
    "Ab.rescale_row(2, 1/5)\n",
    "show(Ab)\n",
    "print('\\nThen the third row needs to be changed in order to make the third column the pivot:\\n')\n",
    "Ab.add_multiple_of_row(1, 2, -5)\n",
    "show(Ab)\n",
    "print()\n",
    "Ab.add_multiple_of_row(0, 1, -2)\n",
    "show(Ab)\n",
    "print()\n",
    "Ab.add_multiple_of_row(0, 2, -4)\n",
    "show(Ab)\n",
    "print('\\nWhich leaves us with the solution to the linear system in the last column:\\n')\n",
    "show(Ab.column(-1).column())"
   ]
  },
  {
   "cell_type": "markdown",
   "metadata": {},
   "source": [
    "#### 21)\n",
    "Let $ v_1 = \\begin{pmatrix} 1 \\\\ 0 \\\\ -1 \\\\ 0 \\end{pmatrix}, v_2 = \\begin{pmatrix} 0 \\\\ -1 \\\\ 0 \\\\ 1 \\end{pmatrix}, v_3 = \\begin{pmatrix} 1 \\\\ 0 \\\\ 0 \\\\ -1 \\end{pmatrix} $  \n",
    "Does ${v_1, v_2, v_3}$ span $\\Bold{R}^4$? Why or why not?  \n",
    "  \n"
   ]
  },
  {
   "cell_type": "code",
   "execution_count": 11,
   "metadata": {},
   "outputs": [
    {
     "data": {
      "text/html": [
       "<html><script type=\"math/tex; mode=display\">\\newcommand{\\Bold}[1]{\\mathbf{#1}}\\verb|v_1|\\phantom{\\verb!x!}\\verb|=| \\left(1,\\,0,\\,-1,\\,0\\right) \\verb|,|\\phantom{\\verb!x!}\\verb|v_2|\\phantom{\\verb!x!}\\verb|=| \\left(0,\\,-1,\\,0,\\,1\\right) \\verb|,|\\phantom{\\verb!x!}\\verb|v_3|\\phantom{\\verb!x!}\\verb|=| \\left(1,\\,0,\\,0,\\,-1\\right)</script></html>"
      ],
      "text/latex": [
       "\\begin{math}\n",
       "\\newcommand{\\Bold}[1]{\\mathbf{#1}}\\verb|v_1|\\phantom{\\verb!x!}\\verb|=| \\left(1,\\,0,\\,-1,\\,0\\right) \\verb|,|\\phantom{\\verb!x!}\\verb|v_2|\\phantom{\\verb!x!}\\verb|=| \\left(0,\\,-1,\\,0,\\,1\\right) \\verb|,|\\phantom{\\verb!x!}\\verb|v_3|\\phantom{\\verb!x!}\\verb|=| \\left(1,\\,0,\\,0,\\,-1\\right)\n",
       "\\end{math}"
      ],
      "text/plain": [
       "'v_1 = ' (1, 0, -1, 0) ', v_2 = ' (0, -1, 0, 1) ', v_3 = ' (1, 0, 0, -1)"
      ]
     },
     "metadata": {},
     "output_type": "display_data"
    }
   ],
   "source": [
    "v_1 = vector([1, 0, -1, 0])\n",
    "v_2 = vector([0, -1, 0, 1])\n",
    "v_3 = vector([1, 0, 0, -1])\n",
    "show('v_1 = ', v_1, ', v_2 = ', v_2, ', v_3 = ', v_3)"
   ]
  },
  {
   "cell_type": "code",
   "execution_count": 12,
   "metadata": {},
   "outputs": [
    {
     "data": {
      "text/plain": [
       "\\Bold{R}"
      ]
     },
     "execution_count": 12,
     "metadata": {},
     "output_type": "execute_result"
    }
   ],
   "source": [
    "latex(RR)"
   ]
  },
  {
   "cell_type": "code",
   "execution_count": null,
   "metadata": {},
   "outputs": [],
   "source": []
  }
 ],
 "metadata": {
  "hide_input": false,
  "kernelspec": {
   "display_name": "SageMath 9.2",
   "language": "sage",
   "name": "sagemath"
  },
  "language_info": {
   "codemirror_mode": {
    "name": "ipython",
    "version": 3
   },
   "file_extension": ".py",
   "mimetype": "text/x-python",
   "name": "python",
   "nbconvert_exporter": "python",
   "pygments_lexer": "ipython3",
   "version": "3.8.5"
  }
 },
 "nbformat": 4,
 "nbformat_minor": 4
}
