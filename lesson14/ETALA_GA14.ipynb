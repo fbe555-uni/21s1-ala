{
 "cells": [
  {
   "cell_type": "code",
   "execution_count": 1,
   "metadata": {
    "init_cell": true
   },
   "outputs": [],
   "source": [
    "%display latex\n",
    "load('../etala_utilities.sage')"
   ]
  },
  {
   "cell_type": "markdown",
   "metadata": {},
   "source": [
    "### ETALA lesson 14\n",
    "# Group Assignment\n",
    "Monday May 17\n",
    "* __Lecture on chapters__\n",
    "    * 7.4 The Singular Value Decomposition\n",
    "    * 7.5 Applications to Image Processing and Statistics\n",
    "* __Problems__\n",
    "    * 7.4: 1-5, 7, 9, 15, 18\n",
    "    * Chapter 7 Supplementary Exercises: 15, 16\n",
    "    * All remaining problems in the 2012, Q3 exam (i.e. 2, 4, 5, 6)"
   ]
  },
  {
   "cell_type": "markdown",
   "metadata": {},
   "source": [
    "## Chapter 7.4"
   ]
  },
  {
   "attachments": {
    "billede.png": {
     "image/png": "[encoded data removed]"
    }
   },
   "cell_type": "markdown",
   "metadata": {},
   "source": [
    "### Problem 1-4\n",
    "![billede.png](attachment:billede.png)"
   ]
  },
  {
   "cell_type": "markdown",
   "metadata": {},
   "source": [
    "The singular values of the matrices (here referred to as $A$) are calculated as the set of the squareroots of the eigencvalues of $A^TA$ in decreasing order"
   ]
  },
  {
   "cell_type": "code",
   "execution_count": 17,
   "metadata": {},
   "outputs": [
    {
     "data": {
      "text/html": [
       "<html><script type=\"math/tex; mode=display\">\\newcommand{\\Bold}[1]{\\mathbf{#1}}\\def\\bs#1{{\\boldsymbol #1}}\\text{sv1} = \\left[3, 1\\right]</script></html>"
      ],
      "text/plain": [
       "\\text{sv1} = \\left[3, 1\\right]"
      ]
     },
     "metadata": {},
     "output_type": "display_data"
    },
    {
     "data": {
      "text/html": [
       "<html><script type=\"math/tex; mode=display\">\\newcommand{\\Bold}[1]{\\mathbf{#1}}\\def\\bs#1{{\\boldsymbol #1}}\\text{sv2} = \\left[3, 0\\right]</script></html>"
      ],
      "text/plain": [
       "\\text{sv2} = \\left[3, 0\\right]"
      ]
     },
     "metadata": {},
     "output_type": "display_data"
    },
    {
     "data": {
      "text/html": [
       "<html><script type=\"math/tex; mode=display\">\\newcommand{\\Bold}[1]{\\mathbf{#1}}\\def\\bs#1{{\\boldsymbol #1}}\\text{sv3} = \\left[4, 1\\right]</script></html>"
      ],
      "text/plain": [
       "\\text{sv3} = \\left[4, 1\\right]"
      ]
     },
     "metadata": {},
     "output_type": "display_data"
    },
    {
     "data": {
      "text/html": [
       "<html><script type=\"math/tex; mode=display\">\\newcommand{\\Bold}[1]{\\mathbf{#1}}\\def\\bs#1{{\\boldsymbol #1}}\\text{sv4} = \\left[9, 1\\right]</script></html>"
      ],
      "text/plain": [
       "\\text{sv4} = \\left[9, 1\\right]"
      ]
     },
     "metadata": {},
     "output_type": "display_data"
    }
   ],
   "source": [
    "A_1 = Matrix(SR, 2, 2, [1, 0, 0, -3])\n",
    "A_2 = Matrix(SR, 2, 2, [-3, 0, 0, 0])\n",
    "A_3 = Matrix(SR, 2, 2, [2, 3, 0, 2])\n",
    "A_4 = Matrix(SR, 2, 2, [3, 0, 8, 3])\n",
    "sv1, sv2, sv3, sv4 = [sorted([sqrt(e) for e in (A.T*A).eigenvalues()], reverse=True) for A in (A_1, A_2, A_3, A_4)]; show_var(approx=False)"
   ]
  },
  {
   "attachments": {
    "billede.png": {
     "image/png": "[encoded data removed]"
    }
   },
   "cell_type": "markdown",
   "metadata": {},
   "source": [
    "### Problem 5\n",
    "![billede.png](attachment:billede.png)"
   ]
  },
  {
   "cell_type": "markdown",
   "metadata": {},
   "source": [
    "First calculate $A^TA$ and it's eigenvectors and eigenvalues an use the latter to construct $V$  \n",
    "The matrix $A^TA$ can be calculated by head as  \n",
    "$ A^TA = \\begin{bmatrix} -2\\cdot -2 & 0 \\\\ 0 & 0 \\end{bmatrix} = \\begin{bmatrix} 4 & 0 \\\\ 0 & 0 \\end{bmatrix}$  \n",
    "for which the eigenvalues are clearly $\\lambda_1 = 4$ and $\\lambda_2 = 0$, with the corresponding unit eigenvectors $\\boldsymbol v_1 = \\begin{bmatrix} 1 \\\\ 0 \\end{bmatrix} $ and $\\boldsymbol v_2 = \\begin{bmatrix} 0 \\\\ 1 \\end{bmatrix} $\n",
    "This results in   \n",
    "$\\Sigma = \\begin{bmatrix} \\sqrt 4 & 0 \\\\ 0 & 0 \\end{bmatrix} = \\begin{bmatrix} 2 & 0 \\\\ 0 & 0 \\end{bmatrix}$  \n",
    "and  \n",
    "$V = \\begin{bmatrix} 1 & 0 \\\\ 0 & 1 \\end{bmatrix}$  \n",
    "The first column of $U$ can then be formed by calculating $A\\boldsymbol v_1$, that is $\\boldsymbol u_1 = \\left \\lvert \\begin{bmatrix} -2 & 0 \\\\ 0 & 0 \\end{bmatrix} \\begin{bmatrix} 1 \\\\ 0 \\end{bmatrix} \\right \\rvert = \\left \\lvert \\begin{bmatrix} -2 \\\\ 0 \\end{bmatrix} \\right \\rvert = \\begin{bmatrix} -1 \\\\ 0 \\end{bmatrix}$  \n",
    "In order to find the second column of $U$ a second vector that forms an orthonormal basis for $\\Bbb R^2$ is added. Here $\\boldsymbol u_2 = \\begin{bmatrix} 0 \\\\ 1 \\end {bmatrix}$ will be used leading to:  \n",
    "$ U =  \\begin{bmatrix} -1 & 0 \\\\ 0 & 1 \\end{bmatrix}$  \n",
    "and  \n",
    "$$ A = U\\Sigma V^T = \\begin{bmatrix} -1 & 0 \\\\ 0 & 1 \\end{bmatrix}  \\begin{bmatrix} 2 & 0 \\\\ 0 & 0 \\end{bmatrix} \\begin{bmatrix} 1 & 0 \\\\ 0 & 1 \\end{bmatrix} $$"
   ]
  },
  {
   "cell_type": "markdown",
   "metadata": {},
   "source": [
    "### Problem 7\n"
   ]
  }
 ],
 "metadata": {
  "kernelspec": {
   "display_name": "SageMath 9.0",
   "language": "sage",
   "name": "sagemath"
  },
  "language_info": {
   "codemirror_mode": {
    "name": "ipython",
    "version": 3
   },
   "file_extension": ".py",
   "mimetype": "text/x-python",
   "name": "python",
   "nbconvert_exporter": "python",
   "pygments_lexer": "ipython3",
   "version": "3.8.5"
  },
  "varInspector": {
   "cols": {
    "lenName": 16,
    "lenType": 16,
    "lenVar": 40
   },
   "kernels_config": {
    "python": {
     "delete_cmd_postfix": "",
     "delete_cmd_prefix": "del ",
     "library": "var_list.py",
     "varRefreshCmd": "print(var_dic_list())"
    },
    "r": {
     "delete_cmd_postfix": ") ",
     "delete_cmd_prefix": "rm(",
     "library": "var_list.r",
     "varRefreshCmd": "cat(var_dic_list()) "
    }
   },
   "types_to_exclude": [
    "module",
    "function",
    "builtin_function_or_method",
    "instance",
    "_Feature"
   ],
   "window_display": false
  }
 },
 "nbformat": 4,
 "nbformat_minor": 4
}
