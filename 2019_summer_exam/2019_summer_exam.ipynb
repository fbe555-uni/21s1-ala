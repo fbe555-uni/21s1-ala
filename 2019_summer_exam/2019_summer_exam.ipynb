{
 "cells": [
  {
   "cell_type": "code",
   "execution_count": 1,
   "metadata": {},
   "outputs": [],
   "source": [
    "load('../etala_utilities.sage')"
   ]
  },
  {
   "cell_type": "markdown",
   "metadata": {},
   "source": [
    "# 2019 Summer Exam"
   ]
  },
  {
   "cell_type": "markdown",
   "metadata": {},
   "source": [
    "## Problem 1\n",
    "![image.png](problem1.png)"
   ]
  },
  {
   "cell_type": "markdown",
   "metadata": {},
   "source": [
    "### 1."
   ]
  },
  {
   "cell_type": "markdown",
   "metadata": {},
   "source": [
    "In order to solve the equations, the augmented matrices are formed and put into row reduced echelon form"
   ]
  },
  {
   "cell_type": "code",
   "execution_count": 2,
   "metadata": {},
   "outputs": [
    {
     "data": {
      "text/html": [
       "<html><script type=\"math/tex; mode=display\">\\newcommand{\\Bold}[1]{\\mathbf{#1}}\\def\\bs#1{{\\boldsymbol #1}}\\text{A0} = \\left[\\begin{array}{rrr|r}\n",
       "2 & 1 & 3 & 0 \\\\\n",
       "3 & 0 & 6 & 0 \\\\\n",
       "-1 & 2 & -4 & 0 \\\\\n",
       "1 & -2 & 4 & 0\n",
       "\\end{array}\\right]</script></html>"
      ],
      "text/latex": [
       "\\begin{math}\n",
       "\\newcommand{\\Bold}[1]{\\mathbf{#1}}\\def\\bs#1{{\\boldsymbol #1}}\\text{A0} = \\left[\\begin{array}{rrr|r}\n",
       "2 & 1 & 3 & 0 \\\\\n",
       "3 & 0 & 6 & 0 \\\\\n",
       "-1 & 2 & -4 & 0 \\\\\n",
       "1 & -2 & 4 & 0\n",
       "\\end{array}\\right]\n",
       "\\end{math}"
      ],
      "text/plain": [
       "\\text{A0} = \\left[\\begin{array}{rrr|r}\n",
       "2 & 1 & 3 & 0 \\\\\n",
       "3 & 0 & 6 & 0 \\\\\n",
       "-1 & 2 & -4 & 0 \\\\\n",
       "1 & -2 & 4 & 0\n",
       "\\end{array}\\right]"
      ]
     },
     "metadata": {},
     "output_type": "display_data"
    },
    {
     "data": {
      "text/html": [
       "<html><script type=\"math/tex; mode=display\">\\newcommand{\\Bold}[1]{\\mathbf{#1}}\\def\\bs#1{{\\boldsymbol #1}}\\text{Ab} = \\left[\\begin{array}{rrr|r}\n",
       "2 & 1 & 3 & 4 \\\\\n",
       "3 & 0 & 6 & 12 \\\\\n",
       "-1 & 2 & -4 & -12 \\\\\n",
       "1 & -2 & 4 & 12\n",
       "\\end{array}\\right]</script></html>"
      ],
      "text/latex": [
       "\\begin{math}\n",
       "\\newcommand{\\Bold}[1]{\\mathbf{#1}}\\def\\bs#1{{\\boldsymbol #1}}\\text{Ab} = \\left[\\begin{array}{rrr|r}\n",
       "2 & 1 & 3 & 4 \\\\\n",
       "3 & 0 & 6 & 12 \\\\\n",
       "-1 & 2 & -4 & -12 \\\\\n",
       "1 & -2 & 4 & 12\n",
       "\\end{array}\\right]\n",
       "\\end{math}"
      ],
      "text/plain": [
       "\\text{Ab} = \\left[\\begin{array}{rrr|r}\n",
       "2 & 1 & 3 & 4 \\\\\n",
       "3 & 0 & 6 & 12 \\\\\n",
       "-1 & 2 & -4 & -12 \\\\\n",
       "1 & -2 & 4 & 12\n",
       "\\end{array}\\right]"
      ]
     },
     "metadata": {},
     "output_type": "display_data"
    },
    {
     "data": {
      "text/html": [
       "<html><script type=\"math/tex; mode=display\">\\newcommand{\\Bold}[1]{\\mathbf{#1}}\\def\\bs#1{{\\boldsymbol #1}}\\text{A0_rref} = \\left[\\begin{array}{rrr|r}\n",
       "1 & 0 & 2 & 0 \\\\\n",
       "0 & 1 & -1 & 0 \\\\\n",
       "0 & 0 & 0 & 0 \\\\\n",
       "0 & 0 & 0 & 0\n",
       "\\end{array}\\right]</script></html>"
      ],
      "text/latex": [
       "\\begin{math}\n",
       "\\newcommand{\\Bold}[1]{\\mathbf{#1}}\\def\\bs#1{{\\boldsymbol #1}}\\text{A0_rref} = \\left[\\begin{array}{rrr|r}\n",
       "1 & 0 & 2 & 0 \\\\\n",
       "0 & 1 & -1 & 0 \\\\\n",
       "0 & 0 & 0 & 0 \\\\\n",
       "0 & 0 & 0 & 0\n",
       "\\end{array}\\right]\n",
       "\\end{math}"
      ],
      "text/plain": [
       "\\text{A0_rref} = \\left[\\begin{array}{rrr|r}\n",
       "1 & 0 & 2 & 0 \\\\\n",
       "0 & 1 & -1 & 0 \\\\\n",
       "0 & 0 & 0 & 0 \\\\\n",
       "0 & 0 & 0 & 0\n",
       "\\end{array}\\right]"
      ]
     },
     "metadata": {},
     "output_type": "display_data"
    },
    {
     "data": {
      "text/html": [
       "<html><script type=\"math/tex; mode=display\">\\newcommand{\\Bold}[1]{\\mathbf{#1}}\\def\\bs#1{{\\boldsymbol #1}}\\text{Ab_rref} = \\left[\\begin{array}{rrr|r}\n",
       "1 & 0 & 2 & 4 \\\\\n",
       "0 & 1 & -1 & -4 \\\\\n",
       "0 & 0 & 0 & 0 \\\\\n",
       "0 & 0 & 0 & 0\n",
       "\\end{array}\\right]</script></html>"
      ],
      "text/latex": [
       "\\begin{math}\n",
       "\\newcommand{\\Bold}[1]{\\mathbf{#1}}\\def\\bs#1{{\\boldsymbol #1}}\\text{Ab_rref} = \\left[\\begin{array}{rrr|r}\n",
       "1 & 0 & 2 & 4 \\\\\n",
       "0 & 1 & -1 & -4 \\\\\n",
       "0 & 0 & 0 & 0 \\\\\n",
       "0 & 0 & 0 & 0\n",
       "\\end{array}\\right]\n",
       "\\end{math}"
      ],
      "text/plain": [
       "\\text{Ab_rref} = \\left[\\begin{array}{rrr|r}\n",
       "1 & 0 & 2 & 4 \\\\\n",
       "0 & 1 & -1 & -4 \\\\\n",
       "0 & 0 & 0 & 0 \\\\\n",
       "0 & 0 & 0 & 0\n",
       "\\end{array}\\right]"
      ]
     },
     "metadata": {},
     "output_type": "display_data"
    }
   ],
   "source": [
    "A = Matrix(SR, 4, 3, [2, 1, 3, 3, 0, 6, -1, 2, -4, 1, -2, 4])\n",
    "b = vector(SR, [4, 12, -12, 12])\n",
    "A0 = A.augment(vector(SR, 4), subdivide=True); show_var()\n",
    "Ab = A.augment(b, subdivide=True); show_var()\n",
    "A0_rref = A0.rref(); show_var()\n",
    "Ab_rref = Ab.rref(); show_var()"
   ]
  },
  {
   "cell_type": "markdown",
   "metadata": {},
   "source": [
    "for the first equation, this yields the equations:  \n",
    "$x_1 + 2x_3 = 0 \\Leftrightarrow x_1 = -2x_3$  \n",
    "$x_2 - x_3 = 0 \\Leftrightarrow x_2 = x_3$  \n",
    "which leads to the general solution:  \n",
    "$\\bs x = x_3 \\begin{bmatrix} -2 \\\\ 1 \\\\ 1 \\end{bmatrix} $  "
   ]
  },
  {
   "cell_type": "markdown",
   "metadata": {},
   "source": [
    "for the second equation, this yields the equations:  \n",
    "$x_1 + 2x_3 = 4 \\Leftrightarrow x_1 = 4 - 2x_3$  \n",
    "$x_2 - x_3 = -4 \\Leftrightarrow x_2 = -4 + x_3$  \n",
    "which leads to the general solution:  \n",
    "$\\bs x = \\begin{bmatrix} 4 \\\\ -4 \\\\ 0 \\end{bmatrix} + x_3 \\begin{bmatrix} -2 \\\\ 1 \\\\ 1 \\end{bmatrix} $  "
   ]
  },
  {
   "cell_type": "markdown",
   "metadata": {},
   "source": [
    "### 2."
   ]
  },
  {
   "cell_type": "markdown",
   "metadata": {},
   "source": [
    "Since the column space of $A$ is the set of all $\\bs b$ such that $A\\bs x = \\bs b$ has a solution, it is only possible if Col(A) doesn't span $\\Bbb R^4$. Since this would require at least four vectors, and A only has three columns, __it is possible to find a $\\bs b$ such that $A\\bs x = \\bs b$ doesn't have a solution__."
   ]
  },
  {
   "cell_type": "markdown",
   "metadata": {},
   "source": [
    "## Problem 2\n",
    "![image.png](problem2.png)"
   ]
  },
  {
   "cell_type": "markdown",
   "metadata": {},
   "source": [
    "### 1."
   ]
  },
  {
   "cell_type": "markdown",
   "metadata": {},
   "source": [
    "By theorem 12 in chapter 4, any set of 3 linearly independent vectors in $\\Bbb R^3$ forms a basis for $\\Bbb R^3$.\n",
    "Therefore if the set $\\left\\{\\bs v_1, \\bs v_2, \\bs v_3 \\right\\}$ is linearly independent.  \n",
    "To check this the three vectors are concatenated to form a matrix. By the invertible matrix theorem, the formed matrix will have a pivot in every row if and only if the columns are linearly independent."
   ]
  },
  {
   "cell_type": "code",
   "execution_count": 3,
   "metadata": {},
   "outputs": [
    {
     "data": {
      "text/html": [
       "<html><script type=\"math/tex; mode=display\">\\newcommand{\\Bold}[1]{\\mathbf{#1}}\\def\\bs#1{{\\boldsymbol #1}}\\text{P} = \\left[\\begin{array}{rrr}\n",
       "1 & 0 & 2 \\\\\n",
       "0 & 1 & 1 \\\\\n",
       "-3 & 2 & 2\n",
       "\\end{array}\\right]</script></html>"
      ],
      "text/latex": [
       "\\begin{math}\n",
       "\\newcommand{\\Bold}[1]{\\mathbf{#1}}\\def\\bs#1{{\\boldsymbol #1}}\\text{P} = \\left[\\begin{array}{rrr}\n",
       "1 & 0 & 2 \\\\\n",
       "0 & 1 & 1 \\\\\n",
       "-3 & 2 & 2\n",
       "\\end{array}\\right]\n",
       "\\end{math}"
      ],
      "text/plain": [
       "\\text{P} = \\left[\\begin{array}{rrr}\n",
       "1 & 0 & 2 \\\\\n",
       "0 & 1 & 1 \\\\\n",
       "-3 & 2 & 2\n",
       "\\end{array}\\right]"
      ]
     },
     "metadata": {},
     "output_type": "display_data"
    },
    {
     "data": {
      "text/html": [
       "<html><script type=\"math/tex; mode=display\">\\newcommand{\\Bold}[1]{\\mathbf{#1}}\\def\\bs#1{{\\boldsymbol #1}}\\text{P_rref} = \\left[\\begin{array}{rrr}\n",
       "1 & 0 & 0 \\\\\n",
       "0 & 1 & 0 \\\\\n",
       "0 & 0 & 1\n",
       "\\end{array}\\right]</script></html>"
      ],
      "text/latex": [
       "\\begin{math}\n",
       "\\newcommand{\\Bold}[1]{\\mathbf{#1}}\\def\\bs#1{{\\boldsymbol #1}}\\text{P_rref} = \\left[\\begin{array}{rrr}\n",
       "1 & 0 & 0 \\\\\n",
       "0 & 1 & 0 \\\\\n",
       "0 & 0 & 1\n",
       "\\end{array}\\right]\n",
       "\\end{math}"
      ],
      "text/plain": [
       "\\text{P_rref} = \\left[\\begin{array}{rrr}\n",
       "1 & 0 & 0 \\\\\n",
       "0 & 1 & 0 \\\\\n",
       "0 & 0 & 1\n",
       "\\end{array}\\right]"
      ]
     },
     "metadata": {},
     "output_type": "display_data"
    }
   ],
   "source": [
    "P = Matrix(3, 3, [1, 0, 2, 0, 1, 1, -3, 2, 2]); show_var()\n",
    "P_rref = P.rref(); show_var()"
   ]
  },
  {
   "cell_type": "markdown",
   "metadata": {},
   "source": [
    "since there are three pivots, __the set $\\left\\{\\bs v_1, \\bs v_2, \\bs v_3 \\right\\}$ forms a basis for $\\Bbb R^3$__. "
   ]
  },
  {
   "cell_type": "markdown",
   "metadata": {},
   "source": [
    "### 2."
   ]
  },
  {
   "cell_type": "markdown",
   "metadata": {},
   "source": [
    "By theorem 15 in chapter 4, the matrix $P$ above is the matrix for change of basis from the basis formed by  $\\left\\{\\bs v_1, \\bs v_2, \\bs v_3 \\right\\}$ to $\\Bbb R^3$"
   ]
  },
  {
   "cell_type": "code",
   "execution_count": 4,
   "metadata": {},
   "outputs": [
    {
     "data": {
      "text/html": [
       "<html><script type=\"math/tex; mode=display\">\\newcommand{\\Bold}[1]{\\mathbf{#1}}\\def\\bs#1{{\\boldsymbol #1}}\\text{b_new_basis} = \\left(-1,\\,-2,\\,4\\right)</script></html>"
      ],
      "text/latex": [
       "\\begin{math}\n",
       "\\newcommand{\\Bold}[1]{\\mathbf{#1}}\\def\\bs#1{{\\boldsymbol #1}}\\text{b_new_basis} = \\left(-1,\\,-2,\\,4\\right)\n",
       "\\end{math}"
      ],
      "text/plain": [
       "\\text{b_new_basis} = \\left(-1,\\,-2,\\,4\\right)"
      ]
     },
     "metadata": {},
     "output_type": "display_data"
    }
   ],
   "source": [
    "b = vector([7, 2, 7])\n",
    "b_new_basis = P.inverse()*b; show_var()"
   ]
  },
  {
   "cell_type": "markdown",
   "metadata": {},
   "source": [
    "## Problem 3\n",
    "![image.png](problem3.png)"
   ]
  },
  {
   "cell_type": "markdown",
   "metadata": {},
   "source": [
    "### 1."
   ]
  },
  {
   "cell_type": "markdown",
   "metadata": {},
   "source": [
    "To check the system for consistency, the augmented matrix is row reduced"
   ]
  },
  {
   "cell_type": "code",
   "execution_count": 5,
   "metadata": {},
   "outputs": [
    {
     "data": {
      "text/html": [
       "<html><script type=\"math/tex; mode=display\">\\newcommand{\\Bold}[1]{\\mathbf{#1}}\\def\\bs#1{{\\boldsymbol #1}}\\text{Ab_rref} = \\left[\\begin{array}{rrrr}\n",
       "1 & 0 & 0 & 0 \\\\\n",
       "0 & 1 & 0 & 0 \\\\\n",
       "0 & 0 & 1 & 0 \\\\\n",
       "0 & 0 & 0 & 1\n",
       "\\end{array}\\right]</script></html>"
      ],
      "text/latex": [
       "\\begin{math}\n",
       "\\newcommand{\\Bold}[1]{\\mathbf{#1}}\\def\\bs#1{{\\boldsymbol #1}}\\text{Ab_rref} = \\left[\\begin{array}{rrrr}\n",
       "1 & 0 & 0 & 0 \\\\\n",
       "0 & 1 & 0 & 0 \\\\\n",
       "0 & 0 & 1 & 0 \\\\\n",
       "0 & 0 & 0 & 1\n",
       "\\end{array}\\right]\n",
       "\\end{math}"
      ],
      "text/plain": [
       "\\text{Ab_rref} = \\left[\\begin{array}{rrrr}\n",
       "1 & 0 & 0 & 0 \\\\\n",
       "0 & 1 & 0 & 0 \\\\\n",
       "0 & 0 & 1 & 0 \\\\\n",
       "0 & 0 & 0 & 1\n",
       "\\end{array}\\right]"
      ]
     },
     "metadata": {},
     "output_type": "display_data"
    }
   ],
   "source": [
    "A = Matrix(4, 3, [1, 3, 4, -1, 0, 1, 2, -2, 2, 1, 2, -1])\n",
    "b = vector([-2, 3, 0, -5])\n",
    "Ab_aug = A.augment(b)\n",
    "Ab_rref = Ab_aug.rref(); show_var()"
   ]
  },
  {
   "cell_type": "markdown",
   "metadata": {},
   "source": [
    "Since the last row corresponds to $0 = 1$ __the system is inconsistent.__"
   ]
  },
  {
   "cell_type": "markdown",
   "metadata": {},
   "source": [
    "### 2."
   ]
  },
  {
   "cell_type": "markdown",
   "metadata": {},
   "source": [
    "In order to find the least squares solution, the pseudo inverse of A is determined. Since the columns of A are linearly independent (as can be seen in the rref(A) above), by theorem 14 in chapter 6, the least squares solution can be determined as $\\boldsymbol{\\hat{x}} = \\left(A^TA\\right)^{-1}A^T \\bs b$"
   ]
  },
  {
   "cell_type": "code",
   "execution_count": 6,
   "metadata": {},
   "outputs": [
    {
     "data": {
      "text/html": [
       "<html><script type=\"math/tex; mode=display\">\\newcommand{\\Bold}[1]{\\mathbf{#1}}\\def\\bs#1{{\\boldsymbol #1}}\\text{x_hat} = \\left(-\\frac{901}{451},\\,-\\frac{507}{451},\\,\\frac{384}{451}\\right) = \\left(-2.00,\\,-1.12,\\,0.851\\right)</script></html>"
      ],
      "text/latex": [
       "\\begin{math}\n",
       "\\newcommand{\\Bold}[1]{\\mathbf{#1}}\\def\\bs#1{{\\boldsymbol #1}}\\text{x_hat} = \\left(-\\frac{901}{451},\\,-\\frac{507}{451},\\,\\frac{384}{451}\\right) = \\left(-2.00,\\,-1.12,\\,0.851\\right)\n",
       "\\end{math}"
      ],
      "text/plain": [
       "\\text{x_hat} = \\left(-\\frac{901}{451},\\,-\\frac{507}{451},\\,\\frac{384}{451}\\right) = \\left(-2.00,\\,-1.12,\\,0.851\\right)"
      ]
     },
     "metadata": {},
     "output_type": "display_data"
    }
   ],
   "source": [
    "x_hat = (A.T*A).inverse()*A.T*b; show_var()"
   ]
  },
  {
   "cell_type": "markdown",
   "metadata": {},
   "source": [
    "### 3."
   ]
  },
  {
   "cell_type": "markdown",
   "metadata": {},
   "source": [
    "In order to determine which x is the better solution, the lengths of the residual vectors are compared"
   ]
  },
  {
   "cell_type": "code",
   "execution_count": 7,
   "metadata": {},
   "outputs": [
    {
     "data": {
      "text/html": [
       "<html><script type=\"math/tex; mode=display\">\\newcommand{\\Bold}[1]{\\mathbf{#1}}\\def\\bs#1{{\\boldsymbol #1}}\\text{e_x_1} = \\sqrt{106} \\sim 10.3</script></html>"
      ],
      "text/latex": [
       "\\begin{math}\n",
       "\\newcommand{\\Bold}[1]{\\mathbf{#1}}\\def\\bs#1{{\\boldsymbol #1}}\\text{e_x_1} = \\sqrt{106} \\sim 10.3\n",
       "\\end{math}"
      ],
      "text/plain": [
       "\\text{e_x_1} = \\sqrt{106} \\sim 10.3"
      ]
     },
     "metadata": {},
     "output_type": "display_data"
    },
    {
     "data": {
      "text/html": [
       "<html><script type=\"math/tex; mode=display\">\\newcommand{\\Bold}[1]{\\mathbf{#1}}\\def\\bs#1{{\\boldsymbol #1}}\\text{e_x_2} = \\sqrt{170} \\sim 13.0</script></html>"
      ],
      "text/latex": [
       "\\begin{math}\n",
       "\\newcommand{\\Bold}[1]{\\mathbf{#1}}\\def\\bs#1{{\\boldsymbol #1}}\\text{e_x_2} = \\sqrt{170} \\sim 13.0\n",
       "\\end{math}"
      ],
      "text/plain": [
       "\\text{e_x_2} = \\sqrt{170} \\sim 13.0"
      ]
     },
     "metadata": {},
     "output_type": "display_data"
    }
   ],
   "source": [
    "x_1 = vector([2, 0, 0])\n",
    "x_2 = vector([0, 2, 0])\n",
    "e_x_1 = (b - A*x_1).norm(); show_var()  # could be the other way around, but the norm is the same\n",
    "e_x_2 = (b - A*x_2).norm(); show_var()  # here too"
   ]
  },
  {
   "cell_type": "markdown",
   "metadata": {},
   "source": [
    "Since $\\vert \\epsilon_{x_1} \\vert $ is smaller than $\\vert \\epsilon_{x_2} \\vert $, $x_1$ is a better solution in the least squares sense."
   ]
  },
  {
   "cell_type": "markdown",
   "metadata": {},
   "source": [
    "## Problem 4\n",
    "![image.png](problem4.png)"
   ]
  },
  {
   "cell_type": "markdown",
   "metadata": {},
   "source": [
    "### 1."
   ]
  },
  {
   "cell_type": "markdown",
   "metadata": {},
   "source": [
    "__True__  \n",
    "By scaling each row in the described matrix by the value on the diagonal of the given row, a row reduced echelon form with ones along the diagonal must result. By the invertible matrix theorem, such a matrix is invertible"
   ]
  },
  {
   "cell_type": "markdown",
   "metadata": {},
   "source": [
    "### 2."
   ]
  },
  {
   "cell_type": "markdown",
   "metadata": {},
   "source": [
    "__False__  \n",
    "This would lead to an infinite number of eigenvalues. It is however true that if matrix A has an _eigenvector_ $\\bs v$, then $c\\bsv$ is also an eigenvector of A"
   ]
  },
  {
   "cell_type": "markdown",
   "metadata": {},
   "source": [
    "### 3."
   ]
  },
  {
   "cell_type": "markdown",
   "metadata": {},
   "source": [
    "__False__  \n",
    "To test this, determine the eigenvalues of the matrix:"
   ]
  },
  {
   "cell_type": "code",
   "execution_count": 8,
   "metadata": {},
   "outputs": [
    {
     "data": {
      "text/plain": [
       "[0, -6]"
      ]
     },
     "execution_count": 8,
     "metadata": {},
     "output_type": "execute_result"
    }
   ],
   "source": [
    "A = Matrix(2, 2, [-3, 3, 3, -3])\n",
    "A.eigenvalues()"
   ]
  },
  {
   "cell_type": "markdown",
   "metadata": {},
   "source": [
    "Since the eigenvalues are <= 0, the matrix is negative semi-definite"
   ]
  },
  {
   "cell_type": "markdown",
   "metadata": {},
   "source": [
    "## Problem 5\n",
    "![image.png](problem5.png)"
   ]
  },
  {
   "cell_type": "markdown",
   "metadata": {},
   "source": [
    "### 1."
   ]
  },
  {
   "cell_type": "markdown",
   "metadata": {},
   "source": [
    "In order to show that $R(\\theta)$ is orthogonal, the inner product of the columns must be 0"
   ]
  },
  {
   "cell_type": "code",
   "execution_count": 9,
   "metadata": {},
   "outputs": [
    {
     "data": {
      "text/html": [
       "<html><script type=\"math/tex; mode=display\">\\newcommand{\\Bold}[1]{\\mathbf{#1}}\\def\\bs#1{{\\boldsymbol #1}}\\text{R_theta} = \\left[\\begin{array}{rr}\n",
       "\\cos\\left(\\theta\\right) & -\\sin\\left(\\theta\\right) \\\\\n",
       "\\sin\\left(\\theta\\right) & \\cos\\left(\\theta\\right)\n",
       "\\end{array}\\right]</script></html>"
      ],
      "text/latex": [
       "\\begin{math}\n",
       "\\newcommand{\\Bold}[1]{\\mathbf{#1}}\\def\\bs#1{{\\boldsymbol #1}}\\text{R_theta} = \\left[\\begin{array}{rr}\n",
       "\\cos\\left(\\theta\\right) & -\\sin\\left(\\theta\\right) \\\\\n",
       "\\sin\\left(\\theta\\right) & \\cos\\left(\\theta\\right)\n",
       "\\end{array}\\right]\n",
       "\\end{math}"
      ],
      "text/plain": [
       "\\text{R_theta} = \\left[\\begin{array}{rr}\n",
       "\\cos\\left(\\theta\\right) & -\\sin\\left(\\theta\\right) \\\\\n",
       "\\sin\\left(\\theta\\right) & \\cos\\left(\\theta\\right)\n",
       "\\end{array}\\right]"
      ]
     },
     "metadata": {},
     "output_type": "display_data"
    },
    {
     "data": {
      "text/html": [
       "<html><script type=\"math/tex; mode=display\">\\newcommand{\\Bold}[1]{\\mathbf{#1}}\\def\\bs#1{{\\boldsymbol #1}}\\text{inner_p_R} = 0</script></html>"
      ],
      "text/latex": [
       "\\begin{math}\n",
       "\\newcommand{\\Bold}[1]{\\mathbf{#1}}\\def\\bs#1{{\\boldsymbol #1}}\\text{inner_p_R} = 0\n",
       "\\end{math}"
      ],
      "text/plain": [
       "\\text{inner_p_R} = 0"
      ]
     },
     "metadata": {},
     "output_type": "display_data"
    }
   ],
   "source": [
    "var('theta')\n",
    "R_theta = Matrix(SR, 2, 2, [cos(theta), -sin(theta), sin(theta), cos(theta)]); show_var()\n",
    "inner_p_R = R_theta.column(0).inner_product(R_theta.column(1)); show_var()"
   ]
  },
  {
   "cell_type": "markdown",
   "metadata": {},
   "source": [
    "And so __$R(\\theta)$ is orthogonal__."
   ]
  },
  {
   "cell_type": "markdown",
   "metadata": {},
   "source": [
    "### 2."
   ]
  },
  {
   "cell_type": "markdown",
   "metadata": {},
   "source": [
    "In order to show this, the two sides of the equation are calculated algebraically:"
   ]
  },
  {
   "cell_type": "code",
   "execution_count": 10,
   "metadata": {},
   "outputs": [
    {
     "data": {
      "text/html": [
       "<html><script type=\"math/tex; mode=display\">\\newcommand{\\Bold}[1]{\\mathbf{#1}}\\def\\bs#1{{\\boldsymbol #1}}\\text{R_theta_sq} = \\left[\\begin{array}{rr}\n",
       "\\cos\\left(\\theta\\right)^{2} - \\sin\\left(\\theta\\right)^{2} & -2 \\, \\cos\\left(\\theta\\right) \\sin\\left(\\theta\\right) \\\\\n",
       "2 \\, \\cos\\left(\\theta\\right) \\sin\\left(\\theta\\right) & \\cos\\left(\\theta\\right)^{2} - \\sin\\left(\\theta\\right)^{2}\n",
       "\\end{array}\\right]</script></html>"
      ],
      "text/latex": [
       "\\begin{math}\n",
       "\\newcommand{\\Bold}[1]{\\mathbf{#1}}\\def\\bs#1{{\\boldsymbol #1}}\\text{R_theta_sq} = \\left[\\begin{array}{rr}\n",
       "\\cos\\left(\\theta\\right)^{2} - \\sin\\left(\\theta\\right)^{2} & -2 \\, \\cos\\left(\\theta\\right) \\sin\\left(\\theta\\right) \\\\\n",
       "2 \\, \\cos\\left(\\theta\\right) \\sin\\left(\\theta\\right) & \\cos\\left(\\theta\\right)^{2} - \\sin\\left(\\theta\\right)^{2}\n",
       "\\end{array}\\right]\n",
       "\\end{math}"
      ],
      "text/plain": [
       "\\text{R_theta_sq} = \\left[\\begin{array}{rr}\n",
       "\\cos\\left(\\theta\\right)^{2} - \\sin\\left(\\theta\\right)^{2} & -2 \\, \\cos\\left(\\theta\\right) \\sin\\left(\\theta\\right) \\\\\n",
       "2 \\, \\cos\\left(\\theta\\right) \\sin\\left(\\theta\\right) & \\cos\\left(\\theta\\right)^{2} - \\sin\\left(\\theta\\right)^{2}\n",
       "\\end{array}\\right]"
      ]
     },
     "metadata": {},
     "output_type": "display_data"
    },
    {
     "data": {
      "text/html": [
       "<html><script type=\"math/tex; mode=display\">\\newcommand{\\Bold}[1]{\\mathbf{#1}}\\def\\bs#1{{\\boldsymbol #1}}\\text{R_theta_double} = \\left[\\begin{array}{rr}\n",
       "\\cos\\left(2 \\, \\theta\\right) & -\\sin\\left(2 \\, \\theta\\right) \\\\\n",
       "\\sin\\left(2 \\, \\theta\\right) & \\cos\\left(2 \\, \\theta\\right)\n",
       "\\end{array}\\right]</script></html>"
      ],
      "text/latex": [
       "\\begin{math}\n",
       "\\newcommand{\\Bold}[1]{\\mathbf{#1}}\\def\\bs#1{{\\boldsymbol #1}}\\text{R_theta_double} = \\left[\\begin{array}{rr}\n",
       "\\cos\\left(2 \\, \\theta\\right) & -\\sin\\left(2 \\, \\theta\\right) \\\\\n",
       "\\sin\\left(2 \\, \\theta\\right) & \\cos\\left(2 \\, \\theta\\right)\n",
       "\\end{array}\\right]\n",
       "\\end{math}"
      ],
      "text/plain": [
       "\\text{R_theta_double} = \\left[\\begin{array}{rr}\n",
       "\\cos\\left(2 \\, \\theta\\right) & -\\sin\\left(2 \\, \\theta\\right) \\\\\n",
       "\\sin\\left(2 \\, \\theta\\right) & \\cos\\left(2 \\, \\theta\\right)\n",
       "\\end{array}\\right]"
      ]
     },
     "metadata": {},
     "output_type": "display_data"
    }
   ],
   "source": [
    "R_theta_sq = R_theta^2; show_var()\n",
    "R_theta_double = Matrix(SR, 2, 2, [cos(2*theta), -sin(2*theta), sin(2*theta), cos(2*theta)]); show_var()"
   ]
  },
  {
   "cell_type": "markdown",
   "metadata": {},
   "source": [
    "The following trigonometric identities, then show how these are equal:  \n",
    "$ cos(2x) = cos(x)^2 - sin(x)^2$  (cell 1,1 and 2,2)  \n",
    "$ sin(2x) = 2 sin(x) cos(x) $  (cell 1,2 and 2,1)"
   ]
  },
  {
   "cell_type": "markdown",
   "metadata": {},
   "source": [
    "### 3."
   ]
  },
  {
   "cell_type": "markdown",
   "metadata": {},
   "source": [
    "$R^2(\\theta) has already been calculated above.  \n",
    "extracting the trigonometric"
   ]
  },
  {
   "cell_type": "markdown",
   "metadata": {},
   "source": [
    "## Problem 6\n",
    "![image.png](problem6.png)"
   ]
  },
  {
   "cell_type": "markdown",
   "metadata": {},
   "source": [
    "### 1."
   ]
  },
  {
   "cell_type": "markdown",
   "metadata": {},
   "source": [
    "Since the two halves are negatives of each other, $A = -A^T$ for a skew-symmetric matrix."
   ]
  },
  {
   "cell_type": "markdown",
   "metadata": {},
   "source": [
    "### 2."
   ]
  },
  {
   "cell_type": "markdown",
   "metadata": {},
   "source": [
    "To test that $\\Bbb S^{3\\times3}$ is a vector space, the fact that addition and multiplication by a scalar is defined, plus the 10 axioms of vector spaces must be shown to be true."
   ]
  },
  {
   "cell_type": "markdown",
   "metadata": {},
   "source": [
    "Firstly note that addition and multiplication by scalars is defined for all matrices, so the elements of $\\Bbb S^{3\\times3}$ are valid vectors.  \n",
    "The fact that the vector space is closed under addition, can be shown by calculating the algebraic sum of two arbitrary 3x3 skew-symmetrix matrices:"
   ]
  },
  {
   "cell_type": "code",
   "execution_count": 11,
   "metadata": {},
   "outputs": [
    {
     "data": {
      "text/html": [
       "<html><script type=\"math/tex; mode=display\">\\newcommand{\\Bold}[1]{\\mathbf{#1}}\\def\\bs#1{{\\boldsymbol #1}}\\left[\\begin{array}{rrr}\n",
       "0 & a_{1} & a_{2} \\\\\n",
       "-a_{1} & 0 & a_{3} \\\\\n",
       "-a_{2} & -a_{3} & 0\n",
       "\\end{array}\\right] \\phantom{\\verb!x!}\\verb|+| \\left[\\begin{array}{rrr}\n",
       "0 & b_{1} & b_{2} \\\\\n",
       "-b_{1} & 0 & b_{3} \\\\\n",
       "-b_{2} & -b_{3} & 0\n",
       "\\end{array}\\right] \\phantom{\\verb!x!}\\verb|=| \\left[\\begin{array}{rrr}\n",
       "0 & a_{1} + b_{1} & a_{2} + b_{2} \\\\\n",
       "-a_{1} - b_{1} & 0 & a_{3} + b_{3} \\\\\n",
       "-a_{2} - b_{2} & -a_{3} - b_{3} & 0\n",
       "\\end{array}\\right]</script></html>"
      ],
      "text/latex": [
       "\\begin{math}\n",
       "\\newcommand{\\Bold}[1]{\\mathbf{#1}}\\def\\bs#1{{\\boldsymbol #1}}\\left[\\begin{array}{rrr}\n",
       "0 & a_{1} & a_{2} \\\\\n",
       "-a_{1} & 0 & a_{3} \\\\\n",
       "-a_{2} & -a_{3} & 0\n",
       "\\end{array}\\right] \\phantom{\\verb!x!}\\verb|+| \\left[\\begin{array}{rrr}\n",
       "0 & b_{1} & b_{2} \\\\\n",
       "-b_{1} & 0 & b_{3} \\\\\n",
       "-b_{2} & -b_{3} & 0\n",
       "\\end{array}\\right] \\phantom{\\verb!x!}\\verb|=| \\left[\\begin{array}{rrr}\n",
       "0 & a_{1} + b_{1} & a_{2} + b_{2} \\\\\n",
       "-a_{1} - b_{1} & 0 & a_{3} + b_{3} \\\\\n",
       "-a_{2} - b_{2} & -a_{3} - b_{3} & 0\n",
       "\\end{array}\\right]\n",
       "\\end{math}"
      ],
      "text/plain": [
       "[   0  a_1  a_2]\n",
       "[-a_1    0  a_3]\n",
       "[-a_2 -a_3    0] ' + ' [   0  b_1  b_2]\n",
       "[-b_1    0  b_3]\n",
       "[-b_2 -b_3    0] ' = ' [         0  a_1 + b_1  a_2 + b_2]\n",
       "[-a_1 - b_1          0  a_3 + b_3]\n",
       "[-a_2 - b_2 -a_3 - b_3          0]"
      ]
     },
     "metadata": {},
     "output_type": "display_data"
    }
   ],
   "source": [
    "var('a_1, a_2, a_3, b_1, b_2, b_3')\n",
    "A = Matrix(SR, 3, 3, [0, a_1, a_2, -a_1, 0, a_3, -a_2, -a_3, 0])\n",
    "B = Matrix(SR, 3, 3, [0, b_1, b_2, -b_1, 0, b_3, -b_2, -b_3, 0])\n",
    "show(A, ' + ', B, ' = ', A+B)"
   ]
  },
  {
   "cell_type": "markdown",
   "metadata": {},
   "source": [
    "Since the resulting matrix is also a skew-symmetric matrix, the vector space is closed under addition"
   ]
  },
  {
   "cell_type": "markdown",
   "metadata": {},
   "source": [
    "axioms 2, 3, 7, 8, and 9 all follow from the rules for matrix algebra (see theorem 1 chapter 2)"
   ]
  },
  {
   "cell_type": "markdown",
   "metadata": {},
   "source": [
    "since $-0 = 0$, the three by three zero matrix is in $\\Bbb S^{3\\times3}$. Adding the zero matrix to another matrix results in the same element, and so $0^{3\\times3}$ is a valid neutral element and axiom 4 is fulfilled"
   ]
  },
  {
   "cell_type": "code",
   "execution_count": 12,
   "metadata": {},
   "outputs": [
    {
     "data": {
      "text/html": [
       "<html><script type=\"math/tex; mode=display\">\\newcommand{\\Bold}[1]{\\mathbf{#1}}\\def\\bs#1{{\\boldsymbol #1}}\\left[\\begin{array}{rrr}\n",
       "0 & 0 & 0 \\\\\n",
       "0 & 0 & 0 \\\\\n",
       "0 & 0 & 0\n",
       "\\end{array}\\right]</script></html>"
      ],
      "text/latex": [
       "\\begin{math}\n",
       "\\newcommand{\\Bold}[1]{\\mathbf{#1}}\\def\\bs#1{{\\boldsymbol #1}}\\left[\\begin{array}{rrr}\n",
       "0 & 0 & 0 \\\\\n",
       "0 & 0 & 0 \\\\\n",
       "0 & 0 & 0\n",
       "\\end{array}\\right]\n",
       "\\end{math}"
      ],
      "text/plain": [
       "[0 0 0]\n",
       "[0 0 0]\n",
       "[0 0 0]"
      ]
     },
     "metadata": {},
     "output_type": "display_data"
    }
   ],
   "source": [
    "show(A + -A)"
   ]
  },
  {
   "cell_type": "markdown",
   "metadata": {},
   "source": [
    "The above clearly shows axiom 5.  \n",
    "To show axiom 6, the general expression for scalar multiplication is shown:"
   ]
  },
  {
   "cell_type": "code",
   "execution_count": 13,
   "metadata": {},
   "outputs": [
    {
     "data": {
      "text/html": [
       "<html><script type=\"math/tex; mode=display\">\\newcommand{\\Bold}[1]{\\mathbf{#1}}\\def\\bs#1{{\\boldsymbol #1}}\\left[\\begin{array}{rrr}\n",
       "0 & a_{1} c & a_{2} c \\\\\n",
       "-a_{1} c & 0 & a_{3} c \\\\\n",
       "-a_{2} c & -a_{3} c & 0\n",
       "\\end{array}\\right]</script></html>"
      ],
      "text/latex": [
       "\\begin{math}\n",
       "\\newcommand{\\Bold}[1]{\\mathbf{#1}}\\def\\bs#1{{\\boldsymbol #1}}\\left[\\begin{array}{rrr}\n",
       "0 & a_{1} c & a_{2} c \\\\\n",
       "-a_{1} c & 0 & a_{3} c \\\\\n",
       "-a_{2} c & -a_{3} c & 0\n",
       "\\end{array}\\right]\n",
       "\\end{math}"
      ],
      "text/plain": [
       "[     0  a_1*c  a_2*c]\n",
       "[-a_1*c      0  a_3*c]\n",
       "[-a_2*c -a_3*c      0]"
      ]
     },
     "metadata": {},
     "output_type": "display_data"
    }
   ],
   "source": [
    "var('c')\n",
    "show(c*A)"
   ]
  },
  {
   "cell_type": "markdown",
   "metadata": {},
   "source": [
    "Since this is also a skew-symmetric matrix, axiom 6 holds.  \n",
    "Using the above expression for scalar multiplication and setting $c = 1$ it is clear that the resulting matrix is A, and axiom 10 holds.  \n",
    "__Since addition and multiplication by scalars is defined for matrices and all 10 axioms for vector spaces hold for $\\Bbb S^{3\\times3}$, it is indeed a vector space__"
   ]
  },
  {
   "attachments": {
    "image.png": {
     "image/png": "[encoded data removed]"
    }
   },
   "cell_type": "markdown",
   "metadata": {},
   "source": [
    "![image.png](attachment:image.png)"
   ]
  },
  {
   "cell_type": "code",
   "execution_count": null,
   "metadata": {},
   "outputs": [],
   "source": []
  }
 ],
 "metadata": {
  "kernelspec": {
   "display_name": "SageMath 9.2",
   "language": "sage",
   "name": "sagemath"
  },
  "language_info": {
   "codemirror_mode": {
    "name": "ipython",
    "version": 3
   },
   "file_extension": ".py",
   "mimetype": "text/x-python",
   "name": "python",
   "nbconvert_exporter": "python",
   "pygments_lexer": "ipython3",
   "version": "3.8.5"
  }
 },
 "nbformat": 4,
 "nbformat_minor": 4
}
