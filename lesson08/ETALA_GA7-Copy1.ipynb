{
 "cells": [
  {
   "cell_type": "code",
   "execution_count": 40,
   "metadata": {
    "hide_input": true,
    "init_cell": true
   },
   "outputs": [],
   "source": [
    "latex.blackboard_bold(True)\n",
    "latex.matrix_delimiters('[', ']')\n",
    "load('../etala_utilities.sage')"
   ]
  },
  {
   "cell_type": "markdown",
   "metadata": {},
   "source": [
    "###### ETALA lesson 8\n",
    "# Group Assignment\n",
    "__Lecture on chapters:__  \n",
    "  5.1: Eigenvectors and Eigenvalues  \n",
    "  5.2: The Characteristic Equation  \n",
    "  5.3: Diagonalization  \n",
    "\n",
    "__Problems:__  \n",
    "  5.1: 1, 5, 9, 21, 31, 35  \n",
    "  5.2: 1, 9, 25  \n",
    "  5.3: 1, 5, 7, 11, 23  \n",
    "  2014, Q3 exam: Problem 1 and 2   \n",
    "\n"
   ]
  },
  {
   "cell_type": "markdown",
   "metadata": {},
   "source": [
    "## Chapter 5.1: Eigenvectors and Eigenvalues"
   ]
  },
  {
   "cell_type": "markdown",
   "metadata": {},
   "source": [
    "### Problem 1\n",
    "Is $\\lambda = 2$ an eigenvalue of {{LMatrix([[3, 2],[3, 8]], 'A', hidden=True, wrapper='$')}}? Why or why not?"
   ]
  },
  {
   "cell_type": "markdown",
   "metadata": {},
   "source": [
    "To test if a value is an eigenvalue of a matrix, the equation  \n",
    "$ (A - \\lambda I) x = 0 $  \n",
    "is checked for non trivial solutions:  \n",
    "{{r'$ A - \\lambda I = 'f'{ LMatrix(A-2*Matrix.identity(2,2))}$'}}  \n",
    "Since the second column here equals two times column one, it follows from the invertible matrix theorem, that if a matrix has linearly dependent columns, the equation $Ax = 0$ has non-trivial solutions, and __$ \\lambda = 2 $ is an eigenvalue for the given matrix.__"
   ]
  },
  {
   "cell_type": "markdown",
   "metadata": {},
   "source": [
    "### Probblem 5\n",
    "Is {{ LVector([4, -3, 1], 'v', hidden=True, wrapper='$') }} an eigenvector for {{ LMatrix([[3, 7, 9], [-4, -5, 1], [2, 4, 4]], 'A', hidden=True, wrapper='$') }}? Why or why not?"
   ]
  },
  {
   "cell_type": "markdown",
   "metadata": {},
   "source": [
    "If the vector is an eigenvector, the product of the vector must equal the product of the original vector and a scalar, as stated below:  \n",
    "$ A \\boldsymbol v = \\lambda \\boldsymbol v $  \n",
    "To test this for the above statement, the product is first calculated:  \n",
    "{{ f'$ {LMatrix(A)} \\\\cdot {LVector(v)} = {LVector(A*v)} $' }}  \n",
    "now, since {{ f' $ \\\\lambda {LVector(v)} \\\\ne {LVector(A*v)} $' }}, __the given vector is not an eigenvector for the given matrix.__"
   ]
  },
  {
   "cell_type": "markdown",
   "metadata": {},
   "source": [
    "### Problem 9\n",
    "For the matrix {{ '$' f\"{LMatrix([[5, 0], [2, 1]], 'A')}\" r'$, find the eigenspace corresponding to the eigenvalues $\\lambda=1$ and $\\lambda = 5$' }}"
   ]
  },
  {
   "cell_type": "markdown",
   "metadata": {},
   "source": [
    "The eigenspace for a given vector A corresponds to the null space of $(A - \\lambda I)$"
   ]
  },
  {
   "cell_type": "code",
   "execution_count": 45,
   "metadata": {},
   "outputs": [],
   "source": [
    "#view(r'eigenspace for $\\lambda = 1$ ')#, (A-1*Matrix.identity(2,2)).right_kernel())\n",
    "\n",
    "show((A-5*Matrix.identity(2,2)).right_kernel())"
   ]
  },
  {
   "cell_type": "code",
   "execution_count": null,
   "metadata": {},
   "outputs": [],
   "source": []
  }
 ],
 "metadata": {
  "kernelspec": {
   "display_name": "SageMath 9.0",
   "language": "sage",
   "name": "sagemath"
  },
  "language_info": {
   "codemirror_mode": {
    "name": "ipython",
    "version": 3
   },
   "file_extension": ".py",
   "mimetype": "text/x-python",
   "name": "python",
   "nbconvert_exporter": "python",
   "pygments_lexer": "ipython3",
   "version": "3.8.5"
  },
  "varInspector": {
   "cols": {
    "lenName": 16,
    "lenType": 16,
    "lenVar": 40
   },
   "kernels_config": {
    "python": {
     "delete_cmd_postfix": "",
     "delete_cmd_prefix": "del ",
     "library": "var_list.py",
     "varRefreshCmd": "print(var_dic_list())"
    },
    "r": {
     "delete_cmd_postfix": ") ",
     "delete_cmd_prefix": "rm(",
     "library": "var_list.r",
     "varRefreshCmd": "cat(var_dic_list()) "
    }
   },
   "types_to_exclude": [
    "module",
    "function",
    "builtin_function_or_method",
    "instance",
    "_Feature"
   ],
   "window_display": false
  }
 },
 "nbformat": 4,
 "nbformat_minor": 4
}
