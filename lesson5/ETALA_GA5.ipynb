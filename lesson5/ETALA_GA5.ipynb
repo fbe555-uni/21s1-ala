{
 "cells": [
  {
   "cell_type": "code",
   "execution_count": 2,
   "metadata": {
    "hide_input": false,
    "init_cell": true
   },
   "outputs": [],
   "source": [
    "load('../etala_utilities.sage')"
   ]
  },
  {
   "cell_type": "markdown",
   "metadata": {},
   "source": [
    "### ETALA lesson 5\n",
    "# Group Assignment\n",
    "Problems  \n",
    "__4.1:__ 2, 8, 9, 13, 23(a-d), 37  \n",
    "__4.2:__ 1, 5, 7, 17, 19, 21, 25, 27, 31  \n",
    "__2014Q3 exam:__ Problem 1.2 and 4  \n",
    "\n"
   ]
  },
  {
   "cell_type": "markdown",
   "metadata": {},
   "source": [
    "## Vector space definition\n",
    "A vector spaceis a nonempty set $V$ of objects, called vectors, on which are defined two operations, called _addition_ and _multiplication_ by scalars (real numbers), subject to the ten axioms (or rules) listed below:  \n",
    "The axioms must hold for all vectors $\\boldsymbol u$, $\\boldsymbol v$, and $\\boldsymbol w$ in $V$ and for all scalars $c$ and $d$.  \n",
    "1. The sum of $\\boldsymbol u$ and $\\boldsymbol v$, denoted by $\\boldsymbol u + \\boldsymbol v$, is in $V$  \n",
    "2. $\\boldsymbol u + \\boldsymbol v = \\boldsymbol v + \\boldsymbol u$  \n",
    "3. $(\\boldsymbol u + \\boldsymbol v) + \\boldsymbol w = \\boldsymbol u + (\\boldsymbol v + \\boldsymbol w)$ \n",
    "4. There is a zero-vector $0$ in $V$ such that $\\boldsymbol u + 0$ = u  \n",
    "5. For each $\\boldsymbol u$ in $V$, there is a vector $- \\boldsymbol u$ in $V$ such that $\\boldsymbol u + (- \\boldsymbol u) = 0$  \n",
    "6. The scalar multiple of $\\boldsymbol u$ by $c$, denoted by $c \\boldsymbol u$, is in $V$  \n",
    "7. $c(\\boldsymbol u + \\boldsymbol v) = c \\boldsymbol u + c \\boldsymbol v$  \n",
    "8. $(cd) \\boldsymbol u = c \\boldsymbol u + d \\boldsymbol u$  \n",
    "9. $c(d \\boldsymbol u) = (cd) \\boldsymbol u$  \n",
    "10.$1 \\boldsymbol u = \\boldsymbol u$  "
   ]
  },
  {
   "cell_type": "markdown",
   "metadata": {},
   "source": [
    "## Chapter 4.1"
   ]
  },
  {
   "cell_type": "markdown",
   "metadata": {
    "heading_collapsed": true
   },
   "source": [
    "### Problem 2\n",
    "Let $W$ be the union of the first and third quadrants in the xy-plane. That is, let  \n",
    "$$W = \\left\\{ \\begin{bmatrix}x \\\\ y \\end{bmatrix} : xy \\ge 0 \\right\\}$$."
   ]
  },
  {
   "cell_type": "markdown",
   "metadata": {
    "heading_collapsed": true,
    "hidden": true
   },
   "source": [
    "#### a) \n",
    "If $\\boldsymbol u$ is in $W$ and $c$ is any scalar, is $c \\boldsymbol u$ in $W$, and why?"
   ]
  },
  {
   "cell_type": "markdown",
   "metadata": {
    "hidden": true
   },
   "source": [
    "By the definition of a vector space, it has to be closed under multiplication (Axiom 6), so if $W$ is a vector space and $\\boldsymbol u$ is in $W$, then so is $c \\boldsymbol u$.  \n",
    "In this case, the above set is closed under multiplication, since the condition for the member vectors is that the signs of the two elements are the same. Multiplying such a vector by any scalar while it can flip the signs, can never make them different."
   ]
  },
  {
   "cell_type": "markdown",
   "metadata": {
    "heading_collapsed": true,
    "hidden": true
   },
   "source": [
    "#### b)\n",
    "Find specific vectors $\\boldsymbol u$ and $\\boldsymbol v$ in $W$ such that $\\boldsymbol u + \\boldsymbol v$ is not in $W$. This is enough to show that W is not a vector space."
   ]
  },
  {
   "cell_type": "markdown",
   "metadata": {
    "hidden": true
   },
   "source": [
    "let $\\boldsymbol u = \\begin{bmatrix} 1 \\\\ 0 \\end{bmatrix}$ and $\\boldsymbol v = \\begin{bmatrix} 0 \\\\ -1 \\end{bmatrix}$  \n",
    "then $ \\boldsymbol u + \\boldsymbol v = \\begin{bmatrix} 1 \\\\ -1 \\end{bmatrix} \\not\\in W $  \n",
    "since $ 1 \\cdot -1 = -1 < 0 $  \n",
    "And so $W$ is not a vector space"
   ]
  },
  {
   "cell_type": "markdown",
   "metadata": {
    "heading_collapsed": true
   },
   "source": [
    "### Problem 8\n",
    "Determine if _all polynomials in $\\Bbb P_n$ such that $p(0) = 0$_ is a subspace of $\\Bbb P_n$ for an appropriate value of $n$. Justify your answer."
   ]
  },
  {
   "cell_type": "markdown",
   "metadata": {
    "hidden": true
   },
   "source": [
    "Given a polynomial $p(x) = a_0 x^0 + a_1 x^1 + \\dots + a_n x^n$ it is clear that $p(0) = 0 \\iff a_0 = 0$  \n",
    "Firstly, this is by definition a subset of $\\Bbb P_n$.  \n",
    "Secondly the set is closed under addition since $a_0 + b_0 = 0 + 0 = 0$\n",
    "The set is closed under multiplication since $c \\cdot a_0 = c \\cdot 0 = 0$  \n",
    "Lastly, the zero vector would fulfill the condition $p(0) = 0$, and so all conditions required is fulfilled, and it can be concluded that the given set is a subspace of $\\Bbb P_n$."
   ]
  },
  {
   "cell_type": "markdown",
   "metadata": {
    "heading_collapsed": true
   },
   "source": [
    "### Problem 9\n",
    "Let $H$ be the set of all vectors of the form $\\begin{bmatrix} s \\\\ 3s \\\\ 2s \\end{bmatrix}$.  \n",
    "Find a vector $\\boldsymbol v$ in $\\Bbb R^3$ such that $H = Span\\{\\boldsymbol v\\}$.  \n",
    "Why does this show that $H$ is a subspace of $\\Bbb R^3$?"
   ]
  },
  {
   "cell_type": "markdown",
   "metadata": {
    "hidden": true
   },
   "source": [
    "To find such a vector one can divide though by $s$ and multiplying it on as a parameter:  \n",
    "$\\begin{bmatrix} s \\\\ 3s \\\\ 2s \\end{bmatrix} = s \\cdot \\begin{bmatrix} 1 \\\\ 3 \\\\ 2 \\end{bmatrix} = Span \\left \\{ \\begin{bmatrix} 1 \\\\ 3 \\\\ 2 \\end{bmatrix} \\right \\}$  \n",
    "By Theorem 1:  \n",
    "If $\\boldsymbol v_1, \\dots, \\boldsymbol v_p$ are in a vector space $V$, then $Span(\\boldsymbol v_1, \\dots, \\boldsymbol v_p)$ is a subspace of $V$  \n",
    "Finding the $\\Bbb R^3$ vector above which spans $H$ implies that $H$ is a subspace of $\\Bbb R^3$. "
   ]
  },
  {
   "cell_type": "markdown",
   "metadata": {
    "heading_collapsed": true
   },
   "source": [
    "### Problem 13\n",
    "let $\\boldsymbol v_1 = \\begin{bmatrix} 1 \\\\ 0 \\\\ -1 \\end{bmatrix}$, $\\boldsymbol v_2 = \\begin{bmatrix} 2 \\\\ 1 \\\\ 3 \\end{bmatrix}$, $\\boldsymbol v_3 = \\begin{bmatrix} 4 \\\\ 2 \\\\ 6 \\end{bmatrix}$, and $\\boldsymbol w = \\begin{bmatrix} 3 \\\\ 1 \\\\ 2 \\end{bmatrix}$"
   ]
  },
  {
   "cell_type": "markdown",
   "metadata": {
    "heading_collapsed": true,
    "hidden": true
   },
   "source": [
    "#### a)\n",
    "Is $\\boldsymbol w$ in $\\{\\boldsymbol v_1, \\boldsymbol v_2, \\boldsymbol v_3 \\}$? How many vectors are in $\\{\\boldsymbol v_1, \\boldsymbol v_2, \\boldsymbol v_3 \\}$?"
   ]
  },
  {
   "cell_type": "markdown",
   "metadata": {
    "hidden": true
   },
   "source": [
    "The vector $\\boldsymbol w$ is not in the set $\\{\\boldsymbol v_1, \\boldsymbol v_2, \\boldsymbol v_3 \\}$. The set contains three vectors."
   ]
  },
  {
   "cell_type": "markdown",
   "metadata": {
    "heading_collapsed": true,
    "hidden": true
   },
   "source": [
    "#### b)\n",
    "How many vectors are in $Span\\{\\boldsymbol v_1, \\boldsymbol v_2, \\boldsymbol v_3 \\}$?"
   ]
  },
  {
   "cell_type": "markdown",
   "metadata": {
    "hidden": true,
    "variables": {
     "'<span class=\"MathJax_Preview\" style=\"color: inherit;\"><span class=\"MJXp-math\" id=\"MJXp-Span-3409\"><span class=\"MJXp-mrow\" id=\"MJXp-Span-3410\"></span></span></span><script type=\"math/tex\" id=\"MathJax-Element-517\">{}</script>'.format(LMatrix([[1, 2, 4], [0, 1, 2], [-1, 3, 6]], 'mat', hidden=True))": "<span class=\"MathJax_Preview\" style=\"color: inherit;\"><span class=\"MJXp-math\" id=\"MJXp-Span-3409\"><span class=\"MJXp-mrow\" id=\"MJXp-Span-3410\"></span></span></span><script type=\"math/tex\" id=\"MathJax-Element-517\">\\begin{pmatrix} 1 & 2 & 4 \\\\ 0 & 1 & 2 \\\\ -1 & 3 & 6 \\end{pmatrix}</script>",
     "'<span class=\"MathJax_Preview\" style=\"color: inherit;\"><span class=\"MJXp-math\" id=\"MJXp-Span-3411\"><span class=\"MJXp-mrow\" id=\"MJXp-Span-3412\"></span></span></span><script type=\"math/tex\" id=\"MathJax-Element-518\">{}</script>'.format(LMatrix(mat.echelon_form()))": "<span class=\"MathJax_Preview\" style=\"color: inherit;\"><span class=\"MJXp-math\" id=\"MJXp-Span-3411\"><span class=\"MJXp-mrow\" id=\"MJXp-Span-3412\"></span></span></span><script type=\"math/tex\" id=\"MathJax-Element-518\">\\begin{pmatrix} 1 & 0 & 0 \\\\ 0 & 1 & 2 \\\\ 0 & 0 & 0 \\end{pmatrix}</script>"
    }
   },
   "source": [
    "To answer this, the three vectors are combined into a matrix  \n",
    "{{'${}$'.format(LMatrix([[1, 2, 4], [0, 1, 2], [-1, 3, 6]], 'mat', hidden=True))}}  \n",
    "which is then row reduced  \n",
    "{{'${}$'.format(LMatrix(mat.echelon_form()))}}  \n",
    "now since the final row has no pivot, the span of the three vectors, must contain an infinite number of vectors."
   ]
  },
  {
   "cell_type": "markdown",
   "metadata": {
    "heading_collapsed": true,
    "hidden": true
   },
   "source": [
    "#### c)\n",
    "Is $\\boldsymbol w$ in the subspace spanned by $\\{\\boldsymbol v_1, \\boldsymbol v_2, \\boldsymbol v_3 \\}$? Why?"
   ]
  },
  {
   "cell_type": "markdown",
   "metadata": {
    "hidden": true,
    "variables": {
     "r'<span class=\"MathJax_Preview\" style=\"color: inherit;\"><span class=\"MJXp-math\" id=\"MJXp-Span-4320\"><span class=\"MJXp-mrow\" id=\"MJXp-Span-4321\"></span><span class=\"MJXp-mo\" id=\"MJXp-Span-4322\" style=\"margin-left: 0.333em; margin-right: 0.333em;\">∼</span><span class=\"MJXp-mrow\" id=\"MJXp-Span-4323\"></span></span></span><script type=\"math/tex\" id=\"MathJax-Element-552\">{} \\sim {}</script>'.format(LMatrix(mat.augment(vector([3, 1, 2])), 'aug_mat', hidden=True), LMatrix(aug_mat.echelon_form()))": "<span class=\"MathJax_Preview\" style=\"color: inherit;\"><span class=\"MJXp-math\" id=\"MJXp-Span-4320\"><span class=\"MJXp-mrow\" id=\"MJXp-Span-4321\"></span><span class=\"MJXp-mo\" id=\"MJXp-Span-4322\" style=\"margin-left: 0.333em; margin-right: 0.333em;\">∼</span><span class=\"MJXp-mrow\" id=\"MJXp-Span-4323\"></span></span></span><script type=\"math/tex\" id=\"MathJax-Element-552\">\\begin{pmatrix} 1 & 2 & 4 & 3 \\\\ 0 & 1 & 2 & 1 \\\\ -1 & 3 & 6 & 2 \\end{pmatrix} \\sim \\begin{pmatrix} 1 & 0 & 0 & 1 \\\\ 0 & 1 & 2 & 1 \\\\ 0 & 0 & 0 & 0 \\end{pmatrix}</script>"
    }
   },
   "source": [
    "To check this, the augmented matrix $\\{\\boldsymbol v_1, \\boldsymbol v_2, \\boldsymbol v_3, \\boldsymbol w \\}$ is constructed and solved like a set of linear equations:  \n",
    "{{r'${} \\sim {}$'.format(LMatrix(mat.augment(vector([3, 1, 2])), 'aug_mat', hidden=True), LMatrix(aug_mat.echelon_form()))}}  \n",
    "Since the last column has no pivots, the system is consistent, and $\\boldsymbol w$ is in $Span\\{\\boldsymbol v_1, \\boldsymbol v_2, \\boldsymbol v_3 \\}$"
   ]
  },
  {
   "cell_type": "markdown",
   "metadata": {
    "heading_collapsed": true
   },
   "source": [
    "### Problem 23 a-d\n",
    "Mark each statement True or False. Justify each answer."
   ]
  },
  {
   "cell_type": "markdown",
   "metadata": {
    "heading_collapsed": true,
    "hidden": true
   },
   "source": [
    "#### a)\n",
    "If $f$ is a function in the vector space $V$ of all real-valued functions on $\\Bbb R$ and if $f(t) = 0$ for some $t$, then $f$ is the zero vector in $V$ "
   ]
  },
  {
   "cell_type": "markdown",
   "metadata": {
    "hidden": true
   },
   "source": [
    "__False__, the zero vector must be identical to zero, which for functions mean $f(t) = 0$ for all values of $t$"
   ]
  },
  {
   "cell_type": "markdown",
   "metadata": {
    "heading_collapsed": true,
    "hidden": true
   },
   "source": [
    "#### b)\n",
    "A vector is an arrow in three-dimensional space."
   ]
  },
  {
   "cell_type": "markdown",
   "metadata": {
    "hidden": true
   },
   "source": [
    "__False__, A vector in $\\Bbb R^3$ can be interpreted as an arrow from the origin to the coordinates of the vector, but not all vectors are in $\\Bbb R^3$"
   ]
  },
  {
   "cell_type": "markdown",
   "metadata": {
    "heading_collapsed": true,
    "hidden": true
   },
   "source": [
    "#### C)\n",
    "A subset $H$ of a vector space $V$ is a subspace of $V$ if the zero vector is in $H$"
   ]
  },
  {
   "cell_type": "markdown",
   "metadata": {
    "hidden": true
   },
   "source": [
    "__False__, while it might be, it has to also be closed under addition and multiplication."
   ]
  },
  {
   "cell_type": "markdown",
   "metadata": {
    "heading_collapsed": true,
    "hidden": true
   },
   "source": [
    "#### d)\n",
    "A subspace is also a vector space"
   ]
  },
  {
   "cell_type": "markdown",
   "metadata": {
    "hidden": true
   },
   "source": [
    "__True__, by definition a subspace of a vector space is any subset that is itself a vector space"
   ]
  },
  {
   "cell_type": "markdown",
   "metadata": {
    "variables": {
     "t=var('t'); f(t) = 1 - 8 cos(t)^2 + 8 cos(t)^4;f": "<p><strong>SyntaxError</strong>: invalid syntax (<ipython-input-3-2debe73d8558>, line 1)</p>\n"
    }
   },
   "source": [
    "### Problem 37\n",
    "[M] The  vector  space $H = Span\\{1, cos^2 t, cos^4 t, cos^6 t\\}$ contains at least two interesting functions that will be used in a later exercise:  \n",
    "{{t=var('t'); f(t) = 1 - 8 cos(t)^2 + 8 cos(t)^4;f}}\n",
    "\n"
   ]
  },
  {
   "cell_type": "code",
   "execution_count": 6,
   "metadata": {},
   "outputs": [
    {
     "data": {
      "text/html": [
       "<html><script type=\"math/tex; mode=display\">\\newcommand{\\Bold}[1]{\\mathbf{#1}}8 \\, \\cos\\left(t\\right)^{4} - 8 \\, \\cos\\left(t\\right)^{2} + 1</script></html>"
      ],
      "text/latex": [
       "\\begin{math}\n",
       "\\newcommand{\\Bold}[1]{\\mathbf{#1}}8 \\, \\cos\\left(t\\right)^{4} - 8 \\, \\cos\\left(t\\right)^{2} + 1\n",
       "\\end{math}"
      ],
      "text/plain": [
       "8*cos(t)^4 - 8*cos(t)^2 + 1"
      ]
     },
     "execution_count": 6,
     "metadata": {},
     "output_type": "execute_result"
    }
   ],
   "source": [
    "%display latex\n",
    "t=var('t')\n",
    "f(t) = 1 - 8 * cos(t)^2 + 8 * cos(t)^4\n",
    "f t"
   ]
  },
  {
   "cell_type": "code",
   "execution_count": null,
   "metadata": {},
   "outputs": [],
   "source": []
  }
 ],
 "metadata": {
  "hide_input": false,
  "kernelspec": {
   "display_name": "SageMath 9.2",
   "language": "sage",
   "name": "sagemath"
  },
  "language_info": {
   "codemirror_mode": {
    "name": "ipython",
    "version": 3
   },
   "file_extension": ".py",
   "mimetype": "text/x-python",
   "name": "python",
   "nbconvert_exporter": "python",
   "pygments_lexer": "ipython3",
   "version": "3.8.5"
  }
 },
 "nbformat": 4,
 "nbformat_minor": 4
}
