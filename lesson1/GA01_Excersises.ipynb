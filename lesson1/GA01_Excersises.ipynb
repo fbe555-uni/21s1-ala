{
 "cells": [
  {
   "cell_type": "markdown",
   "metadata": {},
   "source": [
    "#### ETALA lesson 1\n",
    "Excersises:\n",
    "===========\n",
    "\n",
    "* __Chapter 1.1:__ 7, 11, 13, 19, 23, 24\n",
    "* __Chapter 1.2:__ 1, 7, 9, 11, 23-26, 33\n",
    "* __Chapter 1.3:__ 1, 5, 11, 17, 24, 25\n"
   ]
  },
  {
   "cell_type": "markdown",
   "metadata": {},
   "source": [
    "In Exercises 7–10, the augmented matrix of a linear system has been reduced by row operations to the form shown.  \n",
    "In each case, continue the appropriate row operations and describe the solutionset of the original system:  \n",
    "#### 7:\n",
    "\n"
   ]
  },
  {
   "cell_type": "code",
   "execution_count": 23,
   "metadata": {
    "jupyter": {
     "source_hidden": true
    }
   },
   "outputs": [
    {
     "data": {
      "text/html": [
       "<html><script type=\"math/tex; mode=display\">\\newcommand{\\Bold}[1]{\\mathbf{#1}}\\verb|A|\\phantom{\\verb!x!}\\verb|=| \\left(\\begin{array}{rrrr}\n",
       "1 & 7 & 3 & -4 \\\\\n",
       "0 & 1 & -1 & 3 \\\\\n",
       "0 & 0 & 0 & 1 \\\\\n",
       "0 & 0 & 1 & -2\n",
       "\\end{array}\\right)</script></html>"
      ],
      "text/latex": [
       "\\begin{math}\n",
       "\\newcommand{\\Bold}[1]{\\mathbf{#1}}\\verb|A|\\phantom{\\verb!x!}\\verb|=| \\left(\\begin{array}{rrrr}\n",
       "1 & 7 & 3 & -4 \\\\\n",
       "0 & 1 & -1 & 3 \\\\\n",
       "0 & 0 & 0 & 1 \\\\\n",
       "0 & 0 & 1 & -2\n",
       "\\end{array}\\right)\n",
       "\\end{math}"
      ],
      "text/plain": [
       "'A = ' [ 1  7  3 -4]\n",
       "[ 0  1 -1  3]\n",
       "[ 0  0  0  1]\n",
       "[ 0  0  1 -2]"
      ]
     },
     "metadata": {},
     "output_type": "display_data"
    }
   ],
   "source": [
    "A = Matrix([[1, 7, 3, -4], [0, 1, -1, 3], [0, 0, 0, 1], [0, 0, 1, -2]])\n",
    "show('A = ', A)"
   ]
  },
  {
   "cell_type": "markdown",
   "metadata": {},
   "source": [
    "Since the third row is $[0, 0, 0, 1]$, there can be no solution to this system of equation, since $0=1$ can never be satisfied."
   ]
  },
  {
   "cell_type": "markdown",
   "metadata": {},
   "source": [
    "#### 11:"
   ]
  },
  {
   "cell_type": "code",
   "execution_count": null,
   "metadata": {},
   "outputs": [],
   "source": []
  },
  {
   "cell_type": "code",
   "execution_count": null,
   "metadata": {},
   "outputs": [],
   "source": []
  }
 ],
 "metadata": {
  "hide_input": false,
  "kernelspec": {
   "display_name": "SageMath 9.2",
   "language": "sage",
   "name": "sagemath"
  },
  "language_info": {
   "codemirror_mode": {
    "name": "ipython",
    "version": 3
   },
   "file_extension": ".py",
   "mimetype": "text/x-python",
   "name": "python",
   "nbconvert_exporter": "python",
   "pygments_lexer": "ipython3",
   "version": "3.8.5"
  }
 },
 "nbformat": 4,
 "nbformat_minor": 4
}
