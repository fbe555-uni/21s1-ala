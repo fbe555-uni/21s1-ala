{
 "cells": [
  {
   "cell_type": "code",
   "execution_count": 3,
   "metadata": {
    "hide_input": true,
    "init_cell": true
   },
   "outputs": [],
   "source": [
    "load('../etala_utilities.sage')"
   ]
  },
  {
   "cell_type": "markdown",
   "metadata": {},
   "source": [
    "### F21-ETALA Lesson 4 Group Assignments\n",
    "# Exercises:"
   ]
  },
  {
   "cell_type": "markdown",
   "metadata": {},
   "source": [
    "## Chapter 3.1\n",
    "problems: 1, 2, 9, 10, (41 optional), 45"
   ]
  },
  {
   "cell_type": "markdown",
   "metadata": {},
   "source": [
    "### Problem 1, 2\n",
    "Compute the determinant using a cofactor expansion across the first row, and by a cofactor expansion down the second column"
   ]
  },
  {
   "cell_type": "markdown",
   "metadata": {
    "variables": {
     "LMatrix([[3, 0, 4], [2, 3, 2], [0, 5, -1]], 'mat', hidden=True)": "<p><strong>NameError</strong>: name &#39;LMatrix&#39; is not defined</p>\n"
    }
   },
   "source": [
    "#### Problem 1:\n",
    "{{LMatrix([[3, 0, 4], [2, 3, 2], [0, 5, -1]], 'mat', hidden=True)}}"
   ]
  },
  {
   "cell_type": "markdown",
   "metadata": {
    "variables": {
     "r'<span class=\"MathJax_Preview\" style=\"color: inherit;\"><span class=\"MJXp-math MJXp-display\" id=\"MJXp-Span-122\"><span class=\"MJXp-mrow\" id=\"MJXp-Span-123\"></span></span></span><div class=\"MathJax_Display MathJax_Processing\"><span class=\"MathJax\" id=\"MathJax-Element-2-Frame\" tabindex=\"0\"></span></div><script type=\"math/tex; mode=display\" id=\"MathJax-Element-2\">{}</script>'.format(LCofactorDeterminant(mat, row=0))": "<p><strong>NameError</strong>: name &#39;LCofactorDeterminant&#39; is not defined</p>\n",
     "r'<span class=\"MathJax_Preview\" style=\"color: inherit;\"><span class=\"MJXp-math MJXp-display\" id=\"MJXp-Span-124\"><span class=\"MJXp-mrow\" id=\"MJXp-Span-125\"></span></span></span><div class=\"MathJax_Display MathJax_Processing\"><span class=\"MathJax\" id=\"MathJax-Element-3-Frame\" tabindex=\"0\"></span></div><script type=\"math/tex; mode=display\" id=\"MathJax-Element-3\">{}</script>'.format(LCofactorDeterminant(mat, column=1))": "<p><strong>NameError</strong>: name &#39;LCofactorDeterminant&#39; is not defined</p>\n"
    }
   },
   "source": [
    "Using the definition  \n",
    "$$ |A| = \\begin{cases}  \\sum_{j = 1}^n{a_{ij} \\cdot C_{ij}} =  \\sum_{j = 1}^n{a_{ij} \\cdot (-1)^{i+j} \\cdot |A_{ij}|} \\\\ \\sum_{i = 1}^n{a_{ij} \\cdot C_{ij}} =  \\sum_{i = 1}^n{a_{ij} \\cdot (-1)^{i+j} \\cdot |A_{ij}|} \\end{cases} $$  \n",
    "The determinant can be determined by the first row as:  \n",
    "{{r'$${}$$'.format(LCofactorDeterminant(mat, row=0))}}  \n",
    "or by the second column as  \n",
    "{{r'$${}$$'.format(LCofactorDeterminant(mat, column=1))}}  "
   ]
  },
  {
   "cell_type": "markdown",
   "metadata": {
    "variables": {
     "LMatrix([[0, 4, 1], [5, -3, 0], [2, 3, 1]], 'mat', hidden=True)": "<p><strong>NameError</strong>: name &#39;LMatrix&#39; is not defined</p>\n"
    }
   },
   "source": [
    "#### Problem 2:\n",
    "{{LMatrix([[0, 4, 1], [5, -3, 0], [2, 3, 1]], 'mat', hidden=True)}}"
   ]
  },
  {
   "cell_type": "markdown",
   "metadata": {
    "variables": {
     "r'<span class=\"MathJax_Preview\" style=\"color: inherit;\"><span class=\"MJXp-math MJXp-display\" id=\"MJXp-Span-126\"><span class=\"MJXp-mrow\" id=\"MJXp-Span-127\"></span></span></span><div class=\"MathJax_Display MathJax_Processing\"><span class=\"MathJax\" id=\"MathJax-Element-4-Frame\" tabindex=\"0\"></span></div><script type=\"math/tex; mode=display\" id=\"MathJax-Element-4\">{}</script>'.format(LCofactorDeterminant(mat, row=0))": "<p><strong>NameError</strong>: name &#39;LCofactorDeterminant&#39; is not defined</p>\n",
     "r'<span class=\"MathJax_Preview\" style=\"color: inherit;\"><span class=\"MJXp-math MJXp-display\" id=\"MJXp-Span-128\"><span class=\"MJXp-mrow\" id=\"MJXp-Span-129\"></span></span></span><div class=\"MathJax_Display MathJax_Processing\"><span class=\"MathJax\" id=\"MathJax-Element-5-Frame\" tabindex=\"0\"></span></div><script type=\"math/tex; mode=display\" id=\"MathJax-Element-5\">{}</script>'.format(LCofactorDeterminant(mat, column=1))": "<p><strong>NameError</strong>: name &#39;LCofactorDeterminant&#39; is not defined</p>\n"
    }
   },
   "source": [
    "By the same method as above:   \n",
    "The determinant can be determined by the first row as:  \n",
    "{{r'$${}$$'.format(LCofactorDeterminant(mat, row=0))}}  \n",
    "or by the second column as  \n",
    "{{r'$${}$$'.format(LCofactorDeterminant(mat, column=1))}}  "
   ]
  },
  {
   "cell_type": "markdown",
   "metadata": {},
   "source": [
    "### Problem 9, 10\n",
    "Compute the determinants by cofactor expansions. At each step, choose a row or column that involves the least\n",
    "amount of computation."
   ]
  },
  {
   "cell_type": "markdown",
   "metadata": {
    "variables": {
     " LMatrix([[4,0,0,5],[1,7,2,-5],[3,0,0,0],[8,3,1,7]], 'mat', hidden=True) ": "<p><strong>NameError</strong>: name &#39;LMatrix&#39; is not defined</p>\n"
    }
   },
   "source": [
    "#### Problem 9\n",
    "{{ LMatrix([[4,0,0,5],[1,7,2,-5],[3,0,0,0],[8,3,1,7]], 'mat', hidden=True) }}"
   ]
  },
  {
   "cell_type": "markdown",
   "metadata": {
    "variables": {
     "'<span class=\"MathJax_Preview\" style=\"color: inherit;\"><span class=\"MJXp-math\" id=\"MJXp-Span-130\"><span class=\"MJXp-msup\" id=\"MJXp-Span-131\"><span class=\"MJXp-mi\" id=\"MJXp-Span-132\" style=\"margin-right: 0.05em;\"></span><span class=\"MJXp-mo MJXp-script\" id=\"MJXp-Span-133\" style=\"vertical-align: 0.4em;\">′</span></span><span class=\"MJXp-mo\" id=\"MJXp-Span-134\" style=\"margin-left: 0.267em; margin-right: 0.267em;\">+</span><span class=\"MJXp-mi MJXp-italic\" id=\"MJXp-Span-135\">L</span><span class=\"MJXp-mi MJXp-italic\" id=\"MJXp-Span-136\">C</span><span class=\"MJXp-mi MJXp-italic\" id=\"MJXp-Span-137\">o</span><span class=\"MJXp-mi MJXp-italic\" id=\"MJXp-Span-138\">f</span><span class=\"MJXp-mi MJXp-italic\" id=\"MJXp-Span-139\">a</span><span class=\"MJXp-mi MJXp-italic\" id=\"MJXp-Span-140\">c</span><span class=\"MJXp-mi MJXp-italic\" id=\"MJXp-Span-141\">t</span><span class=\"MJXp-mi MJXp-italic\" id=\"MJXp-Span-142\">o</span><span class=\"MJXp-mi MJXp-italic\" id=\"MJXp-Span-143\">r</span><span class=\"MJXp-mi MJXp-italic\" id=\"MJXp-Span-144\">D</span><span class=\"MJXp-mi MJXp-italic\" id=\"MJXp-Span-145\">e</span><span class=\"MJXp-mi MJXp-italic\" id=\"MJXp-Span-146\">t</span><span class=\"MJXp-mi MJXp-italic\" id=\"MJXp-Span-147\">e</span><span class=\"MJXp-mi MJXp-italic\" id=\"MJXp-Span-148\">r</span><span class=\"MJXp-mi MJXp-italic\" id=\"MJXp-Span-149\">m</span><span class=\"MJXp-mi MJXp-italic\" id=\"MJXp-Span-150\">i</span><span class=\"MJXp-mi MJXp-italic\" id=\"MJXp-Span-151\">n</span><span class=\"MJXp-mi MJXp-italic\" id=\"MJXp-Span-152\">a</span><span class=\"MJXp-mi MJXp-italic\" id=\"MJXp-Span-153\">n</span><span class=\"MJXp-mi MJXp-italic\" id=\"MJXp-Span-154\">t</span><span class=\"MJXp-mo\" id=\"MJXp-Span-155\" style=\"margin-left: 0em; margin-right: 0em;\">(</span><span class=\"MJXp-mi MJXp-italic\" id=\"MJXp-Span-156\">m</span><span class=\"MJXp-mi MJXp-italic\" id=\"MJXp-Span-157\">a</span><span class=\"MJXp-mi MJXp-italic\" id=\"MJXp-Span-158\">t</span><span class=\"MJXp-mo\" id=\"MJXp-Span-159\" style=\"margin-left: 0em; margin-right: 0.222em;\">,</span><span class=\"MJXp-mi MJXp-italic\" id=\"MJXp-Span-160\">r</span><span class=\"MJXp-mi MJXp-italic\" id=\"MJXp-Span-161\">o</span><span class=\"MJXp-mi MJXp-italic\" id=\"MJXp-Span-162\">w</span><span class=\"MJXp-mo\" id=\"MJXp-Span-163\" style=\"margin-left: 0.333em; margin-right: 0.333em;\">=</span><span class=\"MJXp-mn\" id=\"MJXp-Span-164\">2</span><span class=\"MJXp-mo\" id=\"MJXp-Span-165\" style=\"margin-left: 0em; margin-right: 0em;\">)</span><span class=\"MJXp-msup\" id=\"MJXp-Span-166\"><span class=\"MJXp-mo\" id=\"MJXp-Span-167\" style=\"margin-left: 0.267em; margin-right: 0.05em;\">+</span><span class=\"MJXp-mo MJXp-script\" id=\"MJXp-Span-168\" style=\"vertical-align: 0.5em;\">′</span></span></span></span><span class=\"MathJax MathJax_Processing\" id=\"MathJax-Element-6-Frame\" tabindex=\"0\"></span><script type=\"math/tex\" id=\"MathJax-Element-6\">' + LCofactorDeterminant(mat, row=2) + '</script>'": "<p><strong>NameError</strong>: name &#39;LCofactorDeterminant&#39; is not defined</p>\n",
     "'<span class=\"MathJax_Preview\" style=\"color: inherit;\"><span class=\"MJXp-math\" id=\"MJXp-Span-169\"><span class=\"MJXp-msup\" id=\"MJXp-Span-170\"><span class=\"MJXp-mi\" id=\"MJXp-Span-171\" style=\"margin-right: 0.05em;\"></span><span class=\"MJXp-mo MJXp-script\" id=\"MJXp-Span-172\" style=\"vertical-align: 0.4em;\">′</span></span><span class=\"MJXp-mo\" id=\"MJXp-Span-173\" style=\"margin-left: 0.267em; margin-right: 0.267em;\">+</span><span class=\"MJXp-mi MJXp-italic\" id=\"MJXp-Span-174\">L</span><span class=\"MJXp-mi MJXp-italic\" id=\"MJXp-Span-175\">C</span><span class=\"MJXp-mi MJXp-italic\" id=\"MJXp-Span-176\">o</span><span class=\"MJXp-mi MJXp-italic\" id=\"MJXp-Span-177\">f</span><span class=\"MJXp-mi MJXp-italic\" id=\"MJXp-Span-178\">a</span><span class=\"MJXp-mi MJXp-italic\" id=\"MJXp-Span-179\">c</span><span class=\"MJXp-mi MJXp-italic\" id=\"MJXp-Span-180\">t</span><span class=\"MJXp-mi MJXp-italic\" id=\"MJXp-Span-181\">o</span><span class=\"MJXp-mi MJXp-italic\" id=\"MJXp-Span-182\">r</span><span class=\"MJXp-mi MJXp-italic\" id=\"MJXp-Span-183\">D</span><span class=\"MJXp-mi MJXp-italic\" id=\"MJXp-Span-184\">e</span><span class=\"MJXp-mi MJXp-italic\" id=\"MJXp-Span-185\">t</span><span class=\"MJXp-mi MJXp-italic\" id=\"MJXp-Span-186\">e</span><span class=\"MJXp-mi MJXp-italic\" id=\"MJXp-Span-187\">r</span><span class=\"MJXp-mi MJXp-italic\" id=\"MJXp-Span-188\">m</span><span class=\"MJXp-mi MJXp-italic\" id=\"MJXp-Span-189\">i</span><span class=\"MJXp-mi MJXp-italic\" id=\"MJXp-Span-190\">n</span><span class=\"MJXp-mi MJXp-italic\" id=\"MJXp-Span-191\">a</span><span class=\"MJXp-mi MJXp-italic\" id=\"MJXp-Span-192\">n</span><span class=\"MJXp-mi MJXp-italic\" id=\"MJXp-Span-193\">t</span><span class=\"MJXp-mo\" id=\"MJXp-Span-194\" style=\"margin-left: 0em; margin-right: 0em;\">(</span><span class=\"MJXp-mi MJXp-italic\" id=\"MJXp-Span-195\">s</span><span class=\"MJXp-mi MJXp-italic\" id=\"MJXp-Span-196\">u</span><span class=\"MJXp-mi MJXp-italic\" id=\"MJXp-Span-197\">b</span><span class=\"MJXp-mi MJXp-italic\" id=\"MJXp-Span-198\">m</span><span class=\"MJXp-mi MJXp-italic\" id=\"MJXp-Span-199\">a</span><span class=\"MJXp-mi MJXp-italic\" id=\"MJXp-Span-200\">t</span><span class=\"MJXp-mi MJXp-italic\" id=\"MJXp-Span-201\">r</span><span class=\"MJXp-mi MJXp-italic\" id=\"MJXp-Span-202\">i</span><span class=\"MJXp-mi MJXp-italic\" id=\"MJXp-Span-203\">x</span><span class=\"MJXp-mo\" id=\"MJXp-Span-204\" style=\"margin-left: 0em; margin-right: 0em;\">(</span><span class=\"MJXp-mi MJXp-italic\" id=\"MJXp-Span-205\">m</span><span class=\"MJXp-mi MJXp-italic\" id=\"MJXp-Span-206\">a</span><span class=\"MJXp-mi MJXp-italic\" id=\"MJXp-Span-207\">t</span><span class=\"MJXp-mo\" id=\"MJXp-Span-208\" style=\"margin-left: 0em; margin-right: 0.222em;\">,</span><span class=\"MJXp-mn\" id=\"MJXp-Span-209\">2</span><span class=\"MJXp-mo\" id=\"MJXp-Span-210\" style=\"margin-left: 0em; margin-right: 0.222em;\">,</span><span class=\"MJXp-mn\" id=\"MJXp-Span-211\">0</span><span class=\"MJXp-mo\" id=\"MJXp-Span-212\" style=\"margin-left: 0em; margin-right: 0em;\">)</span><span class=\"MJXp-mo\" id=\"MJXp-Span-213\" style=\"margin-left: 0em; margin-right: 0.222em;\">,</span><span class=\"MJXp-mi MJXp-italic\" id=\"MJXp-Span-214\">r</span><span class=\"MJXp-mi MJXp-italic\" id=\"MJXp-Span-215\">o</span><span class=\"MJXp-mi MJXp-italic\" id=\"MJXp-Span-216\">w</span><span class=\"MJXp-mo\" id=\"MJXp-Span-217\" style=\"margin-left: 0.333em; margin-right: 0.333em;\">=</span><span class=\"MJXp-mn\" id=\"MJXp-Span-218\">0</span><span class=\"MJXp-mo\" id=\"MJXp-Span-219\" style=\"margin-left: 0em; margin-right: 0em;\">)</span><span class=\"MJXp-msup\" id=\"MJXp-Span-220\"><span class=\"MJXp-mo\" id=\"MJXp-Span-221\" style=\"margin-left: 0.267em; margin-right: 0.05em;\">+</span><span class=\"MJXp-mo MJXp-script\" id=\"MJXp-Span-222\" style=\"vertical-align: 0.5em;\">′</span></span></span></span><span class=\"MathJax MathJax_Processing\" id=\"MathJax-Element-7-Frame\" tabindex=\"0\"></span><script type=\"math/tex\" id=\"MathJax-Element-7\">' + LCofactorDeterminant(submatrix(mat, 2, 0), row=0) + '</script>'": "<p><strong>NameError</strong>: name &#39;LCofactorDeterminant&#39; is not defined</p>\n",
     "r'<span class=\"MathJax_Preview\" style=\"color: inherit;\"><span class=\"MJXp-math\" id=\"MJXp-Span-223\"><span class=\"MJXp-mrow\" id=\"MJXp-Span-224\"><span class=\"MJXp-mo\" id=\"MJXp-Span-225\" style=\"margin-left: 0em; margin-right: 0em;\">|</span><span class=\"MJXp-mrow\" id=\"MJXp-Span-226\"></span><span class=\"MJXp-mo\" id=\"MJXp-Span-227\" style=\"margin-left: 0em; margin-right: 0em;\">|</span></span><span class=\"MJXp-mo\" id=\"MJXp-Span-228\" style=\"margin-left: 0.333em; margin-right: 0.333em;\">=</span><span class=\"MJXp-mn\" id=\"MJXp-Span-229\">3</span><span class=\"MJXp-mo\" id=\"MJXp-Span-230\" style=\"margin-left: 0.267em; margin-right: 0.267em;\">⋅</span><span class=\"MJXp-mn\" id=\"MJXp-Span-231\">5</span><span class=\"MJXp-mo\" id=\"MJXp-Span-232\" style=\"margin-left: 0.333em; margin-right: 0.333em;\">=</span><span class=\"MJXp-mn\" id=\"MJXp-Span-233\">15</span></span></span><span class=\"MathJax MathJax_Processing\" id=\"MathJax-Element-8-Frame\" tabindex=\"0\"></span><script type=\"math/tex\" id=\"MathJax-Element-8\"> \\left| {} \\right| = 3 \\cdot 5 = 15 </script>'.format(LMatrix(mat))": "<p><strong>NameError</strong>: name &#39;LMatrix&#39; is not defined</p>\n"
    }
   },
   "source": [
    "Since the third row has three zeros, start by expanding from that:  \n",
    "{{'$' + LCofactorDeterminant(mat, row=2) + '$'}}  \n",
    "now since there are two zeros in the first row:  \n",
    "{{'$' + LCofactorDeterminant(submatrix(mat, 2, 0), row=0) + '$'}}  \n",
    "now substituting back into the first equation that means  \n",
    "{{r'$ \\left| {} \\right| = 3 \\cdot 5 = 15 $'.format(LMatrix(mat))}}\n",
    "\n"
   ]
  },
  {
   "cell_type": "markdown",
   "metadata": {
    "variables": {
     " LMatrix([[1,-2,5,2],[0,0,3,0],[2,-4,-3,5],[2,0,3,5]], 'mat', hidden=True) ": "<p><strong>NameError</strong>: name &#39;LMatrix&#39; is not defined</p>\n"
    }
   },
   "source": [
    "#### Problem 10:\n",
    "{{ LMatrix([[1,-2,5,2],[0,0,3,0],[2,-4,-3,5],[2,0,3,5]], 'mat', hidden=True) }}"
   ]
  },
  {
   "cell_type": "markdown",
   "metadata": {
    "variables": {
     "'<span class=\"MathJax_Preview\" style=\"color: inherit;\"><span class=\"MJXp-math\" id=\"MJXp-Span-234\"><span class=\"MJXp-mrow\" id=\"MJXp-Span-235\"></span></span></span><span class=\"MathJax MathJax_Processing\" id=\"MathJax-Element-9-Frame\" tabindex=\"0\"></span><script type=\"math/tex\" id=\"MathJax-Element-9\">{}</script>'.format(LCofactorDeterminant(mat, row=1))": "<p><strong>NameError</strong>: name &#39;LCofactorDeterminant&#39; is not defined</p>\n",
     "'<span class=\"MathJax_Preview\" style=\"color: inherit;\"><span class=\"MJXp-math\" id=\"MJXp-Span-236\"><span class=\"MJXp-mrow\" id=\"MJXp-Span-237\"></span></span></span><span class=\"MathJax MathJax_Processing\" id=\"MathJax-Element-10-Frame\" tabindex=\"0\"></span><script type=\"math/tex\" id=\"MathJax-Element-10\">{}</script>'.format(LCofactorDeterminant(submatrix(mat, 1, 2), row=2))": "<p><strong>NameError</strong>: name &#39;LCofactorDeterminant&#39; is not defined</p>\n",
     "r'<span class=\"MathJax_Preview\" style=\"color: inherit;\"><span class=\"MJXp-math\" id=\"MJXp-Span-238\"><span class=\"MJXp-mrow\" id=\"MJXp-Span-239\"><span class=\"MJXp-mo\" id=\"MJXp-Span-240\" style=\"margin-left: 0em; margin-right: 0em;\">|</span><span class=\"MJXp-mrow\" id=\"MJXp-Span-241\"></span><span class=\"MJXp-mo\" id=\"MJXp-Span-242\" style=\"margin-left: 0em; margin-right: 0em;\">|</span></span><span class=\"MJXp-mo\" id=\"MJXp-Span-243\" style=\"margin-left: 0.333em; margin-right: 0.333em;\">=</span><span class=\"MJXp-mn\" id=\"MJXp-Span-244\">3</span><span class=\"MJXp-mo\" id=\"MJXp-Span-245\" style=\"margin-left: 0.267em; margin-right: 0.267em;\">⋅</span><span class=\"MJXp-mo\" id=\"MJXp-Span-246\" style=\"margin-left: 0.267em; margin-right: 0.267em;\">−</span><span class=\"MJXp-mn\" id=\"MJXp-Span-247\">4</span><span class=\"MJXp-mo\" id=\"MJXp-Span-248\" style=\"margin-left: 0.333em; margin-right: 0.333em;\">=</span><span class=\"MJXp-mo\" id=\"MJXp-Span-249\" style=\"margin-left: 0.267em; margin-right: 0.267em;\">−</span><span class=\"MJXp-mn\" id=\"MJXp-Span-250\">12</span></span></span><span class=\"MathJax MathJax_Processing\" id=\"MathJax-Element-11-Frame\" tabindex=\"0\"></span><script type=\"math/tex\" id=\"MathJax-Element-11\"> \\left| {} \\right| = 3 \\cdot -4 = -12 </script>'.format(LMatrix(mat))": "<p><strong>NameError</strong>: name &#39;LMatrix&#39; is not defined</p>\n"
    }
   },
   "source": [
    "First the second row is expanded:  \n",
    "{{'${}$'.format(LCofactorDeterminant(mat, row=1))}}  \n",
    "secondly the third row:  \n",
    "{{'${}$'.format(LCofactorDeterminant(submatrix(mat, 1, 2), row=2))}}  \n",
    "substituting back into the first formula, that yields:  \n",
    "{{r'$ \\left| {} \\right| = 3 \\cdot -4 = -12 $'.format(LMatrix(mat))}}"
   ]
  },
  {
   "cell_type": "markdown",
   "metadata": {},
   "source": [
    "## Chapter 3.2\n",
    "problems: 1, 2, 5, 15-20, 25, 32, 45"
   ]
  },
  {
   "cell_type": "code",
   "execution_count": null,
   "metadata": {},
   "outputs": [],
   "source": [
    "3*(-13)+ 4*(10)"
   ]
  },
  {
   "cell_type": "code",
   "execution_count": null,
   "metadata": {},
   "outputs": [],
   "source": []
  },
  {
   "cell_type": "code",
   "execution_count": null,
   "metadata": {},
   "outputs": [],
   "source": []
  },
  {
   "cell_type": "markdown",
   "metadata": {},
   "source": [
    "## 2012Q1 exam\n",
    "### Problem 1"
   ]
  },
  {
   "cell_type": "markdown",
   "metadata": {},
   "source": [
    "## 2012Q3 exam\n",
    "### Problem 1"
   ]
  },
  {
   "cell_type": "markdown",
   "metadata": {},
   "source": []
  }
 ],
 "metadata": {
  "hide_input": false,
  "kernelspec": {
   "display_name": "SageMath 9.2",
   "language": "sage",
   "name": "sagemath"
  },
  "language_info": {
   "codemirror_mode": {
    "name": "ipython",
    "version": 3
   },
   "file_extension": ".py",
   "mimetype": "text/x-python",
   "name": "python",
   "nbconvert_exporter": "python",
   "pygments_lexer": "ipython3",
   "version": "3.8.5"
  }
 },
 "nbformat": 4,
 "nbformat_minor": 4
}
